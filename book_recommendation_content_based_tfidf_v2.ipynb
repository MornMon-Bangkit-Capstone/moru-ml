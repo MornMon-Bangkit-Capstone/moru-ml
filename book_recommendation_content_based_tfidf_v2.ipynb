{
 "cells": [
  {
   "cell_type": "code",
   "execution_count": 1,
   "metadata": {},
   "outputs": [],
   "source": [
    "import pandas as pd\n",
    "from tqdm import tqdm"
   ]
  },
  {
   "cell_type": "code",
   "execution_count": 2,
   "metadata": {},
   "outputs": [],
   "source": [
    "data_buku = pd.read_csv('data/Official.csv')"
   ]
  },
  {
   "cell_type": "code",
   "execution_count": 3,
   "metadata": {},
   "outputs": [
    {
     "data": {
      "text/html": [
       "<div>\n",
       "<style scoped>\n",
       "    .dataframe tbody tr th:only-of-type {\n",
       "        vertical-align: middle;\n",
       "    }\n",
       "\n",
       "    .dataframe tbody tr th {\n",
       "        vertical-align: top;\n",
       "    }\n",
       "\n",
       "    .dataframe thead th {\n",
       "        text-align: right;\n",
       "    }\n",
       "</style>\n",
       "<table border=\"1\" class=\"dataframe\">\n",
       "  <thead>\n",
       "    <tr style=\"text-align: right;\">\n",
       "      <th></th>\n",
       "      <th>User-ID</th>\n",
       "      <th>ISBN</th>\n",
       "      <th>Book-Rating</th>\n",
       "      <th>Book-Title</th>\n",
       "      <th>Book-Author</th>\n",
       "      <th>Year-Of-Publication</th>\n",
       "      <th>Publisher</th>\n",
       "      <th>Category ID</th>\n",
       "      <th>Category</th>\n",
       "    </tr>\n",
       "  </thead>\n",
       "  <tbody>\n",
       "    <tr>\n",
       "      <th>0</th>\n",
       "      <td>276727</td>\n",
       "      <td>0446520802</td>\n",
       "      <td>0</td>\n",
       "      <td>The Notebook</td>\n",
       "      <td>Nicholas Sparks</td>\n",
       "      <td>1996</td>\n",
       "      <td>Warner Books</td>\n",
       "      <td>22</td>\n",
       "      <td>Romance</td>\n",
       "    </tr>\n",
       "    <tr>\n",
       "      <th>1</th>\n",
       "      <td>278418</td>\n",
       "      <td>0446520802</td>\n",
       "      <td>0</td>\n",
       "      <td>The Notebook</td>\n",
       "      <td>Nicholas Sparks</td>\n",
       "      <td>1996</td>\n",
       "      <td>Warner Books</td>\n",
       "      <td>22</td>\n",
       "      <td>Romance</td>\n",
       "    </tr>\n",
       "    <tr>\n",
       "      <th>2</th>\n",
       "      <td>638</td>\n",
       "      <td>0446520802</td>\n",
       "      <td>0</td>\n",
       "      <td>The Notebook</td>\n",
       "      <td>Nicholas Sparks</td>\n",
       "      <td>1996</td>\n",
       "      <td>Warner Books</td>\n",
       "      <td>22</td>\n",
       "      <td>Romance</td>\n",
       "    </tr>\n",
       "    <tr>\n",
       "      <th>3</th>\n",
       "      <td>3363</td>\n",
       "      <td>0446520802</td>\n",
       "      <td>0</td>\n",
       "      <td>The Notebook</td>\n",
       "      <td>Nicholas Sparks</td>\n",
       "      <td>1996</td>\n",
       "      <td>Warner Books</td>\n",
       "      <td>22</td>\n",
       "      <td>Romance</td>\n",
       "    </tr>\n",
       "    <tr>\n",
       "      <th>4</th>\n",
       "      <td>7158</td>\n",
       "      <td>0446520802</td>\n",
       "      <td>10</td>\n",
       "      <td>The Notebook</td>\n",
       "      <td>Nicholas Sparks</td>\n",
       "      <td>1996</td>\n",
       "      <td>Warner Books</td>\n",
       "      <td>22</td>\n",
       "      <td>Romance</td>\n",
       "    </tr>\n",
       "  </tbody>\n",
       "</table>\n",
       "</div>"
      ],
      "text/plain": [
       "   User-ID        ISBN  Book-Rating    Book-Title      Book-Author  \\\n",
       "0   276727  0446520802            0  The Notebook  Nicholas Sparks   \n",
       "1   278418  0446520802            0  The Notebook  Nicholas Sparks   \n",
       "2      638  0446520802            0  The Notebook  Nicholas Sparks   \n",
       "3     3363  0446520802            0  The Notebook  Nicholas Sparks   \n",
       "4     7158  0446520802           10  The Notebook  Nicholas Sparks   \n",
       "\n",
       "   Year-Of-Publication     Publisher  Category ID Category  \n",
       "0                 1996  Warner Books           22  Romance  \n",
       "1                 1996  Warner Books           22  Romance  \n",
       "2                 1996  Warner Books           22  Romance  \n",
       "3                 1996  Warner Books           22  Romance  \n",
       "4                 1996  Warner Books           22  Romance  "
      ]
     },
     "execution_count": 3,
     "metadata": {},
     "output_type": "execute_result"
    }
   ],
   "source": [
    "data_buku.head()"
   ]
  },
  {
   "cell_type": "code",
   "execution_count": 4,
   "metadata": {},
   "outputs": [],
   "source": [
    "data_buku.drop([\"Category ID\", \"Year-Of-Publication\", \"Book-Rating\", \"User-ID\", \"ISBN\"], axis=1, inplace=True)"
   ]
  },
  {
   "cell_type": "code",
   "execution_count": 5,
   "metadata": {},
   "outputs": [
    {
     "data": {
      "text/html": [
       "<div>\n",
       "<style scoped>\n",
       "    .dataframe tbody tr th:only-of-type {\n",
       "        vertical-align: middle;\n",
       "    }\n",
       "\n",
       "    .dataframe tbody tr th {\n",
       "        vertical-align: top;\n",
       "    }\n",
       "\n",
       "    .dataframe thead th {\n",
       "        text-align: right;\n",
       "    }\n",
       "</style>\n",
       "<table border=\"1\" class=\"dataframe\">\n",
       "  <thead>\n",
       "    <tr style=\"text-align: right;\">\n",
       "      <th></th>\n",
       "      <th>Book-Title</th>\n",
       "      <th>Book-Author</th>\n",
       "      <th>Publisher</th>\n",
       "      <th>Category</th>\n",
       "    </tr>\n",
       "  </thead>\n",
       "  <tbody>\n",
       "    <tr>\n",
       "      <th>0</th>\n",
       "      <td>The Notebook</td>\n",
       "      <td>Nicholas Sparks</td>\n",
       "      <td>Warner Books</td>\n",
       "      <td>Romance</td>\n",
       "    </tr>\n",
       "    <tr>\n",
       "      <th>1</th>\n",
       "      <td>The Notebook</td>\n",
       "      <td>Nicholas Sparks</td>\n",
       "      <td>Warner Books</td>\n",
       "      <td>Romance</td>\n",
       "    </tr>\n",
       "    <tr>\n",
       "      <th>2</th>\n",
       "      <td>The Notebook</td>\n",
       "      <td>Nicholas Sparks</td>\n",
       "      <td>Warner Books</td>\n",
       "      <td>Romance</td>\n",
       "    </tr>\n",
       "    <tr>\n",
       "      <th>3</th>\n",
       "      <td>The Notebook</td>\n",
       "      <td>Nicholas Sparks</td>\n",
       "      <td>Warner Books</td>\n",
       "      <td>Romance</td>\n",
       "    </tr>\n",
       "    <tr>\n",
       "      <th>4</th>\n",
       "      <td>The Notebook</td>\n",
       "      <td>Nicholas Sparks</td>\n",
       "      <td>Warner Books</td>\n",
       "      <td>Romance</td>\n",
       "    </tr>\n",
       "  </tbody>\n",
       "</table>\n",
       "</div>"
      ],
      "text/plain": [
       "     Book-Title      Book-Author     Publisher Category\n",
       "0  The Notebook  Nicholas Sparks  Warner Books  Romance\n",
       "1  The Notebook  Nicholas Sparks  Warner Books  Romance\n",
       "2  The Notebook  Nicholas Sparks  Warner Books  Romance\n",
       "3  The Notebook  Nicholas Sparks  Warner Books  Romance\n",
       "4  The Notebook  Nicholas Sparks  Warner Books  Romance"
      ]
     },
     "execution_count": 5,
     "metadata": {},
     "output_type": "execute_result"
    }
   ],
   "source": [
    "data_buku.head()"
   ]
  },
  {
   "cell_type": "code",
   "execution_count": 6,
   "metadata": {},
   "outputs": [],
   "source": [
    "data_buku.drop_duplicates(subset=\"Book-Title\",inplace=True, keep=\"first\")"
   ]
  },
  {
   "cell_type": "code",
   "execution_count": 7,
   "metadata": {},
   "outputs": [
    {
     "data": {
      "text/html": [
       "<div>\n",
       "<style scoped>\n",
       "    .dataframe tbody tr th:only-of-type {\n",
       "        vertical-align: middle;\n",
       "    }\n",
       "\n",
       "    .dataframe tbody tr th {\n",
       "        vertical-align: top;\n",
       "    }\n",
       "\n",
       "    .dataframe thead th {\n",
       "        text-align: right;\n",
       "    }\n",
       "</style>\n",
       "<table border=\"1\" class=\"dataframe\">\n",
       "  <thead>\n",
       "    <tr style=\"text-align: right;\">\n",
       "      <th></th>\n",
       "      <th>Book-Title</th>\n",
       "      <th>Book-Author</th>\n",
       "      <th>Publisher</th>\n",
       "      <th>Category</th>\n",
       "    </tr>\n",
       "  </thead>\n",
       "  <tbody>\n",
       "    <tr>\n",
       "      <th>0</th>\n",
       "      <td>The Notebook</td>\n",
       "      <td>Nicholas Sparks</td>\n",
       "      <td>Warner Books</td>\n",
       "      <td>Romance</td>\n",
       "    </tr>\n",
       "    <tr>\n",
       "      <th>116</th>\n",
       "      <td>A Painted House</td>\n",
       "      <td>JOHN GRISHAM</td>\n",
       "      <td>Doubleday</td>\n",
       "      <td>Mystery, Thriller &amp; Suspense</td>\n",
       "    </tr>\n",
       "    <tr>\n",
       "      <th>300</th>\n",
       "      <td>Lightning</td>\n",
       "      <td>Dean R. Koontz</td>\n",
       "      <td>Berkley Publishing Group</td>\n",
       "      <td>Business &amp; Money</td>\n",
       "    </tr>\n",
       "    <tr>\n",
       "      <th>434</th>\n",
       "      <td>Waiting to Exhale</td>\n",
       "      <td>Terry McMillan</td>\n",
       "      <td>Pocket</td>\n",
       "      <td>Literature &amp; Fiction</td>\n",
       "    </tr>\n",
       "    <tr>\n",
       "      <th>522</th>\n",
       "      <td>Apricots on the Nile: A Memoir with Recipes</td>\n",
       "      <td>Colette Rossant</td>\n",
       "      <td>Bloomsbury Publishing Plc</td>\n",
       "      <td>Cookbooks, Food &amp; Wine</td>\n",
       "    </tr>\n",
       "  </tbody>\n",
       "</table>\n",
       "</div>"
      ],
      "text/plain": [
       "                                      Book-Title      Book-Author  \\\n",
       "0                                   The Notebook  Nicholas Sparks   \n",
       "116                              A Painted House     JOHN GRISHAM   \n",
       "300                                    Lightning   Dean R. Koontz   \n",
       "434                            Waiting to Exhale   Terry McMillan   \n",
       "522  Apricots on the Nile: A Memoir with Recipes  Colette Rossant   \n",
       "\n",
       "                     Publisher                      Category  \n",
       "0                 Warner Books                       Romance  \n",
       "116                  Doubleday  Mystery, Thriller & Suspense  \n",
       "300   Berkley Publishing Group              Business & Money  \n",
       "434                     Pocket          Literature & Fiction  \n",
       "522  Bloomsbury Publishing Plc        Cookbooks, Food & Wine  "
      ]
     },
     "execution_count": 7,
     "metadata": {},
     "output_type": "execute_result"
    }
   ],
   "source": [
    "data_buku.head()"
   ]
  },
  {
   "cell_type": "code",
   "execution_count": 8,
   "metadata": {},
   "outputs": [
    {
     "name": "stdout",
     "output_type": "stream",
     "text": [
      "<class 'pandas.core.frame.DataFrame'>\n",
      "Int64Index: 7728 entries, 0 to 96492\n",
      "Data columns (total 4 columns):\n",
      " #   Column       Non-Null Count  Dtype \n",
      "---  ------       --------------  ----- \n",
      " 0   Book-Title   7728 non-null   object\n",
      " 1   Book-Author  7728 non-null   object\n",
      " 2   Publisher    7728 non-null   object\n",
      " 3   Category     7728 non-null   object\n",
      "dtypes: object(4)\n",
      "memory usage: 301.9+ KB\n"
     ]
    }
   ],
   "source": [
    "data_buku.info()"
   ]
  },
  {
   "cell_type": "code",
   "execution_count": 9,
   "metadata": {},
   "outputs": [],
   "source": [
    "data_buku['book_title_list'] = data_buku['Book-Title'].str.lower()\n",
    "data_buku['book_author_list'] = data_buku[\"Book-Author\"].str.lower()\n",
    "data_buku['publiser_list'] = data_buku[\"Publisher\"].str.lower()\n",
    "data_buku['category_list'] = data_buku[\"Category\"].str.lower()"
   ]
  },
  {
   "cell_type": "code",
   "execution_count": 10,
   "metadata": {},
   "outputs": [
    {
     "data": {
      "text/plain": [
       "0                             romance\n",
       "116      mystery, thriller & suspense\n",
       "300                  business & money\n",
       "434              literature & fiction\n",
       "522            cookbooks, food & wine\n",
       "                     ...             \n",
       "96486              arts & photography\n",
       "96487          cookbooks, food & wine\n",
       "96489          cookbooks, food & wine\n",
       "96491       science fiction & fantasy\n",
       "96492                          travel\n",
       "Name: category_list, Length: 7728, dtype: object"
      ]
     },
     "execution_count": 10,
     "metadata": {},
     "output_type": "execute_result"
    }
   ],
   "source": [
    "data_buku['category_list']"
   ]
  },
  {
   "cell_type": "code",
   "execution_count": 11,
   "metadata": {},
   "outputs": [],
   "source": [
    "data_buku['category_list'] = data_buku['Category'].apply(lambda x:x.replace(\"'\", \"\").replace(\"[\",\n",
    "\"\").replace(\"]\", \"\"))\n",
    "data_buku['category_list'] = data_buku.category_list.apply(lambda x: x.split(', '))"
   ]
  },
  {
   "cell_type": "code",
   "execution_count": 12,
   "metadata": {},
   "outputs": [],
   "source": [
    "tit = []\n",
    "for title in data_buku['book_title_list']:\n",
    "    tit.append(title)"
   ]
  },
  {
   "cell_type": "code",
   "execution_count": 13,
   "metadata": {},
   "outputs": [],
   "source": [
    "y = 0\n",
    "for i in data_buku['category_list']:\n",
    "    if isinstance(i, str):\n",
    "        data_buku['category_list'][y] = i.split(\"delimiter\")\n",
    "    y = y + 1"
   ]
  },
  {
   "cell_type": "code",
   "execution_count": 14,
   "metadata": {},
   "outputs": [],
   "source": [
    "data_buku['category_list'] = [' '.join(map(str, l)) for l in data_buku['category_list']]"
   ]
  },
  {
   "cell_type": "code",
   "execution_count": 15,
   "metadata": {},
   "outputs": [
    {
     "data": {
      "text/plain": [
       "0                            romance\n",
       "116      mystery thriller & suspense\n",
       "300                 business & money\n",
       "434             literature & fiction\n",
       "522            cookbooks food & wine\n",
       "                    ...             \n",
       "96486             arts & photography\n",
       "96487          cookbooks food & wine\n",
       "96489          cookbooks food & wine\n",
       "96491      science fiction & fantasy\n",
       "96492                         travel\n",
       "Name: category_list, Length: 7728, dtype: object"
      ]
     },
     "execution_count": 15,
     "metadata": {},
     "output_type": "execute_result"
    }
   ],
   "source": [
    "data_buku['category_list'].str.lower()"
   ]
  },
  {
   "cell_type": "code",
   "execution_count": 16,
   "metadata": {},
   "outputs": [],
   "source": [
    "data_buku['book_author_list'] = [' '.join(map(str, l)) for l in data_buku['book_author_list']]"
   ]
  },
  {
   "cell_type": "code",
   "execution_count": 17,
   "metadata": {},
   "outputs": [],
   "source": [
    "# data_buku['category_list'] = data_buku['category_list'].apply(lambda x: [x])"
   ]
  },
  {
   "cell_type": "code",
   "execution_count": 18,
   "metadata": {},
   "outputs": [
    {
     "data": {
      "text/plain": [
       "0                            Romance\n",
       "116      Mystery Thriller & Suspense\n",
       "300                 Business & Money\n",
       "434             Literature & Fiction\n",
       "522            Cookbooks Food & Wine\n",
       "                    ...             \n",
       "96486             Arts & Photography\n",
       "96487          Cookbooks Food & Wine\n",
       "96489          Cookbooks Food & Wine\n",
       "96491      Science Fiction & Fantasy\n",
       "96492                         Travel\n",
       "Name: category_list, Length: 7728, dtype: object"
      ]
     },
     "execution_count": 18,
     "metadata": {},
     "output_type": "execute_result"
    }
   ],
   "source": [
    "data_buku['category_list']"
   ]
  },
  {
   "cell_type": "code",
   "execution_count": 19,
   "metadata": {},
   "outputs": [],
   "source": [
    "data_buku['book_author_list'] = [' '.join(map(str, l)) for l in data_buku['book_author_list']]"
   ]
  },
  {
   "cell_type": "code",
   "execution_count": 20,
   "metadata": {},
   "outputs": [],
   "source": [
    "data_buku['soup'] = data_buku['book_title_list']"
   ]
  },
  {
   "cell_type": "code",
   "execution_count": 21,
   "metadata": {},
   "outputs": [],
   "source": [
    "import string\n",
    "import re\n",
    "import nltk"
   ]
  },
  {
   "cell_type": "code",
   "execution_count": 22,
   "metadata": {},
   "outputs": [
    {
     "name": "stderr",
     "output_type": "stream",
     "text": [
      "[nltk_data] Downloading package punkt to /home/iqbalf/nltk_data...\n",
      "[nltk_data]   Package punkt is already up-to-date!\n"
     ]
    }
   ],
   "source": [
    "nltk.download('punkt')\n",
    "from nltk.tokenize import word_tokenize"
   ]
  },
  {
   "cell_type": "code",
   "execution_count": 23,
   "metadata": {},
   "outputs": [],
   "source": [
    "# menghapus tab, new line, backslice, non ASCII dan incomplete URL\n",
    "data_buku['soup'] = data_buku['soup'].apply(lambda x: x.replace('\\\\t',\" \").replace('\\\\n',\"\").replace('\\\\u',\" \").replace('\\\\',\"\").replace(\"http://\", \" \").replace(\"https://\",\" \"))\n",
    "data_buku['soup'] = data_buku['soup'].apply(lambda x: x.encode('ascii', 'replace').decode('ascii'))\n",
    "data_buku['soup'] = data_buku['soup'].apply(lambda x: ' '.join(re.sub(\"([@#][A-Za-z0-9]+)|(\\w+:\\/\\/\\S+)\",\" \", x).split()))\n",
    "\n",
    " # menghapus angka\n",
    "data_buku['soup'] = data_buku['soup'].apply(lambda x: re.sub(r\"\\d+\", \"\", x))\n",
    " # replace simbol with space\n",
    "data_buku['soup'] = data_buku['soup'].apply(lambda x: x.translate({ord(c): \" \" for c in \"!@$%^&*()[]{};:,./<>?\\|`~-=_+—\"}))\n",
    " # menghapus tanda baca\n",
    "data_buku['soup'] = data_buku['soup'].apply(lambda x: x.translate(str.maketrans(\"\",\"\",string.punctuation)))\n",
    " # menghapus whitespace leading & trailing\n",
    "data_buku['soup'] = data_buku['soup'].apply(lambda x: x.strip())\n",
    "\n",
    " # mengganti multiple whitespace menjadi single whitespace\n",
    "data_buku['soup'] = data_buku['soup'].apply(lambda x: re.sub('\\s+',' ', x))\n",
    " # menghapus single char\n",
    "data_buku['soup'] = data_buku['soup'].apply(lambda x: re.sub(r\"\\b[a-zA-Z]\\b\", \"\", x))\n",
    "# NLTK word tokenize\n",
    "data_buku['soup'] = data_buku['soup'].apply(lambda x: word_tokenize(x))"
   ]
  },
  {
   "cell_type": "code",
   "execution_count": 24,
   "metadata": {},
   "outputs": [
    {
     "name": "stderr",
     "output_type": "stream",
     "text": [
      "[nltk_data] Downloading package stopwords to /home/iqbalf/nltk_data...\n",
      "[nltk_data]   Package stopwords is already up-to-date!\n"
     ]
    }
   ],
   "source": [
    "# mendownload daftar kata yang ada\n",
    "nltk.download('stopwords')\n",
    "from nltk.corpus import stopwords\n",
    "\n",
    "# memeriksa daftar kata di stopwords\n",
    "indo = stopwords.words('indonesian')\n",
    "eng = stopwords.words('english')\n",
    "\n",
    "# list stopwords bahasa indonesia\n",
    "list_stopwords = indo\n",
    "\n",
    "# menambah stopwords bahasa inggris\n",
    "list_stopwords.extend(eng)\n",
    "\n",
    "# hapus stopword pada list token\n",
    "def stopwords_removal(words):\n",
    "    return [word for word in words if word not in list_stopwords]\n",
    "\n",
    "data_buku['soup'] = data_buku['soup'].apply(stopwords_removal)"
   ]
  },
  {
   "cell_type": "code",
   "execution_count": 25,
   "metadata": {},
   "outputs": [],
   "source": [
    "# import Sastrawi package\n",
    "from Sastrawi.Stemmer.StemmerFactory import StemmerFactory\n",
    "\n",
    "\n",
    "# create stemmer\n",
    "factory = StemmerFactory()\n",
    "stemmer = factory.create_stemmer()\n",
    "\n",
    "# stemmed\n",
    "def stemmed_wrapper(term):\n",
    "    return stemmer.stem(term)\n",
    "\n",
    "term_dict = {}\n"
   ]
  },
  {
   "cell_type": "code",
   "execution_count": 26,
   "metadata": {},
   "outputs": [],
   "source": [
    "data_buku['soup'] = data_buku['soup'].replace(['bonesetters daughter'], 'bonesetter')"
   ]
  },
  {
   "cell_type": "code",
   "execution_count": 27,
   "metadata": {},
   "outputs": [
    {
     "data": {
      "text/html": [
       "<div>\n",
       "<style scoped>\n",
       "    .dataframe tbody tr th:only-of-type {\n",
       "        vertical-align: middle;\n",
       "    }\n",
       "\n",
       "    .dataframe tbody tr th {\n",
       "        vertical-align: top;\n",
       "    }\n",
       "\n",
       "    .dataframe thead th {\n",
       "        text-align: right;\n",
       "    }\n",
       "</style>\n",
       "<table border=\"1\" class=\"dataframe\">\n",
       "  <thead>\n",
       "    <tr style=\"text-align: right;\">\n",
       "      <th></th>\n",
       "      <th>Book-Title</th>\n",
       "      <th>Book-Author</th>\n",
       "      <th>Publisher</th>\n",
       "      <th>Category</th>\n",
       "      <th>book_title_list</th>\n",
       "      <th>book_author_list</th>\n",
       "      <th>publiser_list</th>\n",
       "      <th>category_list</th>\n",
       "      <th>soup</th>\n",
       "    </tr>\n",
       "  </thead>\n",
       "  <tbody>\n",
       "  </tbody>\n",
       "</table>\n",
       "</div>"
      ],
      "text/plain": [
       "Empty DataFrame\n",
       "Columns: [Book-Title, Book-Author, Publisher, Category, book_title_list, book_author_list, publiser_list, category_list, soup]\n",
       "Index: []"
      ]
     },
     "execution_count": 27,
     "metadata": {},
     "output_type": "execute_result"
    }
   ],
   "source": [
    "result = data_buku[data_buku[\"soup\"] == \"bonesetters daughter\"]\n",
    "result"
   ]
  },
  {
   "cell_type": "code",
   "execution_count": 28,
   "metadata": {},
   "outputs": [],
   "source": [
    "# for document in data_buku['soup']:\n",
    "#     for term in document:\n",
    "#         if term not in term_dict:\n",
    "#             term_dict[term] = ' '\n",
    "\n",
    "# print(len(term_dict))\n",
    "# print(\"------------------------\")\n",
    "\n",
    "# for term in term_dict:\n",
    "#     term_dict[term] = stemmed_wrapper(term)\n",
    "#     # print(term,\":\" ,term_dict[term])\n",
    "\n",
    "# print(term_dict)\n",
    "# print(\"------------------------\")\n",
    "\n",
    "# # apply stemmed term to dataframe\n",
    "# def get_stemmed_term(document):\n",
    "#     return [term_dict[term] for term in document]"
   ]
  },
  {
   "cell_type": "code",
   "execution_count": 29,
   "metadata": {},
   "outputs": [],
   "source": [
    "import swifter\n",
    "import pickle5 as pickle\n",
    "\n",
    "# data_buku['soup'] = data_buku['soup'].swifter.apply(get_stemmed_term)\n",
    "# pickle.dump(data_buku, open('model/cek1.pkl', 'wb'))\n",
    "data_buku = pickle.load(open('model/cek1.pkl', 'rb'))\n",
    "# mengubah list pada kolom soup menjadi string\n",
    "data_buku['soup'] = data_buku['soup'].agg(lambda x: ' '.join(map(str, x)))\n",
    "# menggabungkan soup sebelumnya dengan author dan genre\n"
   ]
  },
  {
   "cell_type": "code",
   "execution_count": 30,
   "metadata": {},
   "outputs": [
    {
     "name": "stdout",
     "output_type": "stream",
     "text": [
      "<class 'pandas.core.frame.DataFrame'>\n",
      "Int64Index: 7728 entries, 0 to 96492\n",
      "Data columns (total 9 columns):\n",
      " #   Column            Non-Null Count  Dtype \n",
      "---  ------            --------------  ----- \n",
      " 0   Book-Title        7728 non-null   object\n",
      " 1   Book-Author       7728 non-null   object\n",
      " 2   Publisher         7728 non-null   object\n",
      " 3   Category          7728 non-null   object\n",
      " 4   book_title_list   7728 non-null   object\n",
      " 5   book_author_list  7728 non-null   object\n",
      " 6   publiser_list     7728 non-null   object\n",
      " 7   category_list     7728 non-null   object\n",
      " 8   soup              7728 non-null   object\n",
      "dtypes: object(9)\n",
      "memory usage: 603.8+ KB\n"
     ]
    }
   ],
   "source": [
    "data_buku.info()"
   ]
  },
  {
   "cell_type": "code",
   "execution_count": 31,
   "metadata": {},
   "outputs": [
    {
     "data": {
      "text/plain": [
       "0                            Romance\n",
       "116      Mystery Thriller & Suspense\n",
       "300                 Business & Money\n",
       "434             Literature & Fiction\n",
       "522            Cookbooks Food & Wine\n",
       "                    ...             \n",
       "96486             Arts & Photography\n",
       "96487          Cookbooks Food & Wine\n",
       "96489          Cookbooks Food & Wine\n",
       "96491      Science Fiction & Fantasy\n",
       "96492                         Travel\n",
       "Name: category_list, Length: 7728, dtype: object"
      ]
     },
     "execution_count": 31,
     "metadata": {},
     "output_type": "execute_result"
    }
   ],
   "source": [
    "data_buku['category_list']"
   ]
  },
  {
   "cell_type": "code",
   "execution_count": 32,
   "metadata": {},
   "outputs": [],
   "source": [
    "# data_buku['book_author_list'] = ' '.join(str(x) for x in data_buku['book_author_list'])"
   ]
  },
  {
   "cell_type": "code",
   "execution_count": 33,
   "metadata": {},
   "outputs": [],
   "source": [
    "# data_buku['category_list'] = ' '.join(str(x) for x in data_buku['category_list'])"
   ]
  },
  {
   "cell_type": "code",
   "execution_count": 34,
   "metadata": {},
   "outputs": [
    {
     "data": {
      "text/plain": [
       "0                            romance\n",
       "116      mystery thriller & suspense\n",
       "300                 business & money\n",
       "434             literature & fiction\n",
       "522            cookbooks food & wine\n",
       "                    ...             \n",
       "96486             arts & photography\n",
       "96487          cookbooks food & wine\n",
       "96489          cookbooks food & wine\n",
       "96491      science fiction & fantasy\n",
       "96492                         travel\n",
       "Name: category_list, Length: 7728, dtype: object"
      ]
     },
     "execution_count": 34,
     "metadata": {},
     "output_type": "execute_result"
    }
   ],
   "source": [
    "data_buku['category_list'].str.lower()"
   ]
  },
  {
   "cell_type": "code",
   "execution_count": 35,
   "metadata": {},
   "outputs": [],
   "source": [
    "data_buku['category_list'] = [' '.join(map(str, l)) for l in data_buku['category_list']]"
   ]
  },
  {
   "cell_type": "code",
   "execution_count": 36,
   "metadata": {},
   "outputs": [],
   "source": [
    "data_buku['soup'] = data_buku['soup']+ \" \" + data_buku['book_author_list']"
   ]
  },
  {
   "cell_type": "code",
   "execution_count": 37,
   "metadata": {},
   "outputs": [],
   "source": [
    "data_buku['soup'] = data_buku['soup']+ \" \" + data_buku['category_list']"
   ]
  },
  {
   "cell_type": "code",
   "execution_count": 38,
   "metadata": {},
   "outputs": [],
   "source": [
    "# data_buku.to_csv('data/soup.csv', index=False)"
   ]
  },
  {
   "cell_type": "code",
   "execution_count": 39,
   "metadata": {},
   "outputs": [],
   "source": [
    "# data_buku['soup'] = data_buku['soup'] + \" \" + data_buku['category_list']"
   ]
  },
  {
   "cell_type": "code",
   "execution_count": 40,
   "metadata": {},
   "outputs": [
    {
     "name": "stderr",
     "output_type": "stream",
     "text": [
      "/home/iqbalf/.local/lib/python3.10/site-packages/sklearn/feature_extraction/text.py:409: UserWarning: Your stop_words may be inconsistent with your preprocessing. Tokenizing the stop words generated tokens ['baiknya', 'berkali', 'kali', 'kurangnya', 'mata', 'olah', 'sekurang', 'setidak', 'tama', 'tidaknya'] not in stop_words.\n",
      "  warnings.warn(\n"
     ]
    },
    {
     "data": {
      "text/plain": [
       "(7728, 8971)"
      ]
     },
     "execution_count": 40,
     "metadata": {},
     "output_type": "execute_result"
    }
   ],
   "source": [
    "# libraries for Recommendation System\n",
    "from sklearn.feature_extraction.text import TfidfVectorizer\n",
    "\n",
    "# TF-IDF Vectorizer\n",
    "tfidf = TfidfVectorizer(stop_words=list_stopwords)\n",
    "\n",
    "# membangun matriks TF-IDF\n",
    "tfidf_matrix = tfidf.fit_transform(data_buku['soup'])\n",
    "\n",
    "# output the shape of tfidf_matrix\n",
    "tfidf_matrix.shape"
   ]
  },
  {
   "cell_type": "code",
   "execution_count": 41,
   "metadata": {},
   "outputs": [],
   "source": [
    "# import linear_kernel\n",
    "from sklearn.metrics.pairwise import linear_kernel\n",
    "\n",
    "# menghitung matriks cosine similarity\n",
    "cosine_sim = linear_kernel(tfidf_matrix, tfidf_matrix)\n",
    "\n",
    "# reset index dataframe\n",
    "data_buku = data_buku.reset_index()\n",
    "titles = data_buku['Book-Title']\n",
    "\n",
    "# membuat map dari index dan judul buku\n",
    "indices = pd.Series(data_buku.index, index=data_buku['Book-Title']).drop_duplicates()"
   ]
  },
  {
   "cell_type": "code",
   "execution_count": 42,
   "metadata": {},
   "outputs": [],
   "source": [
    "def rec_tfidf(title, cosine_sim=cosine_sim):\n",
    "    recommendation = pd.DataFrame(columns = ['Book Idx', 'Title', 'Score'])\n",
    "    count = 0\n",
    "\n",
    "    idx = indices[title]\n",
    "    sim_scores = list(enumerate(cosine_sim[idx]))\n",
    "    sim_scores = sorted(sim_scores, key=lambda x: x[1], reverse=True)\n",
    "    sim_scores = sim_scores[1:6]\n",
    "    book_indices = [i[0] for i in sim_scores]\n",
    "\n",
    "    for i in book_indices:\n",
    "        recommendation.at[count, 'Book Idx'] = book_indices[count]\n",
    "        recommendation.at[count, 'Title'] = titles.iloc[book_indices[count]]\n",
    "        recommendation.at[count, 'Score'] = sim_scores[count][1]\n",
    "        count += 1\n",
    "    return recommendation"
   ]
  },
  {
   "cell_type": "code",
   "execution_count": 43,
   "metadata": {},
   "outputs": [
    {
     "data": {
      "text/html": [
       "<div>\n",
       "<style scoped>\n",
       "    .dataframe tbody tr th:only-of-type {\n",
       "        vertical-align: middle;\n",
       "    }\n",
       "\n",
       "    .dataframe tbody tr th {\n",
       "        vertical-align: top;\n",
       "    }\n",
       "\n",
       "    .dataframe thead th {\n",
       "        text-align: right;\n",
       "    }\n",
       "</style>\n",
       "<table border=\"1\" class=\"dataframe\">\n",
       "  <thead>\n",
       "    <tr style=\"text-align: right;\">\n",
       "      <th></th>\n",
       "      <th>Book Idx</th>\n",
       "      <th>Title</th>\n",
       "      <th>Score</th>\n",
       "    </tr>\n",
       "  </thead>\n",
       "  <tbody>\n",
       "    <tr>\n",
       "      <th>0</th>\n",
       "      <td>2019</td>\n",
       "      <td>The Painted Word</td>\n",
       "      <td>0.610007</td>\n",
       "    </tr>\n",
       "    <tr>\n",
       "      <th>1</th>\n",
       "      <td>979</td>\n",
       "      <td>House</td>\n",
       "      <td>0.568853</td>\n",
       "    </tr>\n",
       "    <tr>\n",
       "      <th>2</th>\n",
       "      <td>1691</td>\n",
       "      <td>The House</td>\n",
       "      <td>0.568853</td>\n",
       "    </tr>\n",
       "    <tr>\n",
       "      <th>3</th>\n",
       "      <td>4114</td>\n",
       "      <td>The Little House</td>\n",
       "      <td>0.40364</td>\n",
       "    </tr>\n",
       "    <tr>\n",
       "      <th>4</th>\n",
       "      <td>907</td>\n",
       "      <td>Open House</td>\n",
       "      <td>0.360715</td>\n",
       "    </tr>\n",
       "  </tbody>\n",
       "</table>\n",
       "</div>"
      ],
      "text/plain": [
       "  Book Idx             Title     Score\n",
       "0     2019  The Painted Word  0.610007\n",
       "1      979             House  0.568853\n",
       "2     1691         The House  0.568853\n",
       "3     4114  The Little House   0.40364\n",
       "4      907        Open House  0.360715"
      ]
     },
     "execution_count": 43,
     "metadata": {},
     "output_type": "execute_result"
    }
   ],
   "source": [
    "rec_tfidf('A Painted House')"
   ]
  },
  {
   "cell_type": "code",
   "execution_count": 44,
   "metadata": {},
   "outputs": [],
   "source": [
    "def get_recommendations(judul, jumlah):\n",
    "# Creates Series\n",
    "    judul = judul.lower()\n",
    "    judul = pd.Series(judul)\n",
    "    judul = judul.apply(lambda x: re.sub(r\"\\d+\", \"\", x))\n",
    "    judul = judul.apply(lambda x: x.translate({ord(c): \" \" for c in \"!@#$%^&*()[]{};:,./<>?\\|`~-=_+—\"}))\n",
    "    judul = judul.apply(lambda x: x.strip())\n",
    "    judul = judul.apply(lambda x: re.sub('\\s+',' ', x))\n",
    "    judul = judul.apply(lambda x: re.sub(r\"\\b[a-zA-Z]\\b\", \"\", x))\n",
    "\n",
    "    judul = judul.apply(lambda x: word_tokenize(x))\n",
    "\n",
    "    # Ambil kata kunci\n",
    "    judul = judul.to_string()\n",
    "    judul = judul[6:-1]\n",
    "    judul = re.sub(r'[^\\w\\s]', '', judul)\n",
    "    # Membaca data\n",
    "    books = data_buku\n",
    "    gnr = \"['keywords', {judul}]\"\n",
    "    data = [{'Unnamed: 0': 5143, 'Book-Title': judul, 'Book-Author': judul, 'Category': gnr,  'book_title_list': judul, 'book_author_list': judul, 'category_list': judul, 'soup': judul}]\n",
    "    # books.drop_duplicates(subset =\"title\", inplace = True)\n",
    "    # Menggabungkan database buku dengan kata kunci yang dimasukkan\n",
    "    new = pd.DataFrame(data)\n",
    "    frames = [books, new]\n",
    "    result = pd.concat(frames)\n",
    "\n",
    "    books = result.copy()\n",
    "\n",
    "    tfidf = TfidfVectorizer(stop_words=list_stopwords)\n",
    "    tfidf_matrix = tfidf.fit_transform(books['soup'])\n",
    "    cosine_sim = linear_kernel(tfidf_matrix, tfidf_matrix)\n",
    "\n",
    "    books = books.reset_index()\n",
    "    titles = books['Book-Title']\n",
    "    titles = titles.str.lower()\n",
    "    authors = books['Book-Author']\n",
    "    # Implementasi kode pada Gambar 4.7 (tanpa set genre menjadi lowercase)\n",
    "    books['Category'] = [', '.join(map(str, l)) for l in books['Category']]\n",
    "    genres = books['Category']\n",
    "    indices = pd.Series(books.index, index=titles)\n",
    "    # Memebentuk tampilan dataframe berdasarkan judul, penulis, genre dan cover\n",
    "    jumlah = int(jumlah) + 1\n",
    "    rec = pd.DataFrame(columns = ['Judul', 'Penulis', 'Genre'])\n",
    "    count = 0\n",
    "    idx = indices[judul]\n",
    "    sim_scores = list(enumerate(cosine_sim[idx]))\n",
    "    sim_scores = sorted(sim_scores, key=lambda x: x[1], reverse=True)\n",
    "    sim_scores = sim_scores[1:jumlah]\n",
    "    book_indices = [i[0] for i in sim_scores]\n",
    "    for i in book_indices:\n",
    "        rec.at[count+1, 'Judul'] = titles.iloc[book_indices[count]].title()\n",
    "        rec.at[count+1, 'Penulis'] = authors.iloc[book_indices[count]].title()\n",
    "        rec.at[count+1, 'Genre'] = genres.iloc[book_indices[count]].title()\n",
    "        count += 1\n",
    "    return rec"
   ]
  },
  {
   "cell_type": "code",
   "execution_count": 48,
   "metadata": {},
   "outputs": [
    {
     "name": "stderr",
     "output_type": "stream",
     "text": [
      "/home/iqbalf/.local/lib/python3.10/site-packages/sklearn/feature_extraction/text.py:409: UserWarning: Your stop_words may be inconsistent with your preprocessing. Tokenizing the stop words generated tokens ['baiknya', 'berkali', 'kali', 'kurangnya', 'mata', 'olah', 'sekurang', 'setidak', 'tama', 'tidaknya'] not in stop_words.\n",
      "  warnings.warn(\n"
     ]
    },
    {
     "data": {
      "text/html": [
       "<div>\n",
       "<style scoped>\n",
       "    .dataframe tbody tr th:only-of-type {\n",
       "        vertical-align: middle;\n",
       "    }\n",
       "\n",
       "    .dataframe tbody tr th {\n",
       "        vertical-align: top;\n",
       "    }\n",
       "\n",
       "    .dataframe thead th {\n",
       "        text-align: right;\n",
       "    }\n",
       "</style>\n",
       "<table border=\"1\" class=\"dataframe\">\n",
       "  <thead>\n",
       "    <tr style=\"text-align: right;\">\n",
       "      <th></th>\n",
       "      <th>Judul</th>\n",
       "      <th>Penulis</th>\n",
       "      <th>Genre</th>\n",
       "    </tr>\n",
       "  </thead>\n",
       "  <tbody>\n",
       "    <tr>\n",
       "      <th>1</th>\n",
       "      <td>Harry Potter And The Sorcerer'S Stone</td>\n",
       "      <td>J. K. Rowling</td>\n",
       "      <td>T, E, E, N,  , &amp;,  , Y, O, U, N, G,  , A, D, U...</td>\n",
       "    </tr>\n",
       "    <tr>\n",
       "      <th>2</th>\n",
       "      <td>The Hidden Key To Harry Potter: Understanding ...</td>\n",
       "      <td>John Granger</td>\n",
       "      <td>S, C, I, E, N, C, E,  , F, I, C, T, I, O, N,  ...</td>\n",
       "    </tr>\n",
       "    <tr>\n",
       "      <th>3</th>\n",
       "      <td>Harry Potter And The Prisoner Of Azkaban</td>\n",
       "      <td>J. K. Rowling</td>\n",
       "      <td>T, E, E, N,  , &amp;,  , Y, O, U, N, G,  , A, D, U...</td>\n",
       "    </tr>\n",
       "    <tr>\n",
       "      <th>4</th>\n",
       "      <td>The Science Of Harry Potter: How Magic Really ...</td>\n",
       "      <td>Roger Highfield</td>\n",
       "      <td>S, C, I, E, N, C, E,  , F, I, C, T, I, O, N,  ...</td>\n",
       "    </tr>\n",
       "    <tr>\n",
       "      <th>5</th>\n",
       "      <td>Harrius Potter Et Philosophi Lapis (Harry Pott...</td>\n",
       "      <td>J. K. Rowling</td>\n",
       "      <td>L, I, T, E, R, A, T, U, R, E,  , &amp;,  , F, I, C...</td>\n",
       "    </tr>\n",
       "  </tbody>\n",
       "</table>\n",
       "</div>"
      ],
      "text/plain": [
       "                                               Judul          Penulis  \\\n",
       "1              Harry Potter And The Sorcerer'S Stone    J. K. Rowling   \n",
       "2  The Hidden Key To Harry Potter: Understanding ...     John Granger   \n",
       "3           Harry Potter And The Prisoner Of Azkaban    J. K. Rowling   \n",
       "4  The Science Of Harry Potter: How Magic Really ...  Roger Highfield   \n",
       "5  Harrius Potter Et Philosophi Lapis (Harry Pott...    J. K. Rowling   \n",
       "\n",
       "                                               Genre  \n",
       "1  T, E, E, N,  , &,  , Y, O, U, N, G,  , A, D, U...  \n",
       "2  S, C, I, E, N, C, E,  , F, I, C, T, I, O, N,  ...  \n",
       "3  T, E, E, N,  , &,  , Y, O, U, N, G,  , A, D, U...  \n",
       "4  S, C, I, E, N, C, E,  , F, I, C, T, I, O, N,  ...  \n",
       "5  L, I, T, E, R, A, T, U, R, E,  , &,  , F, I, C...  "
      ]
     },
     "execution_count": 48,
     "metadata": {},
     "output_type": "execute_result"
    }
   ],
   "source": [
    "get_recommendations('Harry Potter', 5)"
   ]
  }
 ],
 "metadata": {
  "kernelspec": {
   "display_name": "Python 3",
   "language": "python",
   "name": "python3"
  },
  "language_info": {
   "codemirror_mode": {
    "name": "ipython",
    "version": 3
   },
   "file_extension": ".py",
   "mimetype": "text/x-python",
   "name": "python",
   "nbconvert_exporter": "python",
   "pygments_lexer": "ipython3",
   "version": "3.10.6"
  },
  "orig_nbformat": 4
 },
 "nbformat": 4,
 "nbformat_minor": 2
}
