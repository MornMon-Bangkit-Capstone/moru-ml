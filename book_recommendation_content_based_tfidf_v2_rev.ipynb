{
 "cells": [
  {
   "attachments": {},
   "cell_type": "markdown",
   "metadata": {},
   "source": [
    "> TFIDF With Data V2"
   ]
  },
  {
   "attachments": {},
   "cell_type": "markdown",
   "metadata": {},
   "source": [
    "# Data Preparation"
   ]
  },
  {
   "cell_type": "code",
   "execution_count": 27,
   "metadata": {},
   "outputs": [],
   "source": [
    "import pandas as pd"
   ]
  },
  {
   "cell_type": "code",
   "execution_count": 28,
   "metadata": {},
   "outputs": [],
   "source": [
    "data_buku = pd.read_csv('data/BooksV2.csv')"
   ]
  },
  {
   "cell_type": "code",
   "execution_count": 29,
   "metadata": {},
   "outputs": [
    {
     "name": "stdout",
     "output_type": "stream",
     "text": [
      "<class 'pandas.core.frame.DataFrame'>\n",
      "RangeIndex: 5067 entries, 0 to 5066\n",
      "Data columns (total 12 columns):\n",
      " #   Column               Non-Null Count  Dtype  \n",
      "---  ------               --------------  -----  \n",
      " 0   Unnamed: 0           5067 non-null   int64  \n",
      " 1   ISBN                 5067 non-null   object \n",
      " 2   Book-Title           5067 non-null   object \n",
      " 3   Book-Author          5067 non-null   object \n",
      " 4   Year-Of-Publication  5067 non-null   int64  \n",
      " 5   Publisher            5067 non-null   object \n",
      " 6   Image-URL-L          5067 non-null   object \n",
      " 7   Author               4918 non-null   object \n",
      " 8   Summary              5067 non-null   object \n",
      " 9   Avg-Rating           3823 non-null   float64\n",
      " 10  Count-Rating         3823 non-null   float64\n",
      " 11  Genres               5067 non-null   object \n",
      "dtypes: float64(2), int64(2), object(8)\n",
      "memory usage: 475.2+ KB\n"
     ]
    }
   ],
   "source": [
    "data_buku.info()"
   ]
  },
  {
   "cell_type": "code",
   "execution_count": 30,
   "metadata": {},
   "outputs": [
    {
     "data": {
      "text/html": [
       "<div>\n",
       "<style scoped>\n",
       "    .dataframe tbody tr th:only-of-type {\n",
       "        vertical-align: middle;\n",
       "    }\n",
       "\n",
       "    .dataframe tbody tr th {\n",
       "        vertical-align: top;\n",
       "    }\n",
       "\n",
       "    .dataframe thead th {\n",
       "        text-align: right;\n",
       "    }\n",
       "</style>\n",
       "<table border=\"1\" class=\"dataframe\">\n",
       "  <thead>\n",
       "    <tr style=\"text-align: right;\">\n",
       "      <th></th>\n",
       "      <th>Unnamed: 0</th>\n",
       "      <th>ISBN</th>\n",
       "      <th>Book-Title</th>\n",
       "      <th>Book-Author</th>\n",
       "      <th>Year-Of-Publication</th>\n",
       "      <th>Publisher</th>\n",
       "      <th>Image-URL-L</th>\n",
       "      <th>Author</th>\n",
       "      <th>Summary</th>\n",
       "      <th>Avg-Rating</th>\n",
       "      <th>Count-Rating</th>\n",
       "      <th>Genres</th>\n",
       "    </tr>\n",
       "  </thead>\n",
       "  <tbody>\n",
       "    <tr>\n",
       "      <th>0</th>\n",
       "      <td>0</td>\n",
       "      <td>0440234743</td>\n",
       "      <td>The Testament</td>\n",
       "      <td>John Grisham</td>\n",
       "      <td>1999</td>\n",
       "      <td>Dell</td>\n",
       "      <td>http://images.amazon.com/images/P/0440234743.0...</td>\n",
       "      <td>John Grisham</td>\n",
       "      <td>Troy Phelan, an eccentric elderly billionaire...</td>\n",
       "      <td>7.704142</td>\n",
       "      <td>169.0</td>\n",
       "      <td>['Thriller', 'Fiction', 'Suspense']</td>\n",
       "    </tr>\n",
       "    <tr>\n",
       "      <th>1</th>\n",
       "      <td>1</td>\n",
       "      <td>0345402871</td>\n",
       "      <td>Airframe</td>\n",
       "      <td>Michael Crichton</td>\n",
       "      <td>1997</td>\n",
       "      <td>Ballantine Books</td>\n",
       "      <td>http://images.amazon.com/images/P/0345402871.0...</td>\n",
       "      <td>Michael Crichton</td>\n",
       "      <td>The novel opens aboard Hong Kong-based Transp...</td>\n",
       "      <td>7.455696</td>\n",
       "      <td>79.0</td>\n",
       "      <td>['Science Fiction', 'Novel']</td>\n",
       "    </tr>\n",
       "    <tr>\n",
       "      <th>2</th>\n",
       "      <td>2</td>\n",
       "      <td>0345417623</td>\n",
       "      <td>Timeline</td>\n",
       "      <td>MICHAEL CRICHTON</td>\n",
       "      <td>2000</td>\n",
       "      <td>Ballantine Books</td>\n",
       "      <td>http://images.amazon.com/images/P/0345417623.0...</td>\n",
       "      <td>Michael Crichton</td>\n",
       "      <td>In the middle of the New Mexico desert, a vac...</td>\n",
       "      <td>7.851282</td>\n",
       "      <td>195.0</td>\n",
       "      <td>['Science Fiction', 'Fiction', 'Suspense']</td>\n",
       "    </tr>\n",
       "    <tr>\n",
       "      <th>3</th>\n",
       "      <td>3</td>\n",
       "      <td>0446310786</td>\n",
       "      <td>To Kill a Mockingbird</td>\n",
       "      <td>Harper Lee</td>\n",
       "      <td>1988</td>\n",
       "      <td>Little Brown &amp;amp; Company</td>\n",
       "      <td>http://images.amazon.com/images/P/0446310786.0...</td>\n",
       "      <td>Harper Lee</td>\n",
       "      <td>The book opens with the Finch family's ancest...</td>\n",
       "      <td>8.943925</td>\n",
       "      <td>214.0</td>\n",
       "      <td>['Fiction']</td>\n",
       "    </tr>\n",
       "    <tr>\n",
       "      <th>4</th>\n",
       "      <td>4</td>\n",
       "      <td>0060168013</td>\n",
       "      <td>Pigs in Heaven</td>\n",
       "      <td>Barbara Kingsolver</td>\n",
       "      <td>1993</td>\n",
       "      <td>Harpercollins</td>\n",
       "      <td>http://images.amazon.com/images/P/0060168013.0...</td>\n",
       "      <td>Barbara Kingsolver</td>\n",
       "      <td>This novel begins two years after the events ...</td>\n",
       "      <td>8.500000</td>\n",
       "      <td>24.0</td>\n",
       "      <td>['Fiction', 'Novel']</td>\n",
       "    </tr>\n",
       "  </tbody>\n",
       "</table>\n",
       "</div>"
      ],
      "text/plain": [
       "   Unnamed: 0        ISBN             Book-Title         Book-Author  \\\n",
       "0           0  0440234743          The Testament        John Grisham   \n",
       "1           1  0345402871               Airframe    Michael Crichton   \n",
       "2           2  0345417623               Timeline    MICHAEL CRICHTON   \n",
       "3           3  0446310786  To Kill a Mockingbird          Harper Lee   \n",
       "4           4  0060168013         Pigs in Heaven  Barbara Kingsolver   \n",
       "\n",
       "   Year-Of-Publication                   Publisher  \\\n",
       "0                 1999                        Dell   \n",
       "1                 1997            Ballantine Books   \n",
       "2                 2000            Ballantine Books   \n",
       "3                 1988  Little Brown &amp; Company   \n",
       "4                 1993               Harpercollins   \n",
       "\n",
       "                                         Image-URL-L              Author  \\\n",
       "0  http://images.amazon.com/images/P/0440234743.0...        John Grisham   \n",
       "1  http://images.amazon.com/images/P/0345402871.0...    Michael Crichton   \n",
       "2  http://images.amazon.com/images/P/0345417623.0...    Michael Crichton   \n",
       "3  http://images.amazon.com/images/P/0446310786.0...          Harper Lee   \n",
       "4  http://images.amazon.com/images/P/0060168013.0...  Barbara Kingsolver   \n",
       "\n",
       "                                             Summary  Avg-Rating  \\\n",
       "0   Troy Phelan, an eccentric elderly billionaire...    7.704142   \n",
       "1   The novel opens aboard Hong Kong-based Transp...    7.455696   \n",
       "2   In the middle of the New Mexico desert, a vac...    7.851282   \n",
       "3   The book opens with the Finch family's ancest...    8.943925   \n",
       "4   This novel begins two years after the events ...    8.500000   \n",
       "\n",
       "   Count-Rating                                      Genres  \n",
       "0         169.0         ['Thriller', 'Fiction', 'Suspense']  \n",
       "1          79.0                ['Science Fiction', 'Novel']  \n",
       "2         195.0  ['Science Fiction', 'Fiction', 'Suspense']  \n",
       "3         214.0                                 ['Fiction']  \n",
       "4          24.0                        ['Fiction', 'Novel']  "
      ]
     },
     "execution_count": 30,
     "metadata": {},
     "output_type": "execute_result"
    }
   ],
   "source": [
    "data_buku.head()"
   ]
  },
  {
   "cell_type": "code",
   "execution_count": 31,
   "metadata": {},
   "outputs": [],
   "source": [
    "data_buku.drop([ \"Unnamed: 0\", \"Year-Of-Publication\", \"Image-URL-L\", \"ISBN\", \"Avg-Rating\", \"Count-Rating\"], axis=1, inplace=True)"
   ]
  },
  {
   "cell_type": "code",
   "execution_count": 32,
   "metadata": {},
   "outputs": [
    {
     "data": {
      "text/html": [
       "<div>\n",
       "<style scoped>\n",
       "    .dataframe tbody tr th:only-of-type {\n",
       "        vertical-align: middle;\n",
       "    }\n",
       "\n",
       "    .dataframe tbody tr th {\n",
       "        vertical-align: top;\n",
       "    }\n",
       "\n",
       "    .dataframe thead th {\n",
       "        text-align: right;\n",
       "    }\n",
       "</style>\n",
       "<table border=\"1\" class=\"dataframe\">\n",
       "  <thead>\n",
       "    <tr style=\"text-align: right;\">\n",
       "      <th></th>\n",
       "      <th>Book-Title</th>\n",
       "      <th>Book-Author</th>\n",
       "      <th>Publisher</th>\n",
       "      <th>Author</th>\n",
       "      <th>Summary</th>\n",
       "      <th>Genres</th>\n",
       "    </tr>\n",
       "  </thead>\n",
       "  <tbody>\n",
       "    <tr>\n",
       "      <th>0</th>\n",
       "      <td>The Testament</td>\n",
       "      <td>John Grisham</td>\n",
       "      <td>Dell</td>\n",
       "      <td>John Grisham</td>\n",
       "      <td>Troy Phelan, an eccentric elderly billionaire...</td>\n",
       "      <td>['Thriller', 'Fiction', 'Suspense']</td>\n",
       "    </tr>\n",
       "    <tr>\n",
       "      <th>1</th>\n",
       "      <td>Airframe</td>\n",
       "      <td>Michael Crichton</td>\n",
       "      <td>Ballantine Books</td>\n",
       "      <td>Michael Crichton</td>\n",
       "      <td>The novel opens aboard Hong Kong-based Transp...</td>\n",
       "      <td>['Science Fiction', 'Novel']</td>\n",
       "    </tr>\n",
       "    <tr>\n",
       "      <th>2</th>\n",
       "      <td>Timeline</td>\n",
       "      <td>MICHAEL CRICHTON</td>\n",
       "      <td>Ballantine Books</td>\n",
       "      <td>Michael Crichton</td>\n",
       "      <td>In the middle of the New Mexico desert, a vac...</td>\n",
       "      <td>['Science Fiction', 'Fiction', 'Suspense']</td>\n",
       "    </tr>\n",
       "    <tr>\n",
       "      <th>3</th>\n",
       "      <td>To Kill a Mockingbird</td>\n",
       "      <td>Harper Lee</td>\n",
       "      <td>Little Brown &amp;amp; Company</td>\n",
       "      <td>Harper Lee</td>\n",
       "      <td>The book opens with the Finch family's ancest...</td>\n",
       "      <td>['Fiction']</td>\n",
       "    </tr>\n",
       "    <tr>\n",
       "      <th>4</th>\n",
       "      <td>Pigs in Heaven</td>\n",
       "      <td>Barbara Kingsolver</td>\n",
       "      <td>Harpercollins</td>\n",
       "      <td>Barbara Kingsolver</td>\n",
       "      <td>This novel begins two years after the events ...</td>\n",
       "      <td>['Fiction', 'Novel']</td>\n",
       "    </tr>\n",
       "  </tbody>\n",
       "</table>\n",
       "</div>"
      ],
      "text/plain": [
       "              Book-Title         Book-Author                   Publisher  \\\n",
       "0          The Testament        John Grisham                        Dell   \n",
       "1               Airframe    Michael Crichton            Ballantine Books   \n",
       "2               Timeline    MICHAEL CRICHTON            Ballantine Books   \n",
       "3  To Kill a Mockingbird          Harper Lee  Little Brown &amp; Company   \n",
       "4         Pigs in Heaven  Barbara Kingsolver               Harpercollins   \n",
       "\n",
       "               Author                                            Summary  \\\n",
       "0        John Grisham   Troy Phelan, an eccentric elderly billionaire...   \n",
       "1    Michael Crichton   The novel opens aboard Hong Kong-based Transp...   \n",
       "2    Michael Crichton   In the middle of the New Mexico desert, a vac...   \n",
       "3          Harper Lee   The book opens with the Finch family's ancest...   \n",
       "4  Barbara Kingsolver   This novel begins two years after the events ...   \n",
       "\n",
       "                                       Genres  \n",
       "0         ['Thriller', 'Fiction', 'Suspense']  \n",
       "1                ['Science Fiction', 'Novel']  \n",
       "2  ['Science Fiction', 'Fiction', 'Suspense']  \n",
       "3                                 ['Fiction']  \n",
       "4                        ['Fiction', 'Novel']  "
      ]
     },
     "execution_count": 32,
     "metadata": {},
     "output_type": "execute_result"
    }
   ],
   "source": [
    "data_buku.head()"
   ]
  },
  {
   "cell_type": "code",
   "execution_count": 33,
   "metadata": {},
   "outputs": [
    {
     "name": "stdout",
     "output_type": "stream",
     "text": [
      "<class 'pandas.core.frame.DataFrame'>\n",
      "RangeIndex: 5067 entries, 0 to 5066\n",
      "Data columns (total 6 columns):\n",
      " #   Column       Non-Null Count  Dtype \n",
      "---  ------       --------------  ----- \n",
      " 0   Book-Title   5067 non-null   object\n",
      " 1   Book-Author  5067 non-null   object\n",
      " 2   Publisher    5067 non-null   object\n",
      " 3   Author       4918 non-null   object\n",
      " 4   Summary      5067 non-null   object\n",
      " 5   Genres       5067 non-null   object\n",
      "dtypes: object(6)\n",
      "memory usage: 237.6+ KB\n"
     ]
    }
   ],
   "source": [
    "data_buku.info()"
   ]
  },
  {
   "attachments": {},
   "cell_type": "markdown",
   "metadata": {},
   "source": [
    "## Case Folding"
   ]
  },
  {
   "cell_type": "code",
   "execution_count": 34,
   "metadata": {},
   "outputs": [],
   "source": [
    "data_buku['book_title_list'] = data_buku['Book-Title'].str.lower()\n",
    "data_buku['book_author_list'] = data_buku[\"Book-Author\"].str.lower()\n",
    "data_buku['publiser_list'] = data_buku[\"Publisher\"].str.lower()\n",
    "data_buku['genres_list'] = data_buku[\"Genres\"].str.lower()\n",
    "data_buku['summarry_list'] = data_buku[\"Summary\"].str.lower()"
   ]
  },
  {
   "cell_type": "code",
   "execution_count": 35,
   "metadata": {},
   "outputs": [
    {
     "data": {
      "text/plain": [
       "0                     ['thriller', 'fiction', 'suspense']\n",
       "1                            ['science fiction', 'novel']\n",
       "2              ['science fiction', 'fiction', 'suspense']\n",
       "3                                             ['fiction']\n",
       "4                                    ['fiction', 'novel']\n",
       "                              ...                        \n",
       "5062    ['science fiction', 'speculative fiction', 'fi...\n",
       "5063           ['science fiction', 'speculative fiction']\n",
       "5064                                            ['novel']\n",
       "5065    ['speculative fiction', 'historical fiction', ...\n",
       "5066                   ['speculative fiction', 'fantasy']\n",
       "Name: genres_list, Length: 5067, dtype: object"
      ]
     },
     "execution_count": 35,
     "metadata": {},
     "output_type": "execute_result"
    }
   ],
   "source": [
    "data_buku['genres_list']"
   ]
  },
  {
   "cell_type": "code",
   "execution_count": 36,
   "metadata": {},
   "outputs": [],
   "source": [
    "data_buku['genres_list'] = data_buku['Genres'].apply(lambda x:x.replace(\"'\", \"\").replace(\"[\",\"\").replace(\"]\", \"\"))\n",
    "data_buku['genres_list'] = data_buku.genres_list.apply(lambda x: x.split(', '))"
   ]
  },
  {
   "cell_type": "code",
   "execution_count": 37,
   "metadata": {},
   "outputs": [],
   "source": [
    "tit = []\n",
    "for title in data_buku['book_title_list']:\n",
    "    tit.append(title)"
   ]
  },
  {
   "cell_type": "code",
   "execution_count": 38,
   "metadata": {},
   "outputs": [],
   "source": [
    "y = 0\n",
    "for i in data_buku['genres_list']:\n",
    "    if isinstance(i, str):\n",
    "        data_buku['genres_list'][y] = i.split(\"delimiter\")\n",
    "    y = y + 1"
   ]
  },
  {
   "attachments": {},
   "cell_type": "markdown",
   "metadata": {},
   "source": [
    "## Pengggabungan Data"
   ]
  },
  {
   "cell_type": "code",
   "execution_count": 39,
   "metadata": {},
   "outputs": [],
   "source": [
    "data_buku['genres_list'] = [' '.join(map(str, l)) for l in data_buku['genres_list']]"
   ]
  },
  {
   "cell_type": "code",
   "execution_count": 40,
   "metadata": {},
   "outputs": [
    {
     "data": {
      "text/plain": [
       "0                               thriller fiction suspense\n",
       "1                                   science fiction novel\n",
       "2                        science fiction fiction suspense\n",
       "3                                                 fiction\n",
       "4                                           fiction novel\n",
       "                              ...                        \n",
       "5062    science fiction speculative fiction fiction novel\n",
       "5063                  science fiction speculative fiction\n",
       "5064                                                novel\n",
       "5065    speculative fiction historical fiction romance...\n",
       "5066                          speculative fiction fantasy\n",
       "Name: genres_list, Length: 5067, dtype: object"
      ]
     },
     "execution_count": 40,
     "metadata": {},
     "output_type": "execute_result"
    }
   ],
   "source": [
    "data_buku['genres_list'].str.lower()"
   ]
  },
  {
   "cell_type": "code",
   "execution_count": 41,
   "metadata": {},
   "outputs": [],
   "source": [
    "data_buku['book_author_list'] = [' '.join(map(str, l)) for l in data_buku['book_author_list']]"
   ]
  },
  {
   "cell_type": "code",
   "execution_count": 42,
   "metadata": {},
   "outputs": [],
   "source": [
    "# data_buku['category_list'] = data_buku['category_list'].apply(lambda x: [x])"
   ]
  },
  {
   "cell_type": "code",
   "execution_count": 43,
   "metadata": {},
   "outputs": [
    {
     "data": {
      "text/plain": [
       "0                           j o h n   g r i s h a m\n",
       "1                   m i c h a e l   c r i c h t o n\n",
       "2                   m i c h a e l   c r i c h t o n\n",
       "3                               h a r p e r   l e e\n",
       "4               b a r b a r a   k i n g s o l v e r\n",
       "                           ...                     \n",
       "5062                    f r e d e r i c k   p o h l\n",
       "5063                    p h i l i p   k .   d i c k\n",
       "5064    g a b r i e l   g a r c i a   m a r q u e z\n",
       "5065                    w i l k i e   c o l l i n s\n",
       "5066                n o r t h a m   a n d e r s o n\n",
       "Name: book_author_list, Length: 5067, dtype: object"
      ]
     },
     "execution_count": 43,
     "metadata": {},
     "output_type": "execute_result"
    }
   ],
   "source": [
    "data_buku['book_author_list']"
   ]
  },
  {
   "cell_type": "code",
   "execution_count": 44,
   "metadata": {},
   "outputs": [],
   "source": [
    "data_buku['summarry_list'] = [' '.join(map(str, l)) for l in data_buku['summarry_list']]"
   ]
  },
  {
   "cell_type": "code",
   "execution_count": 45,
   "metadata": {},
   "outputs": [],
   "source": [
    "data_buku['soup'] = data_buku['book_title_list'] + \"\" + data_buku['summarry_list']"
   ]
  },
  {
   "cell_type": "code",
   "execution_count": 46,
   "metadata": {},
   "outputs": [],
   "source": [
    "import string\n",
    "import re\n",
    "import nltk"
   ]
  },
  {
   "cell_type": "code",
   "execution_count": 47,
   "metadata": {},
   "outputs": [
    {
     "name": "stderr",
     "output_type": "stream",
     "text": [
      "[nltk_data] Downloading package punkt to /home/iqbalf/nltk_data...\n",
      "[nltk_data]   Package punkt is already up-to-date!\n"
     ]
    }
   ],
   "source": [
    "nltk.download('punkt')\n",
    "from nltk.tokenize import word_tokenize"
   ]
  },
  {
   "attachments": {},
   "cell_type": "markdown",
   "metadata": {},
   "source": [
    "## Tokenization"
   ]
  },
  {
   "cell_type": "code",
   "execution_count": 48,
   "metadata": {},
   "outputs": [],
   "source": [
    "# menghapus tab, new line, backslice, non ASCII dan incomplete URL\n",
    "data_buku['soup'] = data_buku['soup'].apply(lambda x: x.replace('\\\\t',\" \").replace('\\\\n',\"\").replace('\\\\u',\" \").replace('\\\\',\"\").replace(\"http://\", \" \").replace(\"https://\",\" \"))\n",
    "data_buku['soup'] = data_buku['soup'].apply(lambda x: x.encode('ascii', 'replace').decode('ascii'))\n",
    "data_buku['soup'] = data_buku['soup'].apply(lambda x: ' '.join(re.sub(\"([@#][A-Za-z0-9]+)|(\\w+:\\/\\/\\S+)\",\" \", x).split()))\n",
    "\n",
    " # menghapus angka\n",
    "data_buku['soup'] = data_buku['soup'].apply(lambda x: re.sub(r\"\\d+\", \"\", x))\n",
    " # replace simbol with space\n",
    "data_buku['soup'] = data_buku['soup'].apply(lambda x: x.translate({ord(c): \" \" for c in \"!@$%^&*()[]{};:,./<>?\\|`~-=_+—\"}))\n",
    " # menghapus tanda baca\n",
    "data_buku['soup'] = data_buku['soup'].apply(lambda x: x.translate(str.maketrans(\"\",\"\",string.punctuation)))\n",
    " # menghapus whitespace leading & trailing\n",
    "data_buku['soup'] = data_buku['soup'].apply(lambda x: x.strip())\n",
    "\n",
    " # mengganti multiple whitespace menjadi single whitespace\n",
    "data_buku['soup'] = data_buku['soup'].apply(lambda x: re.sub('\\s+',' ', x))\n",
    " # menghapus single char\n",
    "data_buku['soup'] = data_buku['soup'].apply(lambda x: re.sub(r\"\\b[a-zA-Z]\\b\", \"\", x))\n",
    "# NLTK word tokenize\n",
    "data_buku['soup'] = data_buku['soup'].apply(lambda x: word_tokenize(x))"
   ]
  },
  {
   "attachments": {},
   "cell_type": "markdown",
   "metadata": {},
   "source": [
    "## Filtering"
   ]
  },
  {
   "cell_type": "code",
   "execution_count": 49,
   "metadata": {},
   "outputs": [
    {
     "name": "stderr",
     "output_type": "stream",
     "text": [
      "[nltk_data] Downloading package stopwords to /home/iqbalf/nltk_data...\n",
      "[nltk_data]   Package stopwords is already up-to-date!\n"
     ]
    }
   ],
   "source": [
    "# mendownload daftar kata yang ada\n",
    "nltk.download('stopwords')\n",
    "from nltk.corpus import stopwords\n",
    "\n",
    "# memeriksa daftar kata di stopwords\n",
    "eng = stopwords.words('english')\n",
    "\n",
    "list_stopwords = eng\n",
    "\n",
    "# hapus stopword pada list token\n",
    "def stopwords_removal(words):\n",
    "    return [word for word in words if word not in list_stopwords]\n",
    "\n",
    "data_buku['soup'] = data_buku['soup'].apply(stopwords_removal)"
   ]
  },
  {
   "attachments": {},
   "cell_type": "markdown",
   "metadata": {},
   "source": [
    "## Stemming"
   ]
  },
  {
   "cell_type": "code",
   "execution_count": 50,
   "metadata": {},
   "outputs": [],
   "source": [
    "# import Sastrawi package\n",
    "from Sastrawi.Stemmer.StemmerFactory import StemmerFactory\n",
    "\n",
    "\n",
    "# create stemmer\n",
    "factory = StemmerFactory()\n",
    "stemmer = factory.create_stemmer()\n",
    "\n",
    "# stemmed\n",
    "def stemmed_wrapper(term):\n",
    "    return stemmer.stem(term)\n",
    "\n",
    "term_dict = {}\n"
   ]
  },
  {
   "cell_type": "code",
   "execution_count": 51,
   "metadata": {},
   "outputs": [],
   "source": [
    "data_buku['soup'] = data_buku['soup'].replace(['bonesetters daughter'], 'bonesetter')"
   ]
  },
  {
   "cell_type": "code",
   "execution_count": 52,
   "metadata": {},
   "outputs": [],
   "source": [
    "# # result = data_buku[data_buku[\"soup\"] == \"bonesetters daughter\"]\n",
    "# result"
   ]
  },
  {
   "cell_type": "code",
   "execution_count": 53,
   "metadata": {},
   "outputs": [
    {
     "name": "stdout",
     "output_type": "stream",
     "text": [
      "4899\n",
      "------------------------\n",
      "{'testament': 'testament', 'airframe': 'airframe', 'timeline': 'timeline', 'kill': 'kill', 'mockingbird': 'mockingbird', 'pigs': 'pigs', 'heaven': 'heaven', 'corner': 'corner', 'eye': 'eye', 'purity': 'purity', 'death': 'death', 'street': 'street', 'lawyer': 'lawyer', 'breathing': 'breathing', 'lessons': 'lessons', 'joy': 'joy', 'luck': 'luck', 'club': 'club', 'starship': 'starship', 'troopers': 'troopers', 'anils': 'anils', 'ghost': 'ghost', 'turning': 'turning', 'thirty': 'thirty', 'decipher': 'decipher', 'catcher': 'catcher', 'rye': 'rye', 'pillars': 'pillars', 'earth': 'earth', 'five': 'five', 'people': 'people', 'meet': 'meet', 'blood': 'blood', 'oath': 'oath', 'sum': 'sum', 'fears': 'fears', 'one': 'one', 'hundred': 'hundred', 'years': 'years', 'solitude': 'solitude', 'gangster': 'gangster', 'rebecca': 'rebecca', 'contact': 'contact', 'brimstone': 'brimstone', 'wedding': 'wedding', 'puerto': 'puerto', 'vallarta': 'vallarta', 'squeeze': 'squeeze', 'wish': 'wish', 'well': 'well', 'hitchhikers': 'hitchhikers', 'guide': 'guide', 'galaxy': 'galaxy', 'fahrenheit': 'fahrenheit', 'god': 'god', 'small': 'small', 'things': 'things', 'four': 'four', 'blind': 'blind', 'mice': 'mice', 'congo': 'congo', 'memoirs': 'memoirs', 'geisha': 'geisha', 'brethren': 'brethren', 'king': 'king', 'torts': 'torts', 'pet': 'pet', 'sematary': 'sematary', 'deception': 'deception', 'point': 'point', 'wicked': 'wicked', 'life': 'life', 'times': 'times', 'witch': 'witch', 'west': 'west', 'pi': 'pi', 'weight': 'weight', 'water': 'water', 'night': 'night', 'watch': 'watch', 'thief': 'thief', 'time': 'time', 'friend': 'friend', 'flicka': 'flicka', 'powder': 'powder', 'patch': 'patch', 'possession': 'possession', 'romance': 'romance', 'animal': 'animal', 'farm': 'farm', 'eva': 'eva', 'luna': 'luna', 'enchanted': 'enchanted', 'wood': 'wood', 'man': 'man', 'full': 'full', 'painted': 'painted', 'house': 'house', 'tortilla': 'tortilla', 'curtain': 'curtain', 'wolf': 'wolf', 'moon': 'moon', 'affinity': 'affinity', 'hunt': 'hunt', 'red': 'red', 'october': 'october', 'bel': 'bel', 'canto': 'canto', 'secret': 'secret', 'bees': 'bees', 'firm': 'firm', 'mostly': 'mostly', 'harmless': 'harmless', 'jonathan': 'jonathan', 'livingston': 'livingston', 'seagull': 'seagull', 'adventures': 'adventures', 'tom': 'tom', 'sawyer': 'sawyer', 'hannibal': 'hannibal', 'robber': 'robber', 'bride': 'bride', 'centaur': 'centaur', 'aisle': 'aisle', 'scarlet': 'scarlet', 'letter': 'letter', 'widow': 'widow', 'year': 'year', 'empire': 'empire', 'falls': 'falls', 'oryx': 'oryx', 'crake': 'crake', 'black': 'black', 'blue': 'blue', 'face': 'face', 'shining': 'shining', 'sky': 'sky', 'falling': 'falling', 'bean': 'bean', 'trees': 'trees', 'daughter': 'daughter', 'fortune': 'fortune', 'light': 'light', 'penny': 'penny', 'candle': 'candle', 'postmortem': 'postmortem', 'three': 'three', 'junes': 'junes', 'back': 'back', 'roads': 'roads', 'strangers': 'strangers', 'straw': 'straw', 'men': 'men', 'chamber': 'chamber', 'partner': 'partner', 'blink': 'blink', 'prince': 'prince', 'caspian': 'caspian', 'abduction': 'abduction', 'listener': 'listener', 'ralph': 'ralph', 'mouse': 'mouse', 'daisy': 'daisy', 'fay': 'fay', 'miracle': 'miracle', 'fast': 'fast', 'food': 'food', 'nation': 'nation', 'dark': 'dark', 'side': 'side', 'american': 'american', 'meal': 'meal', 'echoes': 'echoes', 'moved': 'moved', 'cheese': 'cheese', 'amazing': 'amazing', 'way': 'way', 'deal': 'deal', 'change': 'change', 'work': 'work', 'icy': 'icy', 'sparks': 'sparks', 'travelers': 'travelers', 'wife': 'wife', 'name': 'name', 'asher': 'asher', 'lev': 'lev', 'waking': 'waking', 'dead': 'dead', 'ravage': 'ravage', 'da': 'da', 'vinci': 'vinci', 'code': 'code', 'map': 'map', 'world': 'world', 'big': 'big', 'trouble': 'trouble', 'snow': 'snow', 'cedars': 'cedars', 'skipping': 'skipping', 'christmas': 'christmas', 'reader': 'reader', 'true': 'true', 'message': 'message', 'bottle': 'bottle', 'guardian': 'guardian', 'nights': 'nights', 'rodanthe': 'rodanthe', 'boy': 'boy', 'nd': 'nd', 'chance': 'chance', 'therapy': 'therapy', 'wasp': 'wasp', 'factory': 'factory', 'space': 'space', 'merchants': 'merchants', 'titan': 'titan', 'slow': 'slow', 'river': 'river', 'dreamcatcher': 'dreamcatcher', 'smillas': 'smillas', 'sense': 'sense', 'billy': 'billy', 'bathgate': 'bathgate', 'janitors': 'janitors', 'zone': 'zone', 'forest': 'forest', 'bear': 'bear', 'dragon': 'dragon', 'patriot': 'patriot', 'games': 'games', 'chasing': 'chasing', 'dime': 'dime', 'cat': 'cat', 'tailed': 'tailed', 'wuthering': 'wuthering', 'heights': 'heights', 'stars': 'stars', 'shine': 'shine', 'toxin': 'toxin', 'ordinary': 'ordinary', 'rainmaker': 'rainmaker', 'bad': 'bad', 'place': 'place', 'phantom': 'phantom', 'tollbooth': 'tollbooth', 'fight': 'fight', 'little': 'little', 'princess': 'princess', 'grass': 'grass', 'invisible': 'invisible', 'spirits': 'spirits', 'dragonfly': 'dragonfly', 'amber': 'amber', 'white': 'white', 'teeth': 'teeth', 'ironweed': 'ironweed', 'grapes': 'grapes', 'wrath': 'wrath', 'kiss': 'kiss', 'girls': 'girls', 'perks': 'perks', 'wallflower': 'wallflower', 'dragons': 'dragons', 'summer': 'summer', 'flame': 'flame', 'dust': 'dust', 'portrait': 'portrait', 'sepia': 'sepia', 'gods': 'gods', 'odyssey': 'odyssey', 'jurassic': 'jurassic', 'park': 'park', 'housekeeping': 'housekeeping', 'neverwhere': 'neverwhere', 'thorn': 'thorn', 'birds': 'birds', 'beekeepers': 'beekeepers', 'apprentice': 'apprentice', 'tracks': 'tracks', 'mother': 'mother', 'pearl': 'pearl', 'anubis': 'anubis', 'gates': 'gates', 'vulcan': 'vulcan', 'academy': 'academy', 'murders': 'murders', 'ham': 'ham', 'choke': 'choke', 'lord': 'lord', 'stranger': 'stranger', 'strange': 'strange', 'land': 'land', 'color': 'color', 'mans': 'mans', 'tribute': 'tribute', 'wayside': 'wayside', 'school': 'school', 'dolphins': 'dolphins', 'pern': 'pern', 'dragonsdawn': 'dragonsdawn', 'ogre': 'ogre', 'lonesome': 'lonesome', 'dove': 'dove', 'cider': 'cider', 'rules': 'rules', 'island': 'island', 'day': 'day', 'darwins': 'darwins', 'radio': 'radio', 'good': 'good', 'omens': 'omens', 'square': 'square', 'shock': 'shock', 'jewel': 'jewel', 'satanic': 'satanic', 'verses': 'verses', 'shadowmancer': 'shadowmancer', 'prayer': 'prayer', 'owen': 'owen', 'meany': 'meany', 'prophet': 'prophet', 'sinner': 'sinner', 'cold': 'cold', 'sassy': 'sassy', 'tree': 'tree', 'neverending': 'neverending', 'story': 'story', 'shopgirl': 'shopgirl', 'kitchen': 'kitchen', 'flanders': 'flanders', 'panel': 'panel', 'silmarillion': 'silmarillion', 'speak': 'speak', 'last': 'last', 'juror': 'juror', 'sisters': 'sisters', 'raptor': 'raptor', 'nimitz': 'nimitz', 'class': 'class', 'callahans': 'callahans', 'lady': 'lady', 'civil': 'civil', 'action': 'action', 'fountainhead': 'fountainhead', 'emma': 'emma', 'bed': 'bed', 'sensibility': 'sensibility', 'surfacing': 'surfacing', 'sleep': 'sleep', 'ellen': 'ellen', 'foster': 'foster', 'jamaica': 'jamaica', 'inn': 'inn', 'cabinet': 'cabinet', 'curiosities': 'curiosities', 'rice': 'rice', 'salt': 'salt', 'green': 'green', 'mile': 'mile', 'diaries': 'aries', 'charlotte': 'charlotte', 'gray': 'gray', 'watership': 'watership', 'breakfast': 'breakfast', 'champions': 'champions', 'provence': 'provence', 'deus': 'deus', 'irae': 'irae', 'indian': 'indian', 'cupboard': 'cupboard', 'wind': 'wind', 'blows': 'blows', 'hyperion': 'hyperion', 'first': 'first', 'shannara': 'shannara', 'asylum': 'asylum', 'popcorn': 'popcorn', 'sparrow': 'sparrow', 'capture': 'capture', 'castle': 'castle', 'tea': 'tea', 'played': 'played', 'brahms': 'brahms', 'notice': 'notice', 'haroun': 'haroun', 'sea': 'sea', 'stories': 'stories', 'vineland': 'vineland', 'flies': 'flies', 'atlantis': 'atlantis', 'found': 'found', 'alienist': 'alienist', 'redemption': 'redemption', 'althalus': 'althalus', 'wild': 'wild', 'walk': 'walk', 'two': 'two', 'moons': 'moons', 'independence': 'independence', 'cause': 'cause', 'poisonwood': 'poisonwood', 'bible': 'bible', 'origin': 'origin', 'rising': 'rising', 'sun': 'sun', 'flesh': 'flesh', 'darwinia': 'darwinia', 'legend': 'legend', 'brighton': 'brighton', 'rock': 'rock', 'hocus': 'hocus', 'pocus': 'pocus', 'skies': 'skies', 'dragondrums': 'dragondrums', 'lost': 'lost', 'summerland': 'summerland', 'dragonsong': 'dragonsong', 'instance': 'instance', 'fingerpost': 'fingerpost', 'absolute': 'absolute', 'power': 'power', 'icarus': 'icarus', 'agenda': 'agenda', 'city': 'city', 'bones': 'bones', 'lucky': 'lucky', 'handmaids': 'handmaids', 'tale': 'tale', 'murder': 'murder', 'book': 'book', 'bough': 'bough', 'breaks': 'breaks', 'zero': 'zero', 'trust': 'trust', 'could': 'could', 'read': 'read', 'backwards': 'backwards', 'caribbean': 'caribbean', 'mystery': 'mystery', 'baudolino': 'baudolino', 'lightning': 'lightning', 'winter': 'winter', 'acceptable': 'acceptable', 'enchantment': 'enchantment', 'age': 'age', 'innocence': 'innocence', 'gloriana': 'gloriana', 'cryptonomicon': 'cryptonomicon', 'steppenwolf': 'steppenwolf', 'love': 'love', 'medicine': 'medicine', 'standing': 'standing', 'raven': 'raven', 'enders': 'enders', 'shadow': 'shadow', 'mists': 'mists', 'avalon': 'avalon', 'mountain': 'mountain', 'pastoral': 'pastoral', 'connecticut': 'connecticut', 'yankee': 'yankee', 'arthurs': 'arthurs', 'court': 'court', 'skinny': 'skinny', 'legs': 'legs', 'andromeda': 'andromeda', 'strain': 'strain', 'dolores': 'dolores', 'claiborne': 'claiborne', 'hero': 'hero', 'crown': 'crown', 'harms': 'harms', 'return': 'return', 'dinner': 'dinner', 'homesick': 'homesick', 'restaurant': 'restaurant', 'woods': 'woods', 'rediscovering': 'rediscovering', 'america': 'america', 'appalachian': 'appalachian', 'trail': 'trail', 'huckleberry': 'huckleberry', 'finn': 'finn', 'tinker': 'tinker', 'tailor': 'tailor', 'soldier': 'soldier', 'spy': 'spy', 'mystic': 'mystic', 'wings': 'wings', 'jester': 'jester', 'roadwork': 'roadwork', 'sick': 'sick', 'puppy': 'puppy', 'reliquary': 'reliquary', 'prey': 'prey', 'fear': 'fear', 'nothing': 'nothing', 'judgment': 'judgment', 'void': 'void', 'sphere': 'sphere', 'still': 'still', 'woodpecker': 'woodpecker', 'pelican': 'pelican', 'brief': 'brief', 'giving': 'giving', 'interview': 'interview', 'vampire': 'vampire', 'ear': 'ear', 'arm': 'arm', 'purple': 'purple', 'mirror': 'mirror', 'image': 'image', 'diaspora': 'diaspora', 'orient': 'orient', 'express': 'express', 'none': 'none', 'narcissus': 'narcissus', 'goldmund': 'goldmund', 'patience': 'patience', 'sarah': 'sarah', 'notebook': 'notebook', 'north': 'north', 'south': 'south', 'ancient': 'ancient', 'shores': 'shores', 'heat': 'heat', 'reaper': 'reaper', 'reading': 'reading', 'lolita': 'lolita', 'tehran': 'tehran', 'memoir': 'memoir', 'books': 'books', 'peace': 'peace', 'like': 'like', 'machine': 'machine', 'journey': 'journey', 'center': 'center', 'splinter': 'splinter', 'minds': 'minds', 'rogue': 'rogue', 'italian': 'italian', 'silent': 'silent', 'honor': 'honor', 'pianist': 'pianist', 'extraordinary': 'extraordinary', 'survival': 'survival', 'warsaw': 'warsaw', 'bastard': 'bastard', 'carolina': 'carolina', 'islands': 'islands', 'net': 'net', 'deed': 'deed', 'paksenarrion': 'paksenarrion', 'difference': 'difference', 'engine': 'engine', 'fifth': 'fifth', 'sacred': 'sacred', 'thing': 'thing', 'bee': 'bee', 'season': 'season', 'novel': 'novel', 'brown': 'brown', 'girl': 'girl', 'ring': 'ring', 'sons': 'sons', 'afar': 'afar', 'homecoming': 'homecoming', 'phantoms': 'phantoms', 'comfort': 'comfort', 'jitterbug': 'jitterbug', 'perfume': 'perfume', 'tar': 'tar', 'baby': 'baby', 'misery': 'misery', 'faerie': 'faerie', 'body': 'body', 'mortal': 'mortal', 'watchers': 'watchers', 'intensity': 'intensity', 'rivers': 'rivers', 'heart': 'heart', 'mr': 'mr', 'rainbow': 'rainbow', 'six': 'six', 'lions': 'lions', 'lucerne': 'lucerne', 'arrows': 'arrows', 'flight': 'flight', 'prometheus': 'prometheus', 'atlas': 'atlas', 'shrugged': 'shrugged', 'know': 'know', 'much': 'much', 'hinds': 'hinds', 'feet': 'feet', 'high': 'high', 'places': 'places', 'experiment': 'experiment', 'player': 'player', 'piano': 'piano', 'japed': 'japed', 'doon': 'doon', 'term': 'term', 'limits': 'limits', 'interrupted': 'interrupted', 'messiah': 'messiah', 'whispers': 'whispers', 'push': 'push', 'elidor': 'elidor', 'owl': 'owl', 'service': 'service', 'thousand': 'thousand', 'acres': 'acres', 'method': 'method', 'bellwether': 'bellwether', 'potshot': 'potshot', 'pastwatch': 'pastwatch', 'christopher': 'christopher', 'columbus': 'columbus', 'quarters': 'quarters', 'orange': 'orange', 'uncle': 'uncle', 'dynamite': 'dynamite', 'nine': 'nine', 'tailors': 'tailors', 'siddhartha': 'siddhartha', 'runaway': 'runaway', 'jury': 'jury', 'without': 'without', 'remorse': 'remorse', 'jane': 'jane', 'eyre': 'eyre', 'naked': 'naked', 'lunch': 'lunch', 'anno': 'anno', 'dracula': 'dracula', 'hobbit': 'hobbit', 'tales': 'tales', 'fourth': 'fourth', 'grade': 'grade', 'root': 'root', 'cellar': 'cellar', 'cats': 'cats', 'cradle': 'cradle', 'hornets': 'hornets', 'nest': 'nest', 'calculating': 'calculating', 'member': 'member', 'sula': 'sula', 'parable': 'parable', 'talents': 'talents', 'microserfs': 'microserfs', 'lake': 'lake', 'darkness': 'darkness', 'balzac': 'balzac', 'chinese': 'chinese', 'seamstress': 'seamstress', 'ashes': 'ashes', 'insomnia': 'insomnia', 'midnight': 'midnight', 'unnatural': 'unnatural', 'exposure': 'exposure', 'disgrace': 'disgrace', 'matarese': 'matarese', 'countdown': 'countdown', 'must': 'must', 'die': 'die', 'kushiels': 'kushiels', 'dart': 'dart', 'ice': 'ice', 'surgeon': 'surgeon', 'basket': 'basket', 'case': 'case', 'holes': 'holes', 'presumed': 'presumed', 'innocent': 'innocent', 'poet': 'poet', 'curse': 'curse', 'pharaohs': 'pharaohs', 'jaws': 'jaws', 'hound': 'hound', 'baskervilles': 'baskervilles', 'lives': 'lives', 'chant': 'chant', 'garden': 'garden', 'childhoods': 'childhoods', 'end': 'end', 'another': 'another', 'roadside': 'roadside', 'attraction': 'attraction', 'pebble': 'pebble', 'christine': 'christine', 'something': 'something', 'comes': 'comes', 'lover': 'lover', 'valley': 'valley', 'horses': 'horses', 'generation': 'generation', 'warriors': 'warriors', 'desperation': 'desperation', 'changes': 'changes', 'gift': 'gift', 'great': 'great', 'gatsby': 'gatsby', 'quidditch': 'quidditch', 'ages': 'ages', 'fantastic': 'fantastic', 'beasts': 'beasts', 'find': 'find', 'stardust': 'stardust', 'sleepy': 'sleepy', 'hollow': 'hollow', 'stone': 'stone', 'sword': 'sword', 'dreaming': 'dreaming', 'cuban': 'cuban', 'circle': 'circle', 'friends': 'friends', 'bourne': 'bourne', 'identity': 'identity', 'paradise': 'paradise', 'rabbit': 'rabbit', 'bag': 'bag', 'rebeccas': 'rebeccas', 'program': 'program', 'heidi': 'heidi', 'brave': 'brave', 'new': 'new', 'passage': 'passage', 'india': 'india', 'havana': 'havana', 'bay': 'bay', 'giver': 'giver', 'mirth': 'mirth', 'door': 'door', 'away': 'away', 'superfudge': 'superfudge', 'shes': 'shes', 'come': 'come', 'undone': 'undone', 'nineteen': 'nineteen', 'eighty': 'eighty', 'harris': 'harris', 'charlottes': 'charlottes', 'web': 'web', 'children': 'children', 'ladder': 'ladder', 'bondwomans': 'bondwomans', 'narrative': 'narrative', 'fidelity': 'fidelity', 'road': 'road', 'mrs': 'mrs', 'dalloway': 'dalloway', 'cater': 'cater', 'hangman': 'hangman', 'gaudy': 'gaudy', 'friday': 'friday', 'sicilian': 'sicilian', 'running': 'running', 'scissors': 'scissors', 'leaves': 'leaves', 'perdido': 'perdido', 'station': 'station', 'accidental': 'accidental', 'tourist': 'tourist', 'praetorian': 'praetorian', 'history': 'history', 'kelly': 'kelly', 'gang': 'gang', 'picture': 'picture', 'dorian': 'dorian', 'pnin': 'pnin', 'emmanuelle': 'emmanuelle', 'skin': 'skin', 'tight': 'tight', 'pagan': 'pagan', 'babies': 'babies', 'scolds': 'scolds', 'bridle': 'bridle', 'sand': 'sand', 'fog': 'fog', 'winterdance': 'winterdance', 'fine': 'fine', 'madness': 'madness', 'iditarod': 'iditarod', 'saving': 'saving', 'faith': 'faith', 'monkeys': 'monkeys', 'raincoat': 'raincoat', 'forever': 'forever', 'outsiders': 'outsiders', 'hot': 'hot', 'fire': 'fire', 'bringer': 'bringer', 'enduring': 'enduring', 'sculptress': 'sculptress', 'family': 'family', 'pascual': 'pascual', 'duarte': 'duarte', 'accelerated': 'accelerated', 'culture': 'culture', 'beach': 'beach', 'thumbsucker': 'thumbsucker', 'monstrous': 'monstrous', 'regiment': 'regiment', 'women': 'women', 'coraline': 'coraline', 'disclosure': 'disclosure', 'firefox': 'firefox', 'corrections': 'corrections', 'cholera': 'cholera', 'altars': 'altars', 'everywhere': 'everywhere', 'rose': 'rose', 'english': 'english', 'assassin': 'assassin', 'crocodile': 'crocodile', 'sandbank': 'sandbank', 'war': 'war', 'hell': 'hell', 'remain': 'remain', 'fatherland': 'fatherland', 'town': 'town', 'alice': 'alice', 'sirens': 'sirens', 'pale': 'pale', 'horse': 'horse', 'firestarter': 'firestarter', 'roogna': 'roogna', 'chronoliths': 'chronoliths', 'fist': 'fist', 'patchwork': 'patchwork', 'planet': 'planet', 'outlander': 'outlander', 'flauberts': 'flauberts', 'parrot': 'parrot', 'amusing': 'amusing', 'public': 'public', 'discourse': 'discourse', 'show': 'show', 'business': 'business', 'elfstones': 'elfstones', 'maniac': 'maniac', 'magee': 'magee', 'need': 'need', 'strong': 'strong', 'poison': 'poison', 'du': 'du', 'jour': 'jour', 'pop': 'pop', 'goes': 'goes', 'weasel': 'weasel', 'math': 'math', 'quiet': 'quiet', 'game': 'game', 'blackberry': 'blackberry', 'wine': 'wine', 'prodigal': 'prodigal', 'queen': 'queen', 'angels': 'angels', 'prime': 'prime', 'mulvaneys': 'mulvaneys', 'visitor': 'visitor', 'terminal': 'terminal', 'cujo': 'cujo', 'caves': 'caves', 'steel': 'steel', 'filth': 'filth', 'fallen': 'fallen', 'belinda': 'belinda', 'east': 'east', 'eden': 'eden', 'roger': 'roger', 'ackroyd': 'ackroyd', 'wonders': 'wonders', 'julys': 'julys', 'maurice': 'maurice', 'front': 'front', 'runner': 'runner', 'long': 'long', 'fatal': 'fatal', 'chase': 'chase', 'tara': 'tara', 'villa': 'villa', 'lighthouse': 'lighthouse', 'restoree': 'restoree', 'practical': 'practical', 'demonkeeping': 'demonkeeping', 'future': 'future', 'doomsday': 'doomsday', 'idea': 'idea', 'fun': 'fun', 'chocolat': 'chocolat', 'hotel': 'hotel', 'hampshire': 'hampshire', 'idoru': 'idoru', 'tomorrow': 'tomorrow', 'hideaway': 'hideaway', 'brought': 'brought', 'tommyknockers': 'tommyknockers', 'polar': 'polar', 'star': 'star', 'brokenclaw': 'brokenclaw', 'sweet': 'sweet', 'audrina': 'audrina', 'remember': 'remember', 'madonna': 'madonna', 'optimists': 'optimists', 'summons': 'summons', 'conan': 'conan', 'barbarian': 'barbarian', 'third': 'third', 'twin': 'twin', 'pickwick': 'pickwick', 'papers': 'papers', 'best': 'best', 'laid': 'laid', 'plans': 'plans', 'chosen': 'chosen', 'virgin': 'virgin', 'suicides': 'suicides', 'liar': 'liar', 'potters': 'potters', 'field': 'field', 'smileys': 'smileys', 'woman': 'woman', 'feather': 'feather', 'haunted': 'haunted', 'birthright': 'birthright', 'living': 'living', 'plainsong': 'plainsong', 'fern': 'fern', 'grows': 'grows', 'ella': 'ella', 'eyes': 'eyes', 'mutation': 'mutation', 'eternity': 'eternity', 'real': 'real', 'odd': 'odd', 'thomas': 'thomas', 'temple': 'temple', 'bridge': 'bridge', 'half': 'half', 'caddie': 'caddie', 'woodlawn': 'woodlawn', 'cry': 'cry', 'pilgrim': 'pilgrim', 'creek': 'creek', 'postman': 'postman', 'bearer': 'bearer', 'anthem': 'anthem', 'dragonflight': 'dragonflight', 'roadmarks': 'roadmarks', 'personal': 'personal', 'injuries': 'injuries', 'regulators': 'regulators', 'shape': 'shape', 'warchild': 'warchild', 'expiration': 'expiration', 'date': 'date', 'separate': 'separate', 'borrowers': 'borrowers', 'roll': 'roll', 'thunder': 'thunder', 'hear': 'hear', 'beloved': 'beloved', 'empty': 'empty', 'chair': 'chair', 'unseen': 'unseen', 'fierce': 'fierce', 'invalids': 'invalids', 'home': 'home', 'climates': 'climates', 'haunting': 'haunting', 'hill': 'hill', 'dying': 'dying', 'inside': 'inside', 'many': 'many', 'say': 'say', 'dog': 'dog', 'precinct': 'precinct', 'bird': 'bird', 'chronicle': 'chronicle', 'towers': 'towers', 'fellowship': 'fellowship', 'lawless': 'lawless', 'glory': 'glory', 'tailchasers': 'tailchasers', 'song': 'song', 'rendezvous': 'rendezvous', 'rama': 'rama', 'violin': 'violin', 'tomorrows': 'tomorrows', 'parties': 'parties', 'dreams': 'dreams', 'hiding': 'hiding', 'servants': 'servants', 'twilight': 'twilight', 'strata': 'strata', 'angel': 'angel', 'oracle': 'oracle', 'edible': 'edible', 'dressmaker': 'dressmaker', 'monster': 'monster', 'dogs': 'dogs', 'skellig': 'skellig', 'apes': 'apes', 'transall': 'transall', 'saga': 'saga', 'stigmata': 'stigmata', 'palmer': 'palmer', 'eldritch': 'eldritch', 'quentins': 'quentins', 'evening': 'evening', 'eleventh': 'eleventh', 'commandment': 'commandment', 'copper': 'copper', 'elephant': 'elephant', 'bronze': 'bronze', 'horseman': 'horseman', 'native': 'native', 'tongue': 'tongue', 'orlando': 'orlando', 'biography': 'biography', 'trainspotting': 'trainspotting', 'shutter': 'shutter', 'wrinkle': 'wrinkle', 'chatterleys': 'chatterleys', 'absolutely': 'absolutely', 'normal': 'normal', 'chaos': 'chaos', 'patient': 'patient', 'hand': 'hand', 'ivan': 'ivan', 'denisovich': 'denisovich', 'lasher': 'lasher', 'tears': 'tears', 'shane': 'shane', 'koko': 'koko', 'word': 'word', 'eucalyptus': 'eucalyptus', 'pulp': 'pulp', 'dry': 'dry', 'honourable': 'honourable', 'schoolboy': 'schoolboy', 'thin': 'thin', 'air': 'air', 'caged': 'caged', 'sings': 'sings', 'frankenstein': 'frankenstein', 'beast': 'beast', 'geek': 'geek', 'master': 'master', 'margarita': 'margarita', 'even': 'even', 'cowgirls': 'cowgirls', 'get': 'get', 'blues': 'blues', 'shampoo': 'shampoo', 'servant': 'servant', 'conspiracy': 'conspiracy', 'smoke': 'smoke', 'witches': 'witches', 'eastwick': 'eastwick', 'armageddon': 'armageddon', 'seize': 'seize', 'shattered': 'shattered', 'crush': 'crush', 'rd': 'rd', 'degree': 'degree', 'lust': 'lust', 'lizard': 'lizard', 'melancholy': 'melancholy', 'cove': 'cove', 'flowers': 'flowers', 'tiger': 'tiger', 'celeb': 'celeb', 'unicorn': 'unicorn', 'sure': 'sure', 'coma': 'coma', 'laughter': 'laughter', 'forgetting': 'forgetting', 'carter': 'carter', 'beats': 'beats', 'devil': 'devil', 'glass': 'glass', 'buried': 'buried', 'caesar': 'caesar', 'cross': 'cross', 'among': 'among', 'missing': 'missing', 'fang': 'fang', 'kings': 'kings', 'buccaneer': 'buccaneer', 'coming': 'coming', 'edge': 'edge', 'simple': 'simple', 'plan': 'plan', 'david': 'david', 'boring': 'boring', 'gone': 'gone', 'jacob': 'jacob', 'loved': 'loved', 'exit': 'exit', 'evidence': 'evidence', 'awakening': 'awakening', 'badge': 'badge', 'courage': 'courage', 'tigana': 'tigana', 'al': 'al', 'rassan': 'rassan', 'acornas': 'acornas', 'see': 'see', 'run': 'run', 'deep': 'deep', 'ocean': 'ocean', 'geralds': 'geralds', 'madder': 'madder', 'eaters': 'eaters', 'mary': 'mary', 'reilly': 'reilly', 'old': 'old', 'quixote': 'quixote', 'room': 'room', 'salem': 'salem', 'harvesting': 'harvesting', 'look': 'look', 'howards': 'howards', 'wake': 'wake', 'open': 'open', 'esperanza': 'esperanza', 'mysterious': 'mysterious', 'affair': 'affair', 'styles': 'styles', 'tell': 'tell', 'ginger': 'ginger', 'pye': 'pye', 'pilots': 'pilots', 'obasan': 'obasan', 'anna': 'anna', 'karenina': 'karenina', 'count': 'count', 'karlstein': 'karlstein', 'mars': 'mars', 'deliverance': 'deliverance', 'berlin': 'lin', 'buick': 'buick', 'matilda': 'matilda', 'sounder': 'sounder', 'flew': 'flew', 'cuckoos': 'cuckoos', 'bonfire': 'bonfire', 'vanities': 'vanities', 'lion': 'lion', 'spiders': 'spiders', 'pony': 'pony', 'surrender': 'surrender', 'pink': 'pink', 'eagles': 'eagles', 'swiftly': 'swiftly', 'tilting': 'tilting', 'always': 'always', 'live': 'live', 'twice': 'twice', 'devils': 'devils', 'arithmetic': 'arithmetic', 'custom': 'custom', 'country': 'country', 'troublesome': 'troublesome', 'offspring': 'offspring', 'cardinal': 'cardinal', 'guzman': 'guzman', 'alaska': 'alaska', 'girlfriend': 'girlfriend', 'guilty': 'guilty', 'pleasures': 'pleasures', 'flat': 'flat', 'promise': 'promise', 'household': 'household', 'bfg': 'bfg', 'needful': 'needful', 'till': 'till', 'us': 'us', 'part': 'part', 'firebird': 'firebird', 'goodbye': 'goodbye', 'california': 'california', 'remembrance': 'remembrance', 'smart': 'smart', 'blunderer': 'blunderer', 'saints': 'saints', 'music': 'music', 'windward': 'windward', 'storm': 'storm', 'beside': 'beside', 'butterfly': 'butterfly', 'staircase': 'staircase', 'shakespeare': 'shakespeare', 'stealer': 'stealer', 'matters': 'matters', 'believer': 'believer', 'thoughts': 'thoughts', 'nature': 'nature', 'mass': 'mass', 'movements': 'movements', 'oscar': 'oscar', 'lucinda': 'lucinda', 'kate': 'kate', 'remembered': 'remembered', 'caucasia': 'caucasia', 'matchlock': 'matchlock', 'gun': 'gun', 'washington': 'washington', 'prudence': 'prudence', 'wanderlust': 'wanderlust', 'carrie': 'carrie', 'beauty': 'beauty', 'retelling': 'retelling', 'child': 'child', 'baron': 'baron', 'drowning': 'drowning', 'ruth': 'ruth', 'supremacy': 'supremacy', 'lonely': 'lonely', 'jessica': 'jessica', 'velveteen': 'velveteen', 'persuasion': 'persuasion', 'sower': 'sower', 'sacrifice': 'sacrifice', 'psycho': 'psycho', 'canticle': 'canticle', 'leibowitz': 'leibowitz', 'hereafter': 'hereafter', 'expendable': 'expendable', 'windhaven': 'windhaven', 'language': 'language', 'cranes': 'cranes', 'screwtape': 'screwtape', 'letters': 'letters', 'legacy': 'legacy', 'seven': 'seven', 'gables': 'gables', 'accident': 'accident', 'lazarillo': 'lazarillo', 'de': 'de', 'tormes': 'tormes', 'named': 'named', 'disaster': 'disaster', 'false': 'false', 'memory': 'memory', 'computer': 'computer', 'connection': 'connection', 'hippopotamus': 'hippopotamus', 'poppers': 'poppers', 'penguins': 'penguins', 'foucaults': 'foucaults', 'pendulum': 'pendulum', 'annes': 'annes', 'hatchet': 'hatchet', 'shadows': 'shadows', 'whale': 'whale', 'eastern': 'eastern', 'standard': 'standard', 'tribe': 'tribe', 'wishsong': 'wishsong', 'colony': 'colony', 'walking': 'walking', 'pastime': 'pastime', 'catskill': 'catskill', 'eagle': 'eagle', 'ceremony': 'ceremony', 'looking': 'looking', 'rachel': 'rachel', 'wallace': 'wallace', 'promised': 'promised', 'godwulf': 'godwulf', 'manuscript': 'manuscript', 'shall': 'shall', 'velocity': 'velocity', 'icon': 'icon', 'human': 'human', 'tropic': 'tropic', 'cancer': 'cancer', 'strike': 'strike', 'triggerfish': 'triggerfish', 'twist': 'twist', 'paula': 'paula', 'redbird': 'redbird', 'anne': 'anne', 'arms': 'arms', 'chalion': 'chalion', 'waters': 'waters', 'trapped': 'trapped', 'bloodline': 'bloodline', 'soul': 'soul', 'thinner': 'thinner', 'outbreak': 'outbreak', 'went': 'went', 'underground': 'underground', 'pegasus': 'pegasus', 'universe': 'universe', 'final': 'final', 'days': 'days', 'carmilla': 'carmilla', 'johnny': 'johnny', 'got': 'got', 'canal': 'canal', 'amsterdam': 'amsterdam', 'talisman': 'talisman', 'stuart': 'stuart', 'captain': 'captain', 'underpants': 'underpants', 'invasion': 'invasion', 'incredibly': 'incredibly', 'naughty': 'naughty', 'cafeteria': 'cafeteria', 'ladies': 'ladies', 'outer': 'outer', 'beowulfs': 'beowulfs', 'dragonsbane': 'dragonsbane', 'brians': 'brians', 'vor': 'vor', 'negotiator': 'negotiator', 'abides': 'abides', 'strands': 'strands', 'starlight': 'starlight', 'egg': 'egg', 'wizard': 'wizard', 'dragonsinger': 'dragonsinger', 'january': 'january', 'th': 'th', 'cure': 'cure', 'balance': 'balance', 'setting': 'setting', 'free': 'free', 'bears': 'bears', 'ugly': 'ugly', 'duckling': 'duckling', 'magic': 'magic', 'janson': 'janson', 'directive': 'directive', 'wilt': 'wilt', 'crossings': 'crossings', 'outsider': 'outsider', 'dune': 'dune', 'vision': 'vision', 'boys': 'boys', 'flashforward': 'flashforward', 'society': 'society', 'singularity': 'singularity', 'tabloid': 'tabloid', 'bone': 'bone', 'neanderthal': 'neanderthal', 'ate': 'ate', 'gymsuit': 'gymsuit', 'sole': 'sole', 'survivor': 'survivor', 'franny': 'franny', 'zooey': 'zooey', 'hells': 'hells', 'manhattan': 'manhattan', 'beat': 'beat', 'halloween': 'halloween', 'vortex': 'vortex', 'warning': 'warning', 'snakes': 'snakes', 'darkfall': 'darkfall', 'sunday': 'sunday', 'sunset': 'sunset', 'st': 'st', 'tropez': 'tropez', 'omaha': 'omaha', 'deceiver': 'deceiver', 'pollyanna': 'pollyanna', 'terabithia': 'terabithia', 'complicity': 'complicity', 'fat': 'fat', 'better': 'better', 'prizes': 'prizes', 'grendel': 'grendel', 'morality': 'morality', 'play': 'play', 'bluest': 'bluest', 'fortunes': 'fortunes', 'rocks': 'rocks', 'intruder': 'intruder', 'tuck': 'tuck', 'everlasting': 'everlasting', 'diagnosis': 'diagnosis', 'kaaterskill': 'kaaterskill', 'jew': 'jew', 'boat': 'boat', 'million': 'million', 'namesake': 'namesake', 'unforgettable': 'unforgettable', 'magician': 'magician', 'original': 'original', 'sin': 'sin', 'divine': 'divine', 'secrets': 'secrets', 'ya': 'ya', 'sisterhood': 'sisterhood', 'stain': 'stain', 'fingersmith': 'fingersmith', 'fever': 'fever', 'celestine': 'celestine', 'prophecy': 'prophecy', 'inkheart': 'inkheart', 'troy': 'troy', 'tipping': 'tipping', 'velvet': 'velvet', 'annie': 'annie', 'john': 'john', 'memphis': 'memphis', 'lords': 'lords', 'discipline': 'discipline', 'swan': 'swan', 'jennifer': 'jennifer', 'government': 'government', 'passengers': 'passengers', 'question': 'question', 'inspector': 'inspector', 'rebus': 'rebus', 'substance': 'substance', 'tame': 'tame', 'gazelle': 'gazelle', 'intuitionist': 'intuitionist', 'coldheart': 'coldheart', 'canyon': 'canyon', 'fugitive': 'fugitive', 'pieces': 'pieces', 'midwives': 'midwives', 'rome': 'rome', 'castaways': 'castaways', 'flying': 'flying', 'dutchman': 'dutchman', 'blessing': 'blessing', 'hidden': 'hidden', 'educated': 'educated', 'rodents': 'rodents', 'double': 'double', 'treasure': 'treasure', 'sierra': 'sierra', 'madre': 'madre', 'special': 'special', 'delivery': 'delivery', 'echo': 'echo', 'spindles': 'spindles', 'flower': 'flower', 'roses': 'roses', 'interface': 'interface', 'swans': 'swans', 'rage': 'rage', 'windmills': 'windmills', 'angle': 'angle', 'repose': 'repose', 'llyr': 'llyr', 'weirdstone': 'weirdstone', 'brisingamen': 'brisingamen', 'winn': 'winn', 'dixie': 'dixie', 'knew': 'knew', 'lane': 'lane', 'everything': 'everything', 'crystal': 'crystal', 'cave': 'cave', 'dumas': 'dumas', 'cauldron': 'cauldron', 'walks': 'walks', 'walls': 'walls', 'basic': 'basic', 'eight': 'eight', 'battle': 'battle', 'brotherhood': 'brotherhood', 'anatomy': 'anatomy', 'lesson': 'lesson', 'arrangement': 'arrangement', 'heard': 'heard', 'call': 'call', 'algernon': 'algernon', 'solomon': 'solomon', 'ties': 'ties', 'osterman': 'osterman', 'weekend': 'weekend', 'vox': 'vox', 'foretold': 'foretold', 'persian': 'sian', 'ilyich': 'ilyich', 'hunter': 'hunter', 'moo': 'moo', 'harriet': 'harriet', 'cobra': 'cobra', 'event': 'event', 'moonrise': 'moonrise', 'rider': 'rider', 'maia': 'maia', 'second': 'second', 'foundation': 'foundation', 'appointment': 'appointment', 'clear': 'clear', 'present': 'present', 'danger': 'danger', 'invincible': 'invincible', 'joe': 'joe', 'goulds': 'goulds', 'austen': 'austen', 'bliss': 'bliss', 'imaginative': 'imaginative', 'experience': 'experience', 'lathe': 'lathe', 'donnie': 'donnie', 'brasco': 'brasco', 'undercover': 'undercover', 'mafia': 'mafia', 'killing': 'killing', 'floor': 'floor', 'custody': 'custody', 'dirk': 'dirk', 'gentlys': 'gentlys', 'holistic': 'holistic', 'detective': 'detective', 'agency': 'agency', 'loves': 'loves', 'thanks': 'thanks', 'fish': 'fish', 'mixed': 'mixed', 'blessings': 'blessings', 'pyramids': 'pyramids', 'truman': 'truman', 'ash': 'ash', 'executive': 'executive', 'orders': 'orders', 'traveling': 'traveling', 'pants': 'pants', 'mote': 'mote', 'wears': 'wears', 'prada': 'prada', 'whit': 'whit', 'ringworld': 'ringworld', 'superstitious': 'superstitious', 'hogfather': 'hogfather', 'arrow': 'arrow', 'defense': 'defense', 'chesapeake': 'chesapeake', 'praise': 'praise', 'singer': 'singer', 'stormy': 'stormy', 'weather': 'weather', 'creation': 'creation', 'confessor': 'confessor', 'butterflies': 'butterflies', 'vector': 'vector', 'orca': 'orca', 'athyra': 'athyra', 'phoenix': 'phoenix', 'teckla': 'teckla', 'yendi': 'yendi', 'jhereg': 'jhereg', 'illusions': 'illusions', 'parsifal': 'parsifal', 'mosaic': 'mosaic', 'impulse': 'impulse', 'capital': 'capital', 'crimes': 'crimes', 'costs': 'costs', 'kingdom': 'kingdom', 'sentinel': 'sentinel', 'turbulence': 'turbulence', 'conflict': 'conflict', 'interest': 'interest', 'kinflicks': 'kinflicks', 'shardik': 'shardik', 'parker': 'parker', 'pyne': 'pyne', 'investigates': 'investigates', 'job': 'job', 'comedy': 'comedy', 'justice': 'justice', 'terrible': 'terrible', 'limit': 'limit', 'relic': 'relic', 'gate': 'gate', 'womens': 'womens', 'finishing': 'finishing', 'risk': 'risk', 'sigma': 'sigma', 'protocol': 'protocol', 'brothers': 'brothers', 'beautiful': 'beautiful', 'losers': 'losers', 'pinch': 'pinch', 'snuff': 'snuff', 'moviegoer': 'moviegoer', 'vernon': 'vernon', 'treatment': 'treatment', 'monsters': 'monsters', 'stolen': 'stolen', 'bitten': 'bitten', 'songmaster': 'songmaster', 'tangerine': 'tangerine', 'taltos': 'taltos', 'thornyhold': 'thornyhold', 'sandman': 'sandman', 'dream': 'dream', 'hunters': 'hunters', 'onion': 'onion', 'foundling': 'foundling', 'moth': 'moth', 'nonesuch': 'nonesuch', 'memories': 'memories', 'greenmantle': 'greenmantle', 'cousin': 'cousin', 'legendary': 'legendary', 'sands': 'sands', 'citizen': 'citizen', 'golden': 'golden', 'flopsy': 'flopsy', 'bunnies': 'bunnies', 'eclipse': 'eclipse', 'astas': 'astas', 'oyster': 'oyster', 'carvers': 'carvers', 'cup': 'cup', 'plain': 'plain', 'truth': 'truth', 'crying': 'crying', 'lot': 'lot', 'bitter': 'bitter', 'spider': 'spider', 'frank': 'frank', 'blank': 'blank', 'slate': 'slate', 'modern': 'modern', 'denial': 'denial', 'babbitt': 'babbitt', 'piedra': 'piedra', 'sat': 'sat', 'wept': 'wept', 'wyrms': 'wyrms', 'harts': 'harts', 'hope': 'hope', 'charlie': 'charlie', 'chocolate': 'chocolate', 'fall': 'fall', 'damnation': 'damnation', 'alley': 'alley', 'torn': 'torn', 'wifey': 'wifey', 'ultimatum': 'ultimatum', 'bloody': 'bloody', 'sunlight': 'sunlight', 'thendara': 'thendara', 'worthing': 'worthing', 'shroud': 'shroud', 'maze': 'maze', 'moonlight': 'moonlight', 'area': 'area', 'conjure': 'conjure', 'floating': 'floating', 'dinosaur': 'dinosaur', 'survivors': 'survivors', 'uhuras': 'uhuras', 'cadet': 'cadet', 'associate': 'associate', 'blackout': 'blackout', 'rat': 'rat', 'thrice': 'thrice', 'upon': 'upon', 'steerswoman': 'steerswoman', 'silver': 'silver', 'serpents': 'serpents', 'rule': 'rule', 'blindsight': 'blindsight', 'diceys': 'diceys', 'never': 'never', 'perelandra': 'perelandra', 'orphans': 'orphans', 'shadowland': 'shadowland', 'bertrams': 'bertrams', 'august': 'august', 'silence': 'silence', 'bodily': 'bodily', 'harm': 'harm', 'hexwood': 'hexwood', 'ombria': 'ombria', 'triffids': 'triffids', 'queens': 'queens', 'gambit': 'gambit', 'next': 'next', 'archangel': 'archangel', 'marigold': 'marigold', 'emilys': 'emilys', 'quest': 'quest', 'emily': 'emily', 'northern': 'northern', 'gallows': 'gallows', 'iacocca': 'iacocca', 'autobiography': 'autobiography', 'acquaintance': 'acquaintance', 'princesses': 'princesses', 'bamarre': 'bamarre', 'sharpes': 'sharpes', 'seeing': 'seeing', 'confessions': 'confessions', 'stepsister': 'stepsister', 'redeeming': 'redeeming', 'giraffe': 'giraffe', 'pelly': 'pelly', 'sanctuary': 'sanctuary', 'wedgie': 'wedgie', 'diamond': 'diamond', 'middle': 'middle', 'serpent': 'serpent', 'mage': 'mage', 'eric': 'eric', 'crash': 'crash', 'obsidian': 'obsidian', 'incest': 'incest', 'airport': 'airport', 'creatures': 'creatures', 'train': 'train', 'robbery': 'robbery', 'vanity': 'vanity', 'dies': 'dies', 'hard': 'hard', 'palace': 'palace', 'going': 'going', 'cacciato': 'cacciato', 'tomcat': 'tomcat', 'oxygen': 'oxygen', 'bell': 'bell', 'tolls': 'tolls', 'kremlin': 'kremlin', 'rough': 'rough', 'wardrobe': 'wardrobe', 'generals': 'generals', 'singin': 'singin', 'swingin': 'swingin', 'gettin': 'gettin', 'merry': 'merry', 'evil': 'evil', 'sound': 'sound', 'waves': 'waves', 'moomintroll': 'moomintroll', 'zachariah': 'zachariah', 'longer': 'longer', 'later': 'later', 'dreamland': 'dreamland', 'foxfire': 'foxfire', 'oswald': 'oswald', 'confidential': 'confidential', 'right': 'right', 'rain': 'rain', 'pay': 'pay', 'ransom': 'ransom', 'traveler': 'traveler', 'hide': 'hide', 'seek': 'seek', 'hammerhead': 'hammerhead', 'ranch': 'ranch', 'motel': 'motel', 'highwayman': 'highwayman', 'sequined': 'sequined', 'nun': 'nun', 'genji': 'genji', 'galilee': 'galilee', 'dreamer': 'dreamer', 'lamb': 'lamb', 'gospel': 'gospel', 'according': 'according', 'biff': 'biff', 'christs': 'christs', 'childhood': 'childhood', 'pal': 'pal', 'paperboy': 'paperboy', 'robots': 'robots', 'diary': 'diary', 'chambermaid': 'chambermaid', 'strip': 'strip', 'tease': 'tease', 'afterlife': 'afterlife', 'simisola': 'simisola', 'gypsy': 'gypsy', 'less': 'less', 'bend': 'bend', 'sinister': 'sinister', 'lucy': 'lucy', 'gault': 'gault', 'ali': 'ali', 'nino': 'nino', 'ragtime': 'ragtime', 'garp': 'garp', 'strand': 'strand', 'bookshop': 'bookshop', 'laughing': 'laughing', 'gas': 'gas', 'mysteries': 'mysteries', 'pittsburgh': 'pittsburgh', 'knowledge': 'knowledge', 'virtual': 'virtual', 'venus': 'venus', 'rosemarys': 'rosemarys', 'wednesdays': 'wednesdays', 'zombie': 'zombie', 'heartbeat': 'heartbeat', 'prayers': 'prayers', 'malcolm': 'malcolm', 'lad': 'lad', 'dear': 'dear', 'henshaw': 'henshaw', 'grania': 'grania', 'irish': 'irish', 'seas': 'seas', 'whose': 'whose', 'moreta': 'moreta', 'dragonlady': 'dragonlady', 'fletch': 'fletch', 'maybe': 'maybe', 'wont': 'wont', 'speaker': 'speaker', 'touch': 'touch', 'sunnybrook': 'sunnybrook', 'ozma': 'ozma', 'oz': 'oz', 'sittaford': 'sittaford', 'hawaii': 'hawaii', 'christy': 'christy', 'motorcycle': 'motorcycle', 'freaky': 'freaky', 'dragonquest': 'dragonquest', 'tebbits': 'tebbits', 'beezus': 'beezus', 'ramona': 'ramona', 'pamela': 'pamela', 'pedestal': 'pedestal', 'deduction': 'deduction', 'trespass': 'trespass', 'harem': 'harem', 'girlhood': 'girlhood', 'stew': 'stew', 'yellow': 'yellow', 'raft': 'raft', 'miss': 'miss', 'jean': 'jean', 'brodie': 'brodie', 'scorpio': 'scorpio', 'illusion': 'illusion', 'apocalypse': 'apocalypse', 'nobodys': 'nobodys', 'mine': 'mine', 'visitors': 'visitors', 'herland': 'herland', 'cities': 'cities', 'april': 'april', 'morning': 'morning', 'thursdays': 'thursdays', 'restraint': 'restraint', 'jacobs': 'jacobs', 'debt': 'debt', 'odessa': 'odessa', 'file': 'file', 'jackal': 'jackal', 'silk': 'silk', 'le': 'le', 'jimmy': 'jimmy', 'corrigan': 'corrigan', 'smartest': 'smartest', 'kid': 'kid', 'climate': 'climate', 'discovery': 'discovery', 'sebastian': 'sebastian', 'knight': 'knight', 'riddley': 'riddley', 'walker': 'walker', 'emmanuels': 'emmanuels', 'nether': 'nether', 'parts': 'parts', 'andes': 'andes', 'ingenious': 'ingenious', 'pain': 'pain', 'jasmine': 'jasmine', 'hornet': 'hornet', 'pooh': 'pooh', 'saw': 'saw', 'maisie': 'maisie', 'dobbs': 'dobbs', 'encounter': 'encounter', 'tiber': 'tiber', 'brat': 'brat', 'farrar': 'farrar', 'stepford': 'stepford', 'wives': 'wives', 'gathering': 'gathering', 'toms': 'toms', 'cabin': 'cabin', 'talked': 'talked', 'turkey': 'turkey', 'whirlwind': 'whirlwind', 'antarctica': 'antarctica', 'rehearsal': 'rehearsal', 'clock': 'clock', 'winder': 'winder', 'clouds': 'clouds', 'clocks': 'clocks', 'nemesis': 'nemesis', 'edgware': 'edgware', 'beebo': 'beebo', 'brinker': 'brinker', 'bimbos': 'bimbos', 'postcards': 'postcards', 'passenger': 'passenger', 'frankfurt': 'frankfurt', 'telling': 'telling', 'flung': 'flung', 'immortals': 'immortals', 'bloodlines': 'bloodlines', 'nectar': 'nectar', 'sieve': 'sieve', 'immoralist': 'immoralist', 'daniels': 'daniels', 'widows': 'widows', 'daughters': 'daughters', 'cain': 'cain', 'wounded': 'wounded', 'bonjour': 'bonjour', 'tristesse': 'tristesse', 'puppet': 'puppet', 'masters': 'masters', 'genome': 'genome', 'covenant': 'covenant', 'swim': 'swim', 'dave': 'dave', 'swiss': 'swiss', 'robinson': 'robinson', 'laws': 'laws', 'fathers': 'fathers', 'certain': 'certain', 'smile': 'smile', 'loyalty': 'loyalty', 'flash': 'flash', 'vengeance': 'vengeance', 'stakes': 'stakes', 'faces': 'faces', 'briar': 'briar', 'forgotten': 'forgotten', 'eld': 'eld', 'thidwick': 'thidwick', 'hearted': 'hearted', 'moose': 'moose', 'goodnight': 'goodnight', 'magicians': 'magicians', 'nephew': 'nephew', 'prairie': 'prairie', 'banks': 'banks', 'plum': 'plum', 'eater': 'eater', 'trinity': 'trinity', 'cay': 'cay', 'emergence': 'emergence', 'san': 'san', 'andreas': 'andreas', 'rubber': 'rubber', 'band': 'band', 'rich': 'rich', 'poor': 'poor', 'proteus': 'proteus', 'operation': 'operation', 'flown': 'flown', 'aquitaine': 'aquitaine', 'progression': 'progression', 'chances': 'chances', 'flood': 'flood', 'floodgate': 'floodgate', 'plot': 'plot', 'winds': 'winds', 'alternative': 'alternative', 'services': 'services', 'battlefield': 'battlefield', 'resurrection': 'resurrection', 'fairy': 'fairy', 'godmother': 'godmother', 'souls': 'souls', 'roc': 'roc', 'pigman': 'pigman', 'icerigger': 'icerigger', 'scruples': 'scruples', 'brazil': 'brazil', 'santorini': 'santorini', 'vaiden': 'vaiden', 'win': 'win', 'lose': 'lose', 'needle': 'needle', 'foreign': 'foreign', 'affairs': 'affairs', 'oh': 'oh', 'youll': 'youll', 'go': 'go', 'knave': 'knave', 'swords': 'swords', 'shiloh': 'shiloh', 'freak': 'freak', 'mighty': 'mighty', 'background': 'background', 'predator': 'predator', 'ho': 'ho', 'jeeves': 'jeeves', 'travels': 'travels', 'charley': 'charley', 'search': 'search', 'mila': 'mila', 'doctor': 'doctor', 'zhivago': 'zhivago', 'lambs': 'lambs', 'scandal': 'scandal', 'la': 'la', 'celestina': 'celestina', 'reckless': 'reckless', 'necroscope': 'necroscope', 'pioneers': 'pioneers', 'visitation': 'visitation', 'sati': 'sat', 'heres': 'heres', 'nightshade': 'nightshade', 'cage': 'cage', 'strider': 'strider', 'mask': 'mask', 'nightingale': 'nightingale', 'circus': 'circus', 'canterville': 'canterville', 'waiting': 'waiting', 'galactic': 'galactic', 'bus': 'bus', 'solitaire': 'solitaire', 'tread': 'tread', 'youth': 'youth', 'revolt': 'revolt', 'sir': 'sir', 'gawain': 'gawain', 'untamed': 'untamed', 'folded': 'folded', 'bread': 'bread', 'givers': 'givers', 'shorty': 'shorty', 'chiefs': 'chiefs', 'redux': 'redux', 'hammer': 'hammer', 'nile': 'nile', 'western': 'western', 'colour': 'colour', 'tower': 'tower', 'stony': 'stony', 'regeneration': 'regeneration', 'assassini': 'assassini', 'teenage': 'teenage', 'drama': 'drama', 'grace': 'grace', 'wither': 'wither', 'parallelities': 'parallelities', 'line': 'line', 'peshawar': 'peshawar', 'lancers': 'lancers', 'icebreaker': 'icebreaker', 'camp': 'camp', 'concentration': 'concentration', 'ground': 'ground', 'mexico': 'mexico', 'set': 'set', 'writes': 'writes', 'colonel': 'colonel', 'sophies': 'sophies', 'choice': 'choice', 'eat': 'eat', 'fried': 'fried', 'worms': 'worms', 'skull': 'skull', 'beneath': 'beneath', 'finitys': 'finitys', 'feast': 'feast', 'mind': 'mind', 'kissing': 'kissing', 'gunners': 'gunners', 'footfall': 'footfall', 'exodus': 'exodus', 'skinnybones': 'skinnybones', 'musketeers': 'musketeers', 'wonderful': 'wonderful', 'peter': 'peter', 'funeral': 'funeral', 'around': 'around', 'solaris': 'solar', 'far': 'far', 'madding': 'madding', 'crowd': 'crowd', 'cover': 'cover', 'didnt': 'didnt', 'ask': 'ask', 'evans': 'evans', 'grizzly': 'grizzly', 'forrest': 'forrest', 'gump': 'gump', 'bleeding': 'bleeding', 'hearts': 'hearts', 'ultimate': 'ultimate', 'dirty': 'dirty', 'adrian': 'adrian', 'mole': 'mole', 'cappuccino': 'cappuccino', 'neighbour': 'neighbour', 'shades': 'shades', 'ninth': 'ninth', 'ascending': 'ascending', 'howls': 'howls', 'moving': 'moving', 'derkholm': 'derkholm', 'crusader': 'crusader', 'ghostwritten': 'ghostwritten', 'elfin': 'elfin', 'ship': 'ship', 'prisoner': 'prisoner', 'caesars': 'caesars', 'journals': 'journals', 'excellent': 'excellent', 'professor': 'professor', 'desire': 'desire', 'counterlife': 'counterlife', 'compulsion': 'compulsion', 'solomons': 'solomons', 'carpet': 'carpet', 'conundrum': 'conundrum', 'jack': 'jack', 'maggs': 'maggs', 'spin': 'spin', 'dragonheart': 'dragonheart', 'charwomans': 'charwomans', 'hoboken': 'hoboken', 'chicken': 'chicken', 'emergency': 'emergency', 'aliens': 'aliens', 'homework': 'homework', 'penultimate': 'penultimate', 'kalahari': 'kalahari', 'typing': 'typing', 'barbarians': 'barbarians', 'ecotopia': 'ecotopia', 'turnabout': 'turnabout', 'malice': 'malice', 'vital': 'vital', 'signs': 'signs', 'illywhacker': 'illywhacker', 'son': 'son', 'spellsinger': 'spellsinger', 'reckoning': 'reckoning', 'rifles': 'rifles', 'watie': 'watie', 'yeller': 'yeller', 'ordeal': 'ordeal', 'hands': 'hands', 'sleeping': 'sleeping', 'tempest': 'tempest', 'crow': 'crow', 'partners': 'partners', 'crime': 'crime', 'iron': 'iron', 'hate': 'hate', 'harlots': 'harlots', 'drum': 'drum', 'sunne': 'sunne', 'splendour': 'splendour', 'spring': 'spring', 'godot': 'godot', 'endymion': 'endymion', 'hills': 'hills', 'reborn': 'reborn', 'keep': 'keep', 'nightwing': 'nightwing', 'thirst': 'thirst', 'fevre': 'fevre', 'rites': 'rites', 'soft': 'soft', 'whisper': 'whisper', 'alas': 'alas', 'babylon': 'babylon', 'clan': 'clan', 'storming': 'storming', 'constant': 'constant', 'gardener': 'gardener', 'remains': 'remains', 'finite': 'finite', 'infinite': 'infinite', 'blitzcat': 'blitzcat', 'reflex': 'reflex', 'crossing': 'crossing', 'naomi': 'naomi', 'doorbell': 'doorbell', 'rang': 'rang', 'moominpappa': 'moominpappa', 'incredible': 'incredible', 'mushroom': 'mushroom', 'betrayal': 'betrayal', 'letting': 'letting', 'hush': 'hush', 'jewels': 'jewels', 'freedomland': 'freedomland', 'revelation': 'revelation', 'fade': 'fade', 'opera': 'opera', 'seville': 'seville', 'sahara': 'sahara', 'mesa': 'mesa', 'strawberry': 'strawberry', 'brain': 'brain', 'forbidden': 'forbidden', 'bind': 'bind', 'willow': 'willow', 'guess': 'guess', 'jar': 'jar', 'blindness': 'blindness', 'kin': 'kin', 'engagement': 'engagement', 'stark': 'stark', 'basilisk': 'basilisk', 'sometimes': 'sometimes', 'notion': 'notion', 'russia': 'russia', 'picnic': 'picnic', 'hanging': 'hanging', 'jumper': 'jumper', 'amnesia': 'amnesia', 'globe': 'globe', 'ammonite': 'ammonite', 'someone': 'someone', 'weetzie': 'weetzie', 'bat': 'bat', 'ethan': 'ethan', 'athos': 'athos', 'enemy': 'enemy', 'signal': 'signal', 'noise': 'noise', 'probability': 'probability', 'broach': 'broach', 'wheelers': 'wheelers', 'march': 'march', 'magus': 'magus', 'becoming': 'becoming', 'madame': 'madame', 'mao': 'mao', 'razors': 'razors', 'burdick': 'burdick', 'grinch': 'grinch', 'stole': 'stole', 'butcher': 'butcher', 'heartless': 'heartless', 'hold': 'hold', 'fathom': 'fathom', 'dance': 'dance', 'palestine': 'palestine', 'harsh': 'harsh', 'mistress': 'mistress', 'changeover': 'changeover', 'supernatural': 'supernatural', 'gargoyles': 'gargoyles', 'killshot': 'killshot', 'fox': 'fox', 'vicar': 'vicar', 'nibbleswicke': 'nibbleswicke', 'esio': 'esio', 'trot': 'trot', 'harry': 'harry', 'potter': 'potter', 'katherine': 'katherine', 'lasts': 'lasts', 'twits': 'twits', 'gather': 'gather', 'together': 'together', 'farmer': 'farmer', 'sparkling': 'sparkling', 'cyanide': 'cyanide', 'unexpected': 'unexpected', 'guest': 'guest', 'matter': 'matter', 'honour': 'honour', 'came': 'came', 'baghdad': 'baghdad', 'tin': 'tin', 'sorrows': 'sorrows', 'deadly': 'deadly', 'quicksilver': 'quicksilver', 'lies': 'lies', 'skinwalkers': 'skinwalkers', 'balthasars': 'balthasars', 'hello': 'hello', 'timescape': 'timescape', 'money': 'money', 'riders': 'riders', 'sage': 'sage', 'impact': 'impact', 'arc': 'arc', 'reunion': 'reunion', 'momo': 'momo', 'leopard': 'leopard', 'timequake': 'timequake', 'stair': 'stair', 'kite': 'kite', 'famous': 'famous', 'tuner': 'tuner', 'also': 'also', 'rises': 'rises', 'loser': 'loser', 'lanark': 'lanark', 'waterland': 'waterland', 'sister': 'sister', 'omega': 'omega', 'eternal': 'eternal', 'champion': 'champion', 'unknown': 'unknown', 'kindred': 'kindred', 'mid': 'mid', 'flinx': 'flinx', 'voyage': 'voyage', 'challenge': 'challenge', 'gold': 'gold', 'shake': 'shake', 'ishmael': 'ishmael', 'mansfield': 'mansfield', 'antipope': 'antipope', 'hostage': 'hostage', 'seen': 'seen', 'wearing': 'wearing', 'russian': 'russian', 'summers': 'summers', 'rascal': 'rascal', 'songlines': 'songlines', 'immigrants': 'immigrants', 'statement': 'statement', 'dragonseye': 'dragonseye', 'breakthroughs': 'breakthroughs', 'horizon': 'horizon', 'cosmos': 'cosmos', 'unweaving': 'unweaving', 'science': 'science', 'delusion': 'delusion', 'appetite': 'appetite', 'wonder': 'wonder', 'pollen': 'pollen', 'paris': 'paris', 'london': 'london', 'porno': 'porno', 'hunting': 'hunting', 'party': 'party', 'financier': 'financier', 'millionaire': 'millionaire', 'iggies': 'iggies', 'holcroft': 'holcroft', 'hounds': 'hounds', 'morrigan': 'morrigan', 'wide': 'wide', 'sargasso': 'sargasso', 'pound': 'pound', 'marriage': 'marriage', 'champagne': 'champagne', 'advertise': 'advertise', 'requiem': 'requiem', 'circuit': 'circuit', 'migrant': 'migrant', 'dogeaters': 'dogeaters', 'aquamarine': 'aquamarine', 'cut': 'cut', 'kim': 'kim', 'dice': 'dice', 'puppeteer': 'puppeteer', 'daddy': 'daddy', 'loud': 'loud', 'destinys': 'destinys', 'disappearance': 'disappearance', 'deryni': 'deryni', 'swing': 'swing', 'mammoth': 'mammoth', 'price': 'price', 'files': 'files', 'basil': 'basil', 'frankweiler': 'frankweiler', 'trying': 'trying', 'unconsoled': 'unconsoled', 'songs': 'songs', 'jim': 'jim', 'mort': 'mort', 'santini': 'santini', 'ii': 'ii', 'destination': 'destination', 'bluebeard': 'bluebeard', 'lorax': 'lorax', 'nevermore': 'nevermore', 'sail': 'sail', 'beyond': 'beyond', 'lifemaker': 'lifemaker', 'bloom': 'bloom', 'porterhouse': 'porterhouse', 'deadeye': 'deadeye', 'dick': 'dick', 'twelve': 'twelve', 'election': 'election', 'rebel': 'rebel', 'guards': 'guards', 'incognito': 'incognito', 'education': 'education', 'monte': 'monte', 'cristo': 'cristo', 'snail': 'snail', 'mail': 'mail', 'idiot': 'idiot', 'debutantes': 'debutantes', 'handbook': 'handbook', 'stormbreaker': 'stormbreaker', 'finger': 'finger', 'primary': 'primary', 'colors': 'colors', 'edinburgh': 'edinburgh', 'wellville': 'wellville', 'gursky': 'gursky', 'les': 'les', 'liaisons': 'liaisons', 'dangereuses': 'dangereuses', 'enigma': 'enigma', 'calcutta': 'calcutta', 'chromosome': 'chromosome', 'marabou': 'marabou', 'stork': 'stork', 'nightmares': 'nightmares', 'fifteen': 'fifteen', 'families': 'families', 'psychotic': 'psychotic', 'iceberg': 'iceberg', 'descent': 'descent', 'demon': 'demon', 'view': 'view', 'rimrunners': 'rimrunners', 'aunt': 'aunt', 'austerlitz': 'austerlitz', 'skilled': 'skilled', 'gentlemen': 'gentlemen', 'slaughterhouse': 'slaughterhouse', 'cocaine': 'cocaine', 'truths': 'truths', 'unsuitable': 'unsuitable', 'nerve': 'nerve', 'georges': 'georges', 'marvelous': 'marvelous', 'leaky': 'leaky', 'establishment': 'establishment', 'fail': 'fail', 'tripwire': 'tripwire', 'illegal': 'illegal', 'alien': 'alien', 'thrones': 'thrones', 'dominations': 'dominations', 'heir': 'heir', 'rise': 'rise', 'natural': 'natural', 'sign': 'sign', 'beaver': 'beaver', 'ratking': 'ratking', 'maggot': 'maggot', 'taste': 'taste', 'list': 'list', 'abarat': 'abarat', 'grasshopper': 'grasshopper', 'emerging': 'emerging', 'welcome': 'welcome', 'higby': 'higby', 'lair': 'lair', 'excession': 'excession', 'pan': 'pan', 'inversions': 'inversions', 'hour': 'hour', 'wheel': 'wheel', 'giovannis': 'giovannis', 'freckle': 'freckle', 'juice': 'juice', 'dahlia': 'dahlia', 'ease': 'ease', 'coldest': 'coldest', 'ever': 'ever', 'elbow': 'elbow', 'chicka': 'chicka', 'boom': 'boom', 'danny': 'danny', 'shoes': 'shoes', 'physician': 'physician', 'drawing': 'drawing', 'want': 'want', 'platform': 'platform', 'watching': 'watching', 'anthills': 'anthills', 'savannah': 'savannah', 'walden': 'walden', 'holy': 'holy', 'guns': 'guns', 'navarone': 'navarone', 'ballantrae': 'ballantrae', 'cloud': 'cloud', 'breakheart': 'breakheart', 'pass': 'pass', 'kindness': 'kindness', 'scoop': 'scoop', 'anglo': 'anglo', 'saxon': 'saxon', 'attitudes': 'attitudes', 'pit': 'pit', 'desert': 'desert', 'wilderness': 'wilderness', 'september': 'september', 'ass': 'ass', 'single': 'single', 'unkindness': 'unkindness', 'ravens': 'ravens', 'inversion': 'inversion', 'throwback': 'throwback', 'causes': 'causes', 'british': 'british', 'museum': 'museum', 'brideshead': 'brideshead', 'revisited': 'revisited', 'vile': 'vile', 'bodies': 'bodies', 'rabbi': 'rabbi', 'slept': 'slept', 'late': 'late', 'buckle': 'buckle', 'shoe': 'shoe', 'blott': 'blott', 'landscape': 'landscape', 'cal': 'cal', 'nuns': 'nuns', 'soldiers': 'soldiers', 'villette': 'villette', 'monsignor': 'monsignor', 'french': 'french', 'lieutenants': 'lieutenants', 'agent': 'agent', 'amerika': 'amerika', 'petersburg': 'petersburg', 'klingsors': 'klingsors', 'hornblower': 'hornblower', 'hotspur': 'hotspur', 'napoleon': 'napoleon', 'notting': 'notting', 'drummer': 'drummer', 'shelter': 'shelter', 'perfect': 'perfect', 'goldfinger': 'goldfinger', 'hook': 'hook', 'farewell': 'farewell', 'lovely': 'lovely', 'fair': 'fair', 'stood': 'stood', 'france': 'france', 'act': 'act', 'tragedy': 'tragedy', 'freedom': 'freedom', 'trap': 'trap', 'pursuit': 'pursuit', 'folly': 'folly', 'pricking': 'pricking', 'thumbs': 'thumbs', 'werewolf': 'werewolf', 'biting': 'biting', 'ivanhoe': 'ivanhoe', 'butter': 'butter', 'nowhere': 'nowhere', 'treat': 'treat', 'bamboo': 'bamboo', 'grove': 'grove', 'lark': 'lark', 'ninja': 'ninja', 'landed': 'landed', 'shockwave': 'shockwave', 'warday': 'warday', 'transfer': 'transfer', 'insect': 'insect', 'gregor': 'gregor', 'samsa': 'samsa', 'democracy': 'democracy', 'crusade': 'crusade', 'jeans': 'jeans', 'army': 'army', 'corduroy': 'corduroy', 'lullaby': 'lullaby', 'zodiac': 'zodiac', 'loose': 'loose', 'ends': 'ends', 'listening': 'listening', 'art': 'art', 'seduction': 'seduction', 'pictures': 'pictures', 'fermata': 'fermata', 'killer': 'killer', 'shuffle': 'shuffle', 'espedair': 'espedair', 'mermaid': 'mermaid', 'shogun': 'shogun', 'japan': 'japan', 'ball': 'ball', 'bowl': 'bowl', 'stiff': 'stiff', 'upper': 'upper', 'lip': 'lip', 'savage': 'savage', 'nappily': 'nappily', 'fury': 'fury', 'trojan': 'trojan', 'chrysalids': 'chrysalids', 'dawn': 'dawn', 'gridlock': 'gridlock', 'nice': 'nice', 'lucifers': 'lucifers', 'hallucinating': 'hallucinating', 'foucault': 'foucault', 'strandloper': 'strandloper', 'ruby': 'ruby', 'reverse': 'reverse', 'medal': 'medal', 'marque': 'marque', 'talismans': 'talismans', 'throne': 'throne', 'movie': 'movie', 'fool': 'fool', 'doubleshot': 'doubleshot', 'shoeless': 'shoeless', 'chasm': 'chasm', 'excalibur': 'excalibur', 'contortionists': 'contortionists', 'ghosts': 'ghosts', 'noon': 'noon', 'scattered': 'scattered', 'andersonville': 'andersonville', 'enfants': 'enfants', 'terribles': 'terribles', 'blameless': 'blameless', 'heirs': 'heirs', 'tempted': 'tempted', 'prestige': 'prestige', 'obsession': 'obsession', 'probe': 'probe', 'vixen': 'vixen', 'threshold': 'threshold', 'diplomatic': 'diplomatic', 'immunity': 'immunity', 'chancellor': 'chancellor', 'sentenced': 'sentenced', 'prism': 'prism', 'exorcist': 'exorcist', 'joseph': 'joseph', 'andrews': 'andrews', 'lights': 'lights', 'team': 'team', 'barrens': 'barrens', 'sorcerers': 'sorcerers', 'mindstar': 'mindstar', 'across': 'across', 'aprils': 'aprils', 'maker': 'maker', 'bill': 'bill', 'seller': 'seller', 'dr': 'dr', 'futurity': 'futurity', 'ones': 'ones', 'smugglers': 'smugglers', 'dont': 'dont', 'jokes': 'jokes', 'byzantium': 'byzantium', 'abhorsen': 'abhorsen', 'general': 'general', 'dogsbody': 'dogsbody', 'moominsummer': 'moominsummer', 'stress': 'stress', 'regard': 'regard', 'outlaws': 'outlaws', 'sherwood': 'sherwood', 'fridays': 'fridays', 'private': 'private', 'atrix': 'atrix', 'wolfe': 'wolfe', 'permutation': 'permutation', 'beacon': 'beacon', 'trembling': 'trembling', 'animals': 'animals', 'loathing': 'loathing', 'las': 'las', 'vegas': 'vegas', 'coyote': 'coyote', 'barneys': 'barneys', 'version': 'version', 'heron': 'heron', 'kane': 'kane', 'abel': 'abel', 'jazz': 'jazz', 'mummy': 'mummy', 'remnant': 'remnant', 'population': 'population', 'past': 'past', 'reason': 'reason', 'hated': 'hated', 'philosophical': 'philosophical', 'investigation': 'investigation', 'sheep': 'sheep', 'nutmeg': 'nutmeg', 'consolation': 'consolation', 'buddha': 'buddha', 'suburbia': 'suburbia', 'gents': 'gents', 'along': 'along', 'gallowglass': 'gallowglass', 'faceless': 'faceless', 'killers': 'killers', 'caedmons': 'caedmons', 'necessary': 'necessary', 'perilous': 'perilous', 'gard': 'gard', 'stinky': 'stinky', 'fairly': 'fairly', 'stupid': 'stupid', 'worlds': 'worlds', 'hit': 'hit', 'berkut': 'berkut', 'odds': 'odds', 'race': 'race', 'whipping': 'whipping', 'string': 'string', 'whammy': 'whammy', 'handful': 'handful', 'woodstock': 'woodstock', 'nightworld': 'nightworld', 'longest': 'longest', 'carcase': 'carcase', 'chips': 'chips', 'harold': 'harold', 'crayon': 'crayon', 'abels': 'abels', 'armor': 'armor', 'judas': 'judas', 'brother': 'brother', 'fallon': 'fallon', 'amelia': 'amelia', 'tv': 'tv', 'afternoon': 'afternoon', 'yonnondio': 'yonnondio', 'thirties': 'thirties', 'fields': 'fields', 'plowing': 'plowing', 'calico': 'calico', 'bush': 'bush', 'martin': 'martin', 'clay': 'clay', 'burmese': 'burmese', 'jennie': 'jennie', 'alphabet': 'alphabet', 'syrup': 'syrup', 'dun': 'dun', 'cow': 'cow', 'wren': 'wren', 'rescue': 'rescue', 'codex': 'codex', 'onitsha': 'onitsha', 'stones': 'stones', 'feersum': 'feersum', 'endjinn': 'endjinn', 'altered': 'altered', 'carbon': 'carbon', 'novella': 'novella', 'proposal': 'proposal', 'mediterranean': 'mediterranean', 'caper': 'caper', 'pattern': 'pattern', 'recognition': 'recognition', 'catalyst': 'catalyst', 'stingray': 'stingray', 'called': 'called', 'henry': 'henry', 'albemuth': 'albemuth', 'rob': 'rob', 'roy': 'roy', 'main': 'main', 'tex': 'tex', 'jest': 'jest', 'marjorie': 'marjorie', 'morningstar': 'morningstar', 'theres': 'theres', 'melody': 'melody', 'saturn': 'saturn', 'rukh': 'rukh', 'close': 'close', 'feed': 'feed', 'made': 'made', 'inca': 'inca', 'fools': 'fools', 'dandelion': 'dandelion', 'collector': 'collector', 'ode': 'ode', 'banker': 'banker', 'let': 'let', 'unbroken': 'unbroken', 'fudge': 'fudge', 'firewall': 'firewall', 'bright': 'bright', 'lie': 'lie', 'paul': 'paul', 'vann': 'vann', 'vietnam': 'vietnam', 'moor': 'moor', 'moonraker': 'moonraker', 'np': 'np', 'significant': 'significant', 'others': 'others', 'tandia': 'tandia', 'hemlock': 'hemlock', 'nylon': 'nylon', 'cruel': 'cruel', 'toklas': 'toklas', 'pavilion': 'pavilion', 'labyrinth': 'labyrinth', 'growing': 'growing', 'pains': 'pains', 'nat': 'nat', 'turner': 'turner', 'burgers': 'burgers', 'chancery': 'chancery', 'woosters': 'woosters', 'zia': 'zia', 'pushcart': 'pushcart', 'turn': 'turn', 'screw': 'screw', 'fortunate': 'fortunate', 'pudding': 'pudding', 'archers': 'archers', 'goon': 'goon', 'gilly': 'gilly', 'hopkins': 'hopkins', 'bomb': 'bomb', 'contest': 'contest', 'skinners': 'skinners', 'persuader': 'persuader', 'priestess': 'priestess', 'whole': 'whole', 'thumb': 'thumb', 'thunderball': 'thunderball', 'mirette': 'mirette', 'wire': 'wire', 'match': 'match', 'interior': 'interior', 'sensible': 'sensible', 'uneasy': 'uneasy', 'cocktail': 'cocktail', 'fred': 'fred', 'springtime': 'springtime', 'darkside': 'darkside', 'frost': 'frost', 'veiled': 'veiled', 'impostors': 'impostors', 'oaks': 'oaks', 'rocket': 'rocket', 'poodle': 'poodle', 'springs': 'springs', 'starr': 'starr', 'oceans': 'oceans', 'ironman': 'ironman', 'young': 'young', 'deenie': 'deenie', 'rifle': 'rifle', 'writer': 'writer', 'petey': 'petey', 'socks': 'socks', 'distant': 'distant', 'perchance': 'perchance', 'tangled': 'tangled', 'luke': 'luke', 'neon': 'neon', 'adapted': 'adapted', 'amongst': 'amongst', 'damias': 'damias', 'revolutionary': 'revolutionary', 'quite': 'quite', 'isnt': 'isnt', 'chuzzlewit': 'chuzzlewit', 'camel': 'camel', 'died': 'died', 'dor': 'dor', 'help': 'help', 'im': 'im', 'teachers': 'teachers', 'snowman': 'snowman', 'northanger': 'northanger', 'abbey': 'abbey', 'futurological': 'futurological', 'congress': 'congress', 'isaac': 'isaac', 'asimovs': 'asimovs', 'inferno': 'inferno', 'caliban': 'caliban', 'left': 'left', 'behind': 'behind', 'bless': 'bless', 'kevorkian': 'kevorkian', 'twisted': 'twisted', 'kidnapped': 'kidnapped', 'yesteryear': 'yesteryear', 'cant': 'cant', 'rent': 'rent', 'polymorph': 'polymorph', 'niourk': 'niourk', 'twenty': 'twenty', 'balloons': 'balloons', 'pandora': 'pandora', 'amaryllis': 'amaryllis', 'dwarf': 'dwarf', 'infinity': 'infinity', 'welcomes': 'welcomes', 'careful': 'careful', 'drivers': 'drivers', 'ribsy': 'ribsy', 'goat': 'goat', 'madwand': 'madwand', 'forests': 'forests', 'dressler': 'dressler', 'yearling': 'yearling', 'changing': 'changing', 'china': 'china', 'zhang': 'zhang', 'scar': 'scar', 'demian': 'demi', 'yonder': 'yonder', 'santa': 'santa', 'claus': 'claus', 'linen': 'linen', 'indiana': 'indiana', 'jones': 'jones', 'veils': 'veils', 'lammas': 'lammas', 'rumor': 'rumor', 'nova': 'nova', 'wander': 'wander', 'freefall': 'freefall', 'putting': 'putting', 'ritz': 'ritz', 'manchurian': 'manchurian', 'candidate': 'candidate', 'fasting': 'fasting', 'feasting': 'feasting', 'clapping': 'clapping', 'zippy': 'zippy', 'mooreland': 'mooreland', 'dreadful': 'dreadful', 'take': 'take', 'transit': 'transit', 'louisa': 'louisa', 'automated': 'automated', 'ape': 'ape', 'essence': 'essence', 'riddle': 'riddle', 'royal': 'royal', 'taking': 'taking', 'abroad': 'abroad', 'soup': 'soup', 'sorrow': 'sorrow', 'belgium': 'belgium', 'planets': 'planets', 'iliad': 'iliad', 'spadework': 'spadework', 'immortal': 'immortal', 'heorot': 'heorot', 'heavy': 'heavy', 'dalkey': 'dalkey', 'archive': 'archive', 'cabal': 'cabal', 'wanderer': 'wanderer', 'plague': 'plague', 'coal': 'coal', 'dodsworth': 'dodsworth', 'captive': 'captive', 'hungry': 'hungry', 'caterpillar': 'caterpillar', 'witness': 'witness', 'metamorphosis': 'metamorphosis', 'endangered': 'endangered', 'species': 'species', 'hours': 'hours', 'barchester': 'barchester', 'gryphon': 'gryphon', 'feathers': 'feathers', 'protector': 'protector', 'frog': 'frog', 'hawthorn': 'hawthorn', 'shame': 'shame', 'pigeons': 'pigeons', 'goblet': 'goblet', 'shipping': 'shipping', 'news': 'news', 'headhunter': 'headhunter', 'wanted': 'wanted', 'clash': 'clash', 'galahad': 'galahad', 'blandings': 'blandings', 'heisenberg': 'heisenberg', 'shiva': 'shiva', 'option': 'option', 'goliath': 'goliath', 'barbarossa': 'barbarossa', 'nils': 'nils', 'farnhams': 'farnhams', 'freehold': 'freehold', 'schooled': 'schooled', 'integral': 'integral', 'transmigration': 'transmigration', 'timothy': 'timothy', 'archer': 'archer', 'woodsong': 'woodsong', 'lyre': 'lyre', 'orpheus': 'orpheus', 'supernaturalist': 'supernaturalist', 'jemison': 'jemison', 'karamazov': 'karamazov', 'palomar': 'palomar', 'burning': 'burning', 'meg': 'meg', 'terror': 'terror', 'orphan': 'orphan', 'telempath': 'telempath', 'null': 'null', 'paw': 'paw', 'charles': 'charles', 'dexter': 'dexter', 'ward': 'ward', 'may': 'may', 'santaroga': 'santaroga', 'barrier': 'barrier', 'healer': 'healer', 'gripping': 'gripping', 'caprona': 'caprona', 'scorpius': 'scorpius', 'laura': 'laura', 'ghoul': 'ghoul', 'crossfire': 'crossfire', 'hickory': 'hickory', 'dickory': 'dickory', 'dock': 'dock', 'deals': 'deals', 'bond': 'bond', 'league': 'league', 'frightened': 'frightened', 'elephants': 'elephants', 'jesus': 'jesus', 'christ': 'christ', 'keeper': 'keeper', 'anansi': 'anansi', 'weyrs': 'weyrs', 'grave': 'grave', 'talent': 'talent', 'rasputin': 'rasputin', 'unusual': 'unusual', 'outcast': 'outcast', 'blade': 'blade', 'earthsea': 'earthsea', 'tombs': 'tombs', 'atuan': 'atuan', 'mythago': 'mythago', 'alibi': 'alibi', 'serfdom': 'serfdom', 'marrow': 'marrow', 'icefire': 'icefire', 'germany': 'germany', 'carnal': 'carnal', 'mat': 'mat', 'slowness': 'slowness', 'samurai': 'samurai', 'library': 'library', 'fresh': 'fresh', 'england': 'england', 'giant': 'giant', 'hercule': 'hercule', 'poirots': 'poirots', 'drug': 'drug', 'fiend': 'fiend', 'magick': 'magick', 'pair': 'pair', 'dip': 'dip', 'triangle': 'triangle', 'intimate': 'intimate', 'charmed': 'charmed', 'hunted': 'hunted', 'aggressor': 'aggressor', 'papillon': 'papillon', 'ballet': 'ballet', 'cloning': 'cloning', 'joanna': 'joanna', 'bud': 'bud', 'buddy': 'buddy', 'galax': 'galax', 'arena': 'arena', 'killed': 'killed', 'robins': 'robins', 'hat': 'hat', 'builds': 'builds', 'severed': 'severed', 'head': 'head', 'betrayed': 'betrayed', 'radiant': 'radiant', 'artemio': 'artemio', 'cruz': 'cruz', 'blanche': 'blanche', 'lam': 'lam', 'digital': 'digital', 'fortress': 'fortress', 'seventeenth': 'seventeenth', 'tunnel': 'tunnel', 'taran': 'tar', 'finish': 'finish', 'aurelio': 'aurelio', 'zen': 'zen', 'danish': 'danish', 'brightly': 'brightly', 'faint': 'faint', 'azkaban': 'azkaban', 'lotus': 'lotus', 'farthing': 'farthing', 'interflux': 'interflux', 'precious': 'precious', 'bane': 'bane', 'louisiana': 'louisiana', 'tricks': 'tricks', 'parks': 'parks', 'teranesia': 'teranesia', 'faust': 'faust', 'streets': 'streets', 'laredo': 'laredo', 'enough': 'enough', 'zorba': 'zorba', 'greek': 'greek', 'moonseed': 'moonseed', 'sixth': 'sixth', 'magdalene': 'magdalene', 'lavondyss': 'lavondyss', 'glinda': 'glinda', 'benny': 'benny', 'omar': 'omar', 'crows': 'crows', 'kalimantaan': 'kalimantaan', 'howling': 'howling', 'harvest': 'harvest', 'hunchback': 'hunchback', 'notre': 'notre', 'dame': 'dame', 'number': 'number', 'father': 'father', 'trumpeter': 'trumpeter', 'krakow': 'krakow', 'elevator': 'elevator', 'nuit': 'nuit', 'des': 'des', 'temps': 'temps', 'tenderness': 'tenderness', 'magics': 'magics', 'afield': 'afield', 'farming': 'farming', 'fateless': 'fateless', 'adolphe': 'adolphe', 'mad': 'mad', 'audrey': 'audrey', 'peril': 'peril', 'whiteout': 'whiteout', 'oliver': 'oliver', 'doorways': 'doorways', 'hardwired': 'hardwired', 'tiggy': 'tiggy', 'winkle': 'winkle', 'frontier': 'frontier', 'wiseguy': 'wiseguy', 'followed': 'followed', 'tide': 'tide', 'interpreter': 'interpreter', 'victorious': 'victorious', 'opposition': 'opposition', 'crackd': 'crackd', 'stalking': 'stalking', 'nugget': 'nugget', 'scanner': 'scanner', 'darkly': 'darkly', 'hideous': 'hideous', 'kinky': 'kinky', 'gateway': 'gateway', 'depths': 'depths', 'podkayne': 'podkayne', 'defeat': 'defeat', 'jubilee': 'jubilee', 'kitten': 'kitten', 'tucker': 'tucker', 'relentless': 'relentless', 'serve': 'serve', 'absent': 'absent', 'surviving': 'surviving', 'applewhites': 'applewhites', 'voyages': 'voyages', 'dolittle': 'dolittle', 'demons': 'demons', 'mismeasure': 'mismeasure', 'week': 'week', 'ministry': 'ministry', 'confession': 'confession', 'haluin': 'haluin', 'alongside': 'alongside', 'sidetracked': 'sidetracked', 'neuromancer': 'neuromancer', 'obsessed': 'obsessed', 'maskerade': 'maskerade', 'spiral': 'spiral', 'toward': 'toward', 'burgess': 'burgess', 'shale': 'shale', 'macroscope': 'macroscope', 'midaq': 'midaq', 'rizka': 'rizka', 'nymphomation': 'nymphomation', 'moscow': 'moscow', 'maestro': 'maestro', 'barnaby': 'barnaby', 'rudge': 'rudge', 'imperial': 'imperial', 'changeling': 'changeling', 'babysitter': 'babysitter', 'landry': 'landry', 'sinker': 'sinker', 'geese': 'geese', 'camelot': 'camelot', 'troll': 'troll', 'guts': 'guts', 'heechee': 'heechee', 'curious': 'curious', 'george': 'george', 'hospital': 'hospital', 'assistant': 'assistant', 'ringworlds': 'ringworlds', 'forward': 'forward', 'genesis': 'genesis', 'fountains': 'fountains', 'ships': 'ships', 'quimby': 'quimby', 'leaven': 'leaven', 'malafrena': 'malafrena', 'kiln': 'kiln', 'exile': 'exile', 'ramsay': 'ramsay', 'scallop': 'scallop', 'paladin': 'paladin', 'enchantress': 'enchantress', 'voice': 'voice', 'empress': 'empress', 'orchid': 'orchid', 'hawk': 'hawk', 'feminine': 'feminine', 'mystique': 'mystique', 'catch': 'catch', 'stations': 'stations', 'campaign': 'campaign', 'dalmatians': 'dalmatians', 'piece': 'piece', 'traveller': 'traveller', 'mankind': 'mankind', 'monsieur': 'monsieur', 'lecoq': 'lecoq', 'remorseful': 'remorseful', 'bloodtide': 'bloodtide', 'tyshalle': 'tyshalle', 'stamboul': 'stamboul', 'cert': 'cert', 'reign': 'reign', 'cards': 'cards', 'table': 'table', 'links': 'links', 'darkest': 'darkest', 'tamsin': 'tamsin', 'daggerspell': 'daggerspell', 'lived': 'lived', 'jemima': 'jemima', 'puddle': 'puddle', 'duck': 'duck', 'combat': 'combat', 'box': 'box', 'tootle': 'tootle', 'cutting': 'cutting', 'distress': 'distress', 'carol': 'carol', 'julian': 'juli', 'counter': 'counter', 'winning': 'winning', 'centurions': 'centurions', 'wolfskin': 'wolfskin', 'monkey': 'monkey', 'wrench': 'wrench', 'vault': 'vault', 'austins': 'austins', 'merchanters': 'merchanters', 'postal': 'postal', 'archform': 'archform', 'sporting': 'sporting', 'rolling': 'rolling', 'blackwater': 'blackwater', 'borderlands': 'borderlands', 'dhalgren': 'dhalgren', 'sunshine': 'sunshine', 'moominland': 'moominland', 'midwinter': 'midwinter', 'stairway': 'stairway', 'led': 'led', 'zeppelin': 'zeppelin', 'uncensored': 'uncensored', 'forge': 'forge', 'abraham': 'abraham', 'dreamside': 'dreamside', 'wall': 'wall', 'decline': 'decline', 'saint': 'saint', 'camber': 'camber', 'locust': 'locust', 'juan': 'juan', 'pareja': 'pareja', 'egypt': 'egypt', 'silverthorn': 'silverthorn', 'positronic': 'positronic', 'catchers': 'catchers', 'touching': 'touching', 'spirit': 'spirit', 'venice': 'venice', 'boss': 'boss', 'sourcery': 'sourcery', 'loneliness': 'loneliness', 'borderland': 'borderland', 'expecting': 'expecting', 'taller': 'taller', 'sepulchre': 'sepulchre', 'sang': 'sang', 'minus': 'minus', 'ten': 'ten', 'witnesses': 'witnesses', 'busmans': 'busmans', 'honeymoon': 'honeymoon', 'understood': 'understood', 'betsy': 'betsy', 'polgara': 'polgara', 'sorceress': 'sorceress', 'pillar': 'pillar', 'abortion': 'abortion', 'historical': 'historical', 'shudder': 'shudder', 'ruled': 'ruled', 'britannia': 'britannia', 'heroine': 'heroine', 'alfred': 'alfred', 'hitchcock': 'hitchcock', 'making': 'making', 'cloudstreet': 'cloudstreet', 'highways': 'highways', 'insurrection': 'insurrection', 'lantern': 'lantern', 'toyshop': 'toyshop', 'elementary': 'elementary', 'particles': 'particles', 'utilitarianism': 'utilitarianism', 'giants': 'giants', 'cosmic': 'cosmic', 'puppets': 'puppets', 'virtually': 'virtually', 'argument': 'argument', 'homosexuality': 'homosexuality', 'serre': 'serre', 'beale': 'beale', 'talk': 'talk', 'amen': 'amen', 'mission': 'mission', 'moulokin': 'moulokin', 'reach': 'reach', 'exiles': 'exiles', 'drowned': 'drowned', 'ammet': 'ammet', 'russka': 'russka', 'meets': 'meets', 'wise': 'wise', 'dreamsnake': 'dreamsnake', 'tides': 'tides', 'lilith': 'lilith', 'moderato': 'moderato', 'cantabile': 'cantabile', 'malevil': 'malevil', 'exquisite': 'exquisite', 'corpse': 'corpse', 'mutual': 'mutual', 'pilgermann': 'pilgermann', 'darling': 'darling', 'hamburger': 'hamburger', 'bloodsucking': 'bloodsucking', 'fiends': 'fiends', 'swag': 'swag', 'tis': 'tis', 'lestat': 'lestat', 'ants': 'ants', 'butt': 'butt', 'round': 'round', 'hellbound': 'hellbound', 'declaration': 'declaration', 'tiffanys': 'tiffanys', 'miller': 'miller', 'wyoming': 'wyoming', 'captivity': 'captivity', 'mauritius': 'mauritius', 'command': 'command', 'drifters': 'drifters', 'reversed': 'reversed', 'awake': 'awake', 'attic': 'attic', 'bleak': 'bleak', 'roma': 'roma', 'eterna': 'eterna', 'starquake': 'starquake', 'anthropology': 'anthropology', 'extinction': 'extinction', 'interesting': 'interesting', 'lotte': 'lotte', 'weimar': 'weimar', 'returns': 'returns', 'state': 'state', 'merlin': 'merlin', 'nadja': 'nadja', 'monty': 'monty', 'victory': 'victory', 'blast': 'blast', 'wave': 'wave', 'archbishop': 'archbishop', 'midnights': 'midnights', 'cruelest': 'cruelest', 'month': 'month', 'hacker': 'hacker', 'leviathan': 'leviathan', 'citadel': 'citadel', 'fighters': 'fighters', 'prisoners': 'prisoners', 'base': 'base', 'scorpion': 'scorpion', 'swastika': 'swastika', 'fringe': 'fringe', 'sins': 'sins', 'birdsong': 'birdsong', 'tent': 'tent', 'gunmother': 'gunmother', 'split': 'split', 'lay': 'lay', 'bare': 'bare', 'moominvalley': 'moominvalley', 'november': 'november', 'allan': 'allan', 'stein': 'stein', 'care': 'care', 'owls': 'owls', 'folding': 'folding', 'frisk': 'frisk', 'errand': 'errand', 'visions': 'visions', 'tarzans': 'tarzans', 'factor': 'factor', 'dogland': 'dogland', 'icehenge': 'icehenge', 'commodore': 'commodore', 'foreigner': 'foreigner', 'insatiable': 'insatiable', 'direct': 'direct', 'viking': 'viking', 'copperfield': 'copperfield', 'unaware': 'unaware', 'fly': 'fly', 'slan': 'slan', 'forty': 'forty', 'gehenna': 'gehenna', 'lazarus': 'lazarus', 'effect': 'effect', 'revenant': 'revenant', 'herrings': 'herrings', 'fungus': 'fungus', 'bogeyman': 'bogeyman', 'tanequil': 'tanequil', 'violet': 'violet', 'edenborn': 'edenborn', 'blackthorn': 'blackthorn', 'foxmask': 'foxmask', 'fitzpatricks': 'fitzpatricks', 'camouflage': 'camouflage', 'sunrise': 'sunrise', 'ancestors': 'ancestors', 'skinner': 'skinner', 'assignment': 'assignment', 'council': 'council', 'fell': 'fell', 'firethorn': 'firethorn', 'bro': 'bro', 'absolution': 'absolution', 'gap': 'gap', 'zenith': 'zenith', 'monument': 'monument', 'key': 'key', 'alta': 'alta', 'scarecrow': 'scarecrow', 'broken': 'broken', 'fires': 'fires', 'informant': 'informant', 'coalescent': 'coalescent', 'conqueror': 'conqueror', 'clade': 'clade', 'jupiter': 'jupiter', 'myth': 'myth', 'presence': 'presence', 'enemies': 'enemies', 'burndive': 'burndive', 'glitters': 'glitters', 'dantes': 'dantes', 'equation': 'equation', 'fiasco': 'fiasco', 'ark': 'ark', 'dissolution': 'dissolution', 'evenings': 'evenings', 'conquistador': 'conquistador', 'gryphons': 'gryphons', 'speed': 'speed', 'mocking': 'mocking', 'column': 'column', 'schilds': 'schilds', 'hannibals': 'hannibals', 'bikini': 'bikini', 'breaking': 'breaking', 'entering': 'entering', 'doors': 'doors', 'childrens': 'childrens', 'bach': 'bach', 'lemons': 'lemons', 'outpost': 'outpost', 'dubious': 'dubious', 'merlins': 'merlins', 'glove': 'glove', 'cast': 'cast', 'sten': 'sten', 'catherine': 'catherine', 'birdy': 'birdy', 'downward': 'downward', 'spire': 'spire', 'nomuru': 'nomuru', 'drakon': 'drakon', 'strength': 'strength', 'kelvins': 'kelvins', 'bondage': 'bondage', 'fearless': 'fearless', 'splot': 'splot', 'anvil': 'anvil', 'timelike': 'timelike', 'merlyn': 'merlyn', 'reef': 'reef', 'upcountry': 'upcountry', 'aeneid': 'aeneid', 'gaias': 'gaias', 'toys': 'toys', 'shift': 'shift', 'embarrassment': 'embarrassment', 'riches': 'riches', 'interpretation': 'interpretation', 'dutch': 'dutch', 'shakedown': 'shakedown', 'paradox': 'paradox', 'dogzilla': 'dogzilla', 'eleven': 'eleven', 'kids': 'kids', 'benjamin': 'benjamin', 'bunny': 'bunny', 'batman': 'batman', 'skeleton': 'skeleton', 'blanc': 'blanc', 'emperors': 'emperors', 'ami': 'ami', 'gambler': 'gambler', 'sixteen': 'sixteen', 'nanny': 'nanny', 'firework': 'firework', 'makers': 'makers', 'stop': 'stop', 'send': 'send', 'york': 'york', 'tokyo': 'tokyo', 'flipped': 'flipped', 'low': 'low', 'punishment': 'punishment', 'scaramouche': 'scaramouche', 'revolution': 'revolution', 'prater': 'prater', 'censored': 'censored', 'hothouse': 'hothouse', 'gravity': 'gravity', 'ptavvs': 'ptavvs', 'policeman': 'policeman', 'adano': 'adano', 'window': 'window', 'mines': 'mes', 'company': 'company', 'niebla': 'niebla', 'inventing': 'inventing', 'elliot': 'elliot', 'stepmother': 'stepmother', 'frigate': 'frigate', 'worth': 'worth', 'monk': 'monk', 'anastasia': 'anastasia', 'analyst': 'analyst', 'checkers': 'checkers', 'phantastes': 'phantastes', 'moondust': 'moondust', 'finnegans': 'finnegans', 'skulls': 'skulls', 'brokedown': 'brokedown', 'vigilant': 'vigilant', 'host': 'host', 'tenured': 'tenured', 'ranks': 'ranks', 'vicarage': 'vicarage', 'billycock': 'billycock', 'slaughter': 'slaughter', 'sickness': 'sickness', 'spangle': 'spangle', 'ibn': 'ibn', 'fattouma': 'fattouma', 'rewind': 'rewind', 'duplicate': 'duplicate', 'tietam': 'tietam', 'design': 'design', 'cachalot': 'cachalot', 'tik': 'tik', 'tok': 'tok', 'woodman': 'woodman', 'fairies': 'fairies', 'yew': 'yew', 'rinkitink': 'rinkitink', 'bluejay': 'bluejay', 'leaving': 'leaving', 'fishers': 'fishers', 'galileo': 'galileo', 'fours': 'fours', 'ashling': 'ashling', 'cylinder': 'cylinder', 'stops': 'stops', 'peau': 'peau', 'chagrin': 'chagrin', 'blowdown': 'blowdown', 'thirsty': 'thirsty', 'adam': 'adam', 'eve': 'eve', 'snake': 'snake', 'abominable': 'abominable', 'dew': 'dew', 'dancers': 'dancers', 'mourning': 'mourning', 'dudley': 'dudley', 'playback': 'playback', 'happen': 'happen', 'cyteen': 'cyteen', 'birthday': 'birthday', 'paper': 'paper', 'timeless': 'timeless', 'kelsons': 'kelsons', 'warlock': 'warlock', 'gayheart': 'gayheart', 'baboon': 'baboon', 'grounding': 'grounding', 'group': 'group', 'keeping': 'keeping', 'bath': 'bath', 'concrete': 'concrete', 'arch': 'arch', 'triumph': 'triumph', 'tamar': 'tamar', 'xone': 'xone', 'contention': 'contention', 'culdi': 'culdi', 'carry': 'carry', 'bowditch': 'bowditch', 'crazy': 'crazy', 'flashman': 'flashman', 'orchids': 'orchids', 'europeans': 'europeans', 'cooks': 'cooks', 'tartarin': 'tartarin', 'tarascon': 'tarascon', 'harpist': 'harpist', 'trigger': 'trigger', 'oleander': 'oleander', 'dials': 'dials', 'trilby': 'trilby', 'celestial': 'celestial', 'loving': 'loving', 'sabotage': 'sabotage', 'clergymans': 'clergymans', 'karres': 'karres', 'titus': 'titus', 'groan': 'groan', 'battledragon': 'battledragon', 'notes': 'notes', 'warrior': 'warrior', 'cycle': 'cycle', 'sax': 'sax', 'peony': 'peony', 'divided': 'divided', 'weatherend': 'weatherend', 'mistake': 'mistake', 'fan': 'fan', 'frisby': 'frisby', 'rats': 'rats', 'nimh': 'nimh', 'pool': 'pool', 'felidae': 'felidae', 'aura': 'aura', 'op': 'op', 'queer': 'queer', 'murphy': 'murphy', 'wait': 'wait', 'thus': 'thus', 'spoke': 'spoke', 'zarathustra': 'zarathustra', 'mohicans': 'mohicans', 'frederick': 'frederick', 'douglass': 'douglass', 'slave': 'slave', 'jolly': 'jolly', 'dot': 'dot', 'singing': 'singing', 'bead': 'bead', 'nigel': 'nigel', 'sideways': 'sideways', 'shaped': 'shaped', 'norstrilia': 'norstrilia', 'dayworld': 'dayworld', 'mughals': 'mughals', 'madelines': 'madelines', 'weaveworld': 'weaveworld', 'legion': 'legion', 'spoilers': 'spoilers', 'flyaway': 'flyaway', 'wyatts': 'wyatts', 'hurricane': 'hurricane', 'camenzind': 'camenzind', 'millions': 'millions', 'greylands': 'greylands', 'forget': 'forget', 'bacon': 'bacon', 'lionheart': 'lionheart', 'bull': 'bull', 'ticket': 'ticket', 'exploded': 'exploded', 'masks': 'masks', 'cad': 'cad', 'feeling': 'feeling', 'sorry': 'sorry', 'celia': 'celia', 'firewing': 'firewing', 'checkmate': 'checkmate', 'reluctant': 'reluctant', 'faithless': 'faithless', 'zuleika': 'zuleika', 'dobson': 'dobson', 'mindplayers': 'mindplayers', 'deviltry': 'deviltry', 'sputnik': 'sputnik', 'sweetheart': 'sweetheart', 'confidence': 'confidence', 'franklins': 'franklins', 'furies': 'furies', 'incident': 'incident', 'stay': 'stay', 'goodman': 'goodman', 'og': 'og', 'survive': 'survive', 'test': 'test', 'thirteen': 'thirteen', 'salute': 'salute', 'hatters': 'hatters', 'vinegar': 'vinegar', 'ingleside': 'ingleside', 'cream': 'cream', 'arrival': 'arrival', 'silas': 'silas', 'lapham': 'lapham', 'invitation': 'invitation', 'unto': 'unto', 'locus': 'locus', 'solus': 'solus', 'goblin': 'goblin', 'inheritance': 'inheritance', 'lightnings': 'lightnings', 'ibm': 'ibm', 'holocaust': 'holocaust', 'strategic': 'strategic', 'alliance': 'alliance', 'nazi': 'nazi', 'americas': 'americas', 'powerful': 'powerful', 'corporation': 'corporation', 'imaginings': 'imaginings', 'highway': 'highway', 'gabriel': 'gabriel', 'athenian': 'athenian', 'cecily': 'cecily', 'discontent': 'discontent', 'sarny': 'sarny', 'bug': 'bug', 'wars': 'wars', 'seventeen': 'seventeen', 'doll': 'doll', 'apartment': 'apartment', 'storey': 'storey', 'masterpiece': 'masterpiece', 'fashion': 'fashion', 'shrouds': 'shrouds', 'mandragora': 'mandragora', 'philosophers': 'philosophers', 'exporting': 'exporting', 'market': 'market', 'breeds': 'breeds', 'ethnic': 'ethnic', 'hatred': 'hatred', 'global': 'global', 'instability': 'instability', 'ox': 'ox', 'bow': 'bow', 'victim': 'victim', 'nightwings': 'nightwings', 'azeroth': 'azeroth', 'darkover': 'darkover', 'tithe': 'tithe', 'cobweb': 'cobweb', 'isle': 'isle', 'surgeons': 'surgeons', 'mate': 'mate', 'tangle': 'tangle', 'martian': 'martian', 'slip': 'slip', 'dante': 'dante', 'wycliffes': 'wycliffes', 'goose': 'goose', 'tooth': 'tooth', 'claw': 'claw', 'hrolf': 'hrolf', 'krakis': 'krakis', 'witching': 'witching', 'bells': 'bells', 'susan': 'sus', 'sasquatch': 'sasquatch', 'foe': 'foe', 'shadowplay': 'shadowplay', 'equinox': 'equinox', 'slender': 'slender', 'means': 'means', 'jekyll': 'jekyll', 'hyde': 'hyde', 'homeward': 'homeward', 'bounders': 'bounders', 'hallo': 'hallo', 'wiener': 'wiener', 'suitable': 'suitable', 'pluto': 'pluto', 'pimpernel': 'pimpernel', 'mizzen': 'mizzen', 'loyal': 'loyal', 'character': 'character', 'dancer': 'dancer', 'quality': 'quality', 'acts': 'acts', 'twilights': 'twilights', 'heretics': 'heretics', 'muddle': 'muddle', 'tenth': 'tenth', 'shabanu': 'shabanu', 'radix': 'radix', 'damaged': 'damaged', 'goods': 'goods', 'cavern': 'cavern', 'takes': 'takes', 'grub': 'grub', 'loitering': 'loitering', 'intent': 'intent', 'chalice': 'chalice', 'make': 'make', 'wim': 'wim', 'graves': 'graves', 'goodbyes': 'goodbyes', 'redskins': 'redskins', 'lone': 'lone', 'ranger': 'ranger', 'rag': 'rag', 'shop': 'shop', 'finding': 'finding', 'chicago': 'chicago', 'pets': 'pets', 'jackals': 'jackals', 'firstborn': 'firstborn', 'saturdays': 'saturdays', 'gated': 'gated', 'mouth': 'mouth', 'vurt': 'vurt', 'singapore': 'singapore', 'grip': 'grip', 'knulp': 'knulp', 'psmith': 'psmith', 'yes': 'yes', 'wielder': 'wielder', 'blow': 'blow', 'settlers': 'settlers', 'sanditon': 'sanditon', 'judith': 'judith', 'regenesis': 'regenesis', 'casanova': 'casanova', 'parnassus': 'parnassus', 'wheels': 'wheels', 'homo': 'homo', 'faber': 'faber', 'elmer': 'elmer', 'gantry': 'gantry', 'molly': 'molly', 'hypnotism': 'hypnotism', 'mister': 'mister', 'makes': 'makes', 'sammy': 'sammy', 'plains': 'plains', 'brute': 'brute', 'heather': 'heather', 'blazing': 'blazing', 'clue': 'clue', 'crumbling': 'crumbling', 'ceres': 'ceres', 'upsurge': 'upsurge', 'homebody': 'homebody', 'think': 'think', 'outlaw': 'outlaw', 'defender': 'defender', 'tattoo': 'tattoo', 'corellis': 'corellis', 'mandolin': 'mandolin', 'turbulent': 'turbulent', 'priests': 'priests', 'jason': 'jason', 'marceline': 'marceline', 'documents': 'documents', 'pistol': 'pistol', 'engineers': 'engineers', 'beagle': 'beagle', 'might': 'might', 'atom': 'atom', 'clients': 'clients', 'eggs': 'eggs', 'fraction': 'fraction', 'overlander': 'overlander', 'terrorists': 'terrorists', 'omon': 'omon', 'ra': 'ra', 'gettysburg': 'gettysburg', 'autumn': 'autumn', 'moomin': 'moomin', 'mymble': 'mymble', 'dragoncharm': 'dragoncharm', 'chairman': 'chairman', 'tittlemouse': 'tittlemouse', 'silverwing': 'silverwing', 'missed': 'missed', 'jericho': 'jericho', 'tel': 'tel', 'drink': 'drink', 'frolix': 'frolix', 'players': 'players', 'pot': 'pot', 'solar': 'solar', 'lottery': 'lottery', 'pride': 'pride', 'prejudice': 'prejudice', 'willows': 'willows', 'james': 'james', 'peach': 'peach', 'atonement': 'atonement', 'brooklyn': 'brooklyn', 'rubyfruit': 'rubyfruit', 'jungle': 'jungle', 'gravitys': 'gravitys', 'avatar': 'avatar', 'rosie': 'rosie', 'emigrants': 'emigrants', 'kaleidoscope': 'kaleidoscope', 'hegemon': 'hegemon', 'endless': 'endless', 'witchs': 'witchs', 'tomoe': 'tomoe', 'gozen': 'gozen', 'barbary': 'barbary', 'heartbreak': 'heartbreak', 'source': 'source', 'firebrand': 'firebrand', 'frome': 'frome', 'dollars': 'dollars', 'winstons': 'winstons', 'stargirl': 'stargirl', 'foot': 'foot', 'africa': 'africa', 'farthest': 'farthest', 'shore': 'shore', 'ripley': 'ripley', 'pest': 'pest', 'slowly': 'slowly', 'sitting': 'sitting', 'dangerous': 'dangerous', 'crosstime': 'crosstime', 'saloon': 'saloon', 'vermeer': 'vermeer', 'florida': 'florida', 'roadkill': 'roadkill', 'bomber': 'bomber', 'earthly': 'earthly', 'powers': 'powers', 'moll': 'moll', 'trial': 'trial', 'outcasts': 'outcasts', 'schuyler': 'schuyler', 'harnessing': 'harnessing', 'peacocks': 'peacocks', 'samarra': 'samarra', 'crusoe': 'crusoe', 'sight': 'sight', 'imajica': 'imajica', 'wringer': 'wringer', 'julie': 'julie', 'wolves': 'wolves', 'rum': 'rum', 'punch': 'punch', 'clans': 'clans', 'alphane': 'alphane', 'rhymer': 'rhymer', 'athabasca': 'athabasca', 'safe': 'safe', 'harbour': 'harbour', 'wishes': 'wishes', 'talented': 'talented', 'tulip': 'tulip', 'sapphira': 'sapphira', 'arabella': 'arabella', 'burden': 'burden', 'westmark': 'westmark', 'rite': 'rite', 'ember': 'ember', 'jinx': 'jinx', 'larry': 'larry', 'error': 'error', 'aristoi': 'aristoi', 'born': 'born', 'chthon': 'chthon', 'within': 'within', 'fairmount': 'fairmount', 'avenue': 'avenue', 'mitch': 'mitch', 'amy': 'amy', 'midsummer': 'midsummer', 'kestrel': 'kestrel', 'apart': 'apart', 'rings': 'rings', 'suttree': 'suttree', 'clockwork': 'clockwork', 'quicksand': 'quicksand', 'towards': 'towards', 'blundy': 'blundy', 'suns': 'suns', 'richter': 'richter', 'robert': 'robert', 'nifkin': 'nifkin', 'questions': 'questions', 'demoniacs': 'demoniacs', 'topaz': 'topaz', 'idylls': 'idylls', 'siege': 'siege', 'krishnapur': 'krishnapur', 'dancing': 'dancing', 'miocene': 'miocene', 'enormous': 'enormous', 'blackbird': 'blackbird', 'pond': 'pond', 'alices': 'alices', 'wonderland': 'wonderland', 'pretender': 'pretender', 'save': 'save', 'waltz': 'waltz', 'wrong': 'wrong', 'doyle': 'doyle', 'rhinemann': 'rhinemann', 'exchange': 'exchange', 'pirate': 'pirate', 'danes': 'danes', 'stream': 'stream', 'somewhere': 'somewhere', 'hunger': 'hunger', 'giaconda': 'giaconda', 'jerusalem': 'jerusalem', 'arsenal': 'arsenal', 'beau': 'beau', 'geste': 'geste', 'ray': 'ray', 'sterkarm': 'sterkarm', 'handshake': 'handshake', 'trench': 'trench', 'amateur': 'amateur', 'swimmer': 'swimmer', 'artist': 'artist', 'conquest': 'conquest', 'freddy': 'freddy', 'fledgling': 'fledgling', 'nightwood': 'nightwood', 'budd': 'budd', 'partisans': 'partisans', 'sunless': 'sunless', 'herzog': 'herzog', 'madam': 'madam', 'remote': 'remote', 'control': 'control', 'broom': 'broom', 'tarzan': 'tarzan', 'headlong': 'headlong', 'thorns': 'thorns', 'shell': 'shell', 'seekers': 'seekers', 'lovers': 'lovers', 'windy': 'windy', 'poplars': 'poplars', 'really': 'really', 'whangdoodles': 'whangdoodles', 'fighting': 'fighting', 'switchers': 'switchers', 'romantics': 'romantics', 'gullivers': 'gullivers', 'boggart': 'boggart', 'trumpet': 'trumpet', 'thumbelina': 'thumbelina', 'squirrel': 'squirrel', 'nutkin': 'nutkin', 'wormwood': 'wormwood', 'daniel': 'daniel', 'deronda': 'deronda', 'sport': 'sport', 'babel': 'babel', 'killobyte': 'killobyte', 'alchemist': 'alchemist', 'seventh': 'seventh', 'bloomability': 'bloomability', 'stairs': 'stairs', 'windfall': 'windfall', 'top': 'top', 'dorothy': 'dorothy', 'quartet': 'quartet', 'smoky': 'smoky', 'smell': 'smell', 'apples': 'apples', 'gabriels': 'gabriels', 'troika': 'troika', 'rocannons': 'rocannons', 'disappearing': 'disappearing', 'inheritors': 'inheritors', 'aftermath': 'aftermath', 'elvissey': 'elvissey', 'hitler': 'hitler', 'shatterglass': 'shatterglass', 'worm': 'worm', 'ouroboros': 'ouroboros', 'brownstones': 'brownstones', 'bearers': 'bearers', 'closer': 'closer', 'deerskin': 'deerskin', 'clowns': 'clowns', 'petals': 'petals', 'vicky': 'vicky', 'promises': 'promises', 'pilgrims': 'pilgrims', 'progress': 'progress', 'comanche': 'comanche', 'avonlea': 'avonlea', 'arrowsmith': 'arrowsmith', 'coaches': 'coaches', 'scroll': 'scroll', 'kirinyaga': 'kirinyaga', 'wetware': 'wetware', 'moneyball': 'moneyball', 'unfair': 'unfair', 'downsiders': 'downsiders', 'kolymsky': 'kolymsky', 'sliver': 'sliver', 'brayford': 'brayford', 'gladiator': 'gladiator', 'nursing': 'nursing', 'spartacus': 'spartacus', 'mill': 'mill', 'floss': 'floss', 'flambards': 'flambards', 'millennium': 'millennium', 'vaporetto': 'vaporetto', 'solo': 'solo', 'put': 'put', 'hair': 'hair', 'toothbrush': 'toothbrush', 'stand': 'stand', 'core': 'core', 'barons': 'barons', 'canyons': 'canyons', 'harlequin': 'harlequin', 'wished': 'wished', 'belonged': 'belonged', 'belladonna': 'belladonna', 'bridges': 'bridges', 'nightfall': 'nightfall', 'childs': 'childs', 'ill': 'ill', 'met': 'met', 'wounds': 'wounds', 'consciousness': 'consciousness', 'explained': 'explained', 'moffats': 'moffats', 'railway': 'railway', 'nicholas': 'nicholas', 'quinn': 'quinn', 'miernik': 'miernik', 'dossier': 'dossier', 'gloucester': 'gloucester', 'playing': 'playing', 'brightest': 'brightest', 'collision': 'collision', 'linger': 'linger', 'prym': 'prym', 'clockers': 'clockers', 'unpleasantness': 'unpleasantness', 'bellona': 'bellona', 'nude': 'nude', 'conservationist': 'conservationist', 'betsey': 'betsey', 'mugger': 'mugger', 'tigers': 'tigers', 'hadji': 'hadji', 'murat': 'murat', 'fuzzy': 'fuzzy', 'infiltrators': 'infiltrators', 'everyman': 'everyman', 'danse': 'danse', 'macabre': 'macabre', 'altar': 'altar', 'coven': 'coven', 'perception': 'perception', 'kaffir': 'kaffir', 'downbelow': 'downbelow', 'alaizabel': 'alaizabel', 'cray': 'cray', 'nickleby': 'nickleby', 'understanding': 'understanding', 'media': 'media', 'extensions': 'extensions', 'tool': 'tool', 'trade': 'trade', 'metropolitan': 'metropolitan', 'facts': 'facts', 'guilt': 'guilt', 'alone': 'alone', 'eon': 'eon', 'model': 'model', 'kit': 'kit', 'national': 'national', 'mesopotamia': 'mesopotamia', 'chimneys': 'chimneys', 'postern': 'postern', 'fate': 'fate', 'crooked': 'crooked', 'veil': 'veil', 'restoration': 'restoration', 'richard': 'richard', 'carvel': 'carvel', 'blithedale': 'blithedale', 'abyss': 'abyss', 'breed': 'breed', 'peleliu': 'peleliu', 'okinawa': 'okinawa', 'dunn': 'dunn', 'universal': 'universal', 'glue': 'glue', 'weapon': 'weapon', 'framed': 'framed', 'telephone': 'telephone', 'dealer': 'dealer', 'nurture': 'nurture', 'assumption': 'assumption', 'earthlight': 'earthlight', 'beauvallet': 'beauvallet', 'shantaram': 'shantaram', 'divorce': 'divorce', 'bede': 'bede', 'justinian': 'justinian', 'comet': 'comet', 'wanderers': 'wanderers', 'java': 'java', 'spellfall': 'spellfall', 'orion': 'orion', 'beginning': 'beginning', 'rest': 'rest', 'nana': 'nana', 'zebra': 'zebra', 'zenda': 'zenda', 'snowballs': 'snowballs', 'viceroy': 'viceroy', 'ouidah': 'ouidah', 'borrowed': 'borrowed', 'ragwitch': 'ragwitch', 'passion': 'passion', 'spent': 'spent', 'raise': 'raise', 'titanic': 'titanic', 'rushing': 'rushing', 'meat': 'meat', 'bully': 'bully', 'suitcase': 'suitcase', 'jeremy': 'jeremy', 'fisher': 'fisher', 'self': 'self', 'marner': 'marner', 'leagues': 'leagues', 'newgate': 'newgate', 'fu': 'fu', 'yangtze': 'yangtze', 'happening': 'happening', 'macdonald': 'macdonald', 'hall': 'hall', 'tod': 'tod', 'grand': 'grand', 'sophy': 'sophy', 'ascension': 'ascension', 'ramage': 'ramage', 'emil': 'emil', 'detectives': 'detectives', 'cereus': 'cereus', 'blooms': 'blooms', 'iciest': 'iciest', 'mildred': 'mildred', 'pierce': 'pierce', 'medusa': 'medusa', 'extremes': 'extremes', 'chameleons': 'chameleons', 'escape': 'escape', 'pirx': 'pirx', 'pilot': 'pilot', 'demolishers': 'demolishers', 'interstellar': 'interstellar', 'pig': 'pig', 'donnerjack': 'donnerjack', 'adolescence': 'adolescence', 'idlewild': 'idlewild', 'divide': 'vide', 'frederica': 'frederica', 'talking': 'talking', 'boston': 'boston', 'dolphin': 'dolphin', 'critical': 'critical', 'conduct': 'conduct', 'major': 'major', 'maxim': 'maxim', 'measure': 'measure', 'backward': 'backward', 'trace': 'trace', 'honorable': 'honorable', 'unbeheaded': 'unbeheaded', 'crabwalk': 'crabwalk', 'gets': 'gets', 'katy': 'katy', 'consider': 'consider', 'phlebas': 'phlebas', 'ibid': 'ibid', 'robe': 'robe', 'esmond': 'esmond', 'friendship': 'friendship', 'grit': 'grit', 'germinal': 'germinal', 'miguel': 'miguel', 'henderson': 'henderson', 'dosadi': 'dosadi', 'bloodhype': 'bloodhype', 'dragonfire': 'dragonfire', 'evolution': 'evolution', 'common': 'common', 'quarantine': 'quarantine', 'myron': 'myron', 'virginian': 'virginian', 'godmakers': 'godmakers', 'scapegoat': 'scapegoat', 'bostonians': 'bostonians', 'adopting': 'adopting', 'formidable': 'formidable', 'waldo': 'waldo', 'phineas': 'phineas', 'rackrent': 'rackrent', 'shirley': 'shirley', 'otis': 'otis', 'spofford': 'spofford', 'falcons': 'falcons', 'narabedla': 'narabedla', 'drift': 'drift', 'african': 'african', 'prelude': 'prelude', 'kelvin': 'kelvin', 'fable': 'fable', 'sixties': 'sixties', 'pinocchio': 'pinocchio', 'dialogues': 'dialogues', 'nightjohn': 'nightjohn', 'catriona': 'catriona', 'brewster': 'brewster', 'peking': 'peking', 'behold': 'behold', 'elizabeth': 'elizabeth', 'aiding': 'aiding', 'abetting': 'abetting', 'dombey': 'dombey', 'order': 'order', 'hatching': 'hatching', 'pied': 'pied', 'piper': 'piper', 'tam': 'tam', 'lin': 'lin', 'spell': 'spell', 'climbed': 'climbed', 'alpheus': 'alpheus', 'winterborn': 'winterborn', 'hed': 'hed', 'faery': 'faery', 'tehanu': 'tehanu', 'crisis': 'crisis', 'mezzanine': 'mezzanine', 'starman': 'starman', 'tripoint': 'tripoint', 'cerulean': 'cerulean', 'gothic': 'gothic', 'gemini': 'gemini', 'contenders': 'contenders', 'alexander': 'alexander', 'horrible': 'horrible', 'developers': 'developers', 'torture': 'torture', 'lieutenant': 'lieutenant', 'flux': 'flux', 'hegira': 'hegira', 'midworld': 'midworld', 'skyfall': 'skyfall', 'hazard': 'hazard', 'hourglass': 'hourglass', 'nostromo': 'nostromo', 'pixilated': 'pixilated', 'peeress': 'peeress', 'buckskin': 'buckskin', 'brigades': 'brigades', 'kadath': 'kadath', 'abode': 'abode', 'various': 'various', 'nevada': 'nevada', 'moppet': 'moppet', 'transition': 'transition', 'answers': 'answers', 'satans': 'satans', 'wouldnt': 'wouldnt', 'crimson': 'crimson', 'canton': 'canton', 'stroke': 'stroke', 'sphinx': 'sphinx', 'gilded': 'gilded', 'condor': 'condor', 'dude': 'dude', 'poisoned': 'poisoned', 'chocolates': 'chocolates', 'wartime': 'wartime', 'timmy': 'timmy', 'tiptoes': 'tiptoes', 'path': 'path', 'perfection': 'perfection', 'president': 'president', 'vanishes': 'vanishes', 'software': 'software', 'wanting': 'wanting', 'wizardry': 'wizardry', 'doktor': 'doktor', 'faustus': 'faustus', 'smith': 'smith', 'wootton': 'wootton', 'rape': 'rape', 'forger': 'forger', 'gerhardt': 'gerhardt', 'kempe': 'kempe', 'eiger': 'eiger', 'sanction': 'sanction', 'toll': 'toll', 'said': 'said', 'steal': 'steal', 'car': 'car', 'barron': 'barron', 'sharras': 'sharras', 'octagonal': 'octagonal', 'keepers': 'keepers', 'ladysmith': 'ladysmith', 'cricket': 'cricket', 'unquiet': 'unquiet', 'sorcery': 'sorcery', 'trumps': 'trumps', 'doom': 'doom', 'messenger': 'messenger', 'flicker': 'flicker', 'airs': 'airs', 'seawitch': 'seawitch', 'futures': 'futures', 'tycho': 'tycho', 'seedfolks': 'seedfolks', 'cugels': 'cugels', 'fleet': 'fleet', 'damned': 'damned', 'minions': 'minions', 'mosquitoes': 'mosquitoes', 'darksaber': 'darksaber', 'sexy': 'sexy', 'italy': 'italy', 'immaculate': 'immaculate', 'conception': 'conception', 'divorcing': 'divorcing', 'colonization': 'colonization', 'aftershocks': 'aftershocks', 'burnt': 'burnt', 'offerings': 'offerings', 'nervous': 'nervous', 'conditions': 'conditions', 'solitary': 'solitary', 'grief': 'grief', 'shield': 'shield', 'achilles': 'achilles', 'course': 'course', 'terrarium': 'terrarium', 'chain': 'chain', 'duluth': 'duluth', 'infernal': 'infernal', 'devices': 'devices', 'trellisane': 'trellisane', 'confrontation': 'confrontation', 'starless': 'starless', 'flotsam': 'flotsam', 'blackberries': 'blackberries', 'spectrum': 'spectrum', 'triss': 'triss', 'honey': 'honey', 'cue': 'cue', 'treason': 'treason', 'juggernaut': 'juggernaut', 'maltese': 'maltese', 'falcon': 'falcon', 'axis': 'axis', 'mating': 'mating', 'value': 'value', 'judge': 'judge', 'thrilling': 'thrilling', 'leo': 'leo', 'africanus': 'africanus', 'guard': 'guard', 'blaze': 'blaze', 'sylvie': 'sylvie', 'bruno': 'bruno', 'nausea': 'nausea', 'scarlett': 'scarlett', 'rhapsody': 'rhapsody', 'alexanders': 'alexanders', 'middlesex': 'middlesex', 'short': 'short', 'timers': 'timers', 'outing': 'outing', 'apparent': 'apparent', 'trains': 'trains', 'evolves': 'evolves', 'annihilators': 'annihilators', 'fact': 'fact', 'trek': 'trek', 'madworld': 'madworld', 'revengers': 'revengers', 'tails': 'tails', 'kalki': 'kalk', 'expedition': 'expedition', 'curlews': 'curlews', 'icelands': 'icelands', 'kira': 'kira', 'heel': 'heel', 'follows': 'follows', 'sad': 'sad', 'cypress': 'cypress', 'sixty': 'sixty', 'schism': 'schism', 'chorus': 'chorus', 'skating': 'skating', 'ruined': 'ruined', 'dolls': 'dolls', 'catastrophea': 'catastrophea', 'intergalactic': 'intergalactic', 'underworld': 'underworld', 'ports': 'ports', 'tates': 'tates', 'carries': 'carries', 'tibet': 'tibet', 'lines': 'les', 'flirt': 'flirt', 'hags': 'hags', 'nook': 'nook', 'tables': 'tables', 'academic': 'academic', 'clean': 'clean', 'break': 'break', 'century': 'century', 'dolittles': 'dolittles', 'caravan': 'caravan', 'briareus': 'briareus', 'crocus': 'crocus', 'teen': 'teen', 'idol': 'idol', 'premonitions': 'premonitions', 'wee': 'wee', 'max': 'max', 'mistys': 'mistys', 'foal': 'foal', 'bloodhound': 'bloodhound', 'explosion': 'explosion', 'destroyer': 'destroyer', 'ruins': 'ruins', 'profit': 'profit', 'armance': 'armance', 'au': 'au', 'bonheur': 'bonheur', 'dames': 'dames', 'casino': 'casino', 'royale': 'royale', 'colours': 'colours', 'infamous': 'infamous', 'sam': 'sam', 'mortalis': 'mortalis', 'pages': 'pages', 'coffee': 'coffee', 'trader': 'trader', 'franklin': 'franklin', 'christie': 'christie', 'malrys': 'malrys', 'entry': 'entry', 'kills': 'kills', 'emperor': 'emperor', 'gridiron': 'gridiron', 'tommy': 'tommy', 'marble': 'marble', 'assemblers': 'assemblers', 'americana': 'americana', 'primrose': 'primrose', 'stanley': 'stanley', 'sunnyside': 'sunnyside', 'deaths': 'deaths', 'quincas': 'quincas', 'wateryell': 'wateryell', 'rides': 'rides', 'bike': 'bike', 'lilacs': 'lilacs', 'hangover': 'hangover', 'coachman': 'coachman', 'pigeon': 'pigeon', 'post': 'post', 'homunculus': 'homunculus', 'navohar': 'navohar', 'winthrop': 'winthrop', 'paloma': 'paloma', 'inner': 'inner', 'neighborhood': 'neighborhood', 'carnosaur': 'carnosaur', 'disinherited': 'disinherited', 'random': 'random', 'senseless': 'senseless', 'violence': 'violence', 'vendetta': 'vendetta', 'tost': 'tost', 'janissaries': 'janissaries', 'politics': 'politics', 'bahama': 'bahama', 'lifes': 'lifes', 'ninety': 'ninety', 'lightship': 'lightship', 'chelsea': 'chelsea', 'castles': 'castles', 'clarissa': 'clarissa', 'kindly': 'kindly', 'shikasta': 'shikasta', 'messiahs': 'messiahs', 'effi': 'effi', 'briest': 'briest', 'pitcairns': 'pitcairns', 'awakens': 'awakens', 'maid': 'maid', 'perth': 'perth', 'jagged': 'jagged', 'orbit': 'orbit', 'sweetblood': 'sweetblood', 'pirates': 'pirates', 'asteroids': 'asteroids', 'wenceslas': 'wenceslas', 'stripes': 'stripes', 'bathtub': 'bathtub', 'barking': 'barking', 'fauntleroy': 'fauntleroy', 'fealty': 'fealty', 'chrome': 'chrome', 'goldfish': 'goldfish', 'pocket': 'pocket', 'grains': 'grains', 'northworld': 'northworld', 'colonial': 'colonial', 'incandescence': 'incandescence', 'maske': 'maske', 'thaery': 'thaery', 'granny': 'granny', 'buffer': 'buffer', 'mare': 'mare', 'baseball': 'baseball', 'elsewhere': 'elsewhere', 'youngblood': 'youngblood', 'hawke': 'hawke', 'leap': 'leap', 'outside': 'outside', 'providence': 'providence', 'catching': 'catching', 'capone': 'capone', 'shirts': 'shirts', 'misspent': 'misspent', 'suicide': 'suicide', 'regency': 'regency', 'buck': 'buck', 'rover': 'rover', 'keys': 'keys', 'tail': 'tail', 'kermit': 'kermit', 'hermit': 'hermit', 'marazan': 'marazan', 'disdained': 'disdained', 'chequer': 'chequer', 'board': 'board', 'wet': 'wet', 'trustee': 'trustee', 'toolroom': 'toolroom', 'stump': 'stump', 'diamonds': 'diamonds', 'missionary': 'missionary', 'position': 'position', 'disordered': 'disordered', 'machines': 'machines', 'hoffman': 'hoffman', 'typewriter': 'typewriter', 'languages': 'languages', 'pao': 'pao', 'bum': 'bum', 'amazons': 'amazons', 'neighbors': 'neighbors', 'spiderweb': 'spiderweb', 'melendy': 'melendy', 'ticktock': 'ticktock', 'voss': 'voss', 'comrades': 'comrades', 'germs': 'germs', 'biological': 'biological', 'weapons': 'weapons', 'deepness': 'deepness', 'johnson': 'johnson', 'scotland': 'scotland', 'unfinished': 'unfinished', 'sundial': 'sundial', 'iceworld': 'iceworld', 'antony': 'antony', 'cleopatra': 'cleopatra', 'sweetie': 'sweetie', 'alamut': 'alamut', 'snobs': 'snobs', 'subspace': 'subspace', 'sakkara': 'sakkara', 'traitor': 'traitor', 'coin': 'coin', 'locker': 'locker', 'westing': 'westing', 'schismatrix': 'schismatrix', 'bouille': 'bouille', 'triton': 'triton', 'heroes': 'heroes', 'vase': 'vase', 'socratic': 'socratic', 'puzzles': 'puzzles', 'pyramid': 'pyramid', 'rime': 'rime', 'mariner': 'mariner', 'guy': 'guy', 'mannering': 'mannering', 'deathstalker': 'deathstalker', 'rebellion': 'rebellion', 'geography': 'geography', 'firetop': 'firetop', 'terre': 'terre', 'haute': 'haute', 'recovery': 'recovery', 'believers': 'believers', 'upbringing': 'upbringing', 'venetia': 'venetia', 'euphrates': 'euphrates', 'mansions': 'mansions', 'winters': 'winters', 'savoy': 'savoy', 'learns': 'learns', 'natives': 'natives', 'ebenezer': 'ebenezer', 'page': 'page', 'dresses': 'dresses', 'delusions': 'delusions', 'grandma': 'grandma', 'elected': 'elected', 'unreason': 'unreason', 'fossil': 'fossil', 'downstairs': 'downstairs', 'seed': 'seed', 'today': 'today', 'illustrated': 'illustrated', 'mum': 'mum', 'presumption': 'presumption', 'cargo': 'cargo', 'michaelmas': 'michaelmas', 'nbs': 'nbs', 'drew': 'drew', 'vegan': 'vegan', 'valentine': 'valentine', 'varjak': 'varjak', 'thank': 'thank', 'annwn': 'annwn', 'branch': 'branch', 'given': 'given', 'zebedee': 'zebedee', 'genocidal': 'genocidal', 'davids': 'davids', 'spaceship': 'spaceship', 'calls': 'calls', 'georgie': 'georgie', 'foxes': 'foxes', 'ford': 'ford', 'administration': 'administration', 'super': 'super', 'cannes': 'cannes', 'laughs': 'laughs', 'kallocain': 'kallocain', 'freckles': 'freckles', 'monastery': 'monastery', 'miso': 'miso', 'floodland': 'floodland', 'sprig': 'sprig', 'muslin': 'muslin', 'luis': 'luis', 'rey': 'rey', 'trinitys': 'trinitys', 'gossamer': 'gossamer', 'getaway': 'getaway', 'hansom': 'hansom', 'cab': 'cab', 'hapsburg': 'hapsburg', 'necklace': 'necklace', 'eugene': 'eugene', 'onegin': 'onegin', 'sex': 'sex', 'chrysanthemum': 'chrysanthemum', 'moonchild': 'moonchild', 'tightrope': 'tightrope', 'rifka': 'rifka', 'guerrillas': 'guerrillas', 'silverlock': 'silverlock', 'deptford': 'deptford', 'troubles': 'troubles', 'stormrider': 'stormrider', 'wreck': 'wreck', 'zephyr': 'zephyr', 'watermelon': 'watermelon', 'sugar': 'sugar', 'ginmill': 'ginmill', 'closes': 'closes', 'happy': 'happy', 'kits': 'kits', 'airborn': 'airborn', 'martians': 'martians', 'stowaway': 'stowaway', 'infinitive': 'infinitive', 'quantum': 'quantum', 'build': 'build', 'patriarch': 'patriarch', 'armadale': 'armadale'}\n",
      "------------------------\n"
     ]
    }
   ],
   "source": [
    "for document in data_buku['soup']:\n",
    "    for term in document:\n",
    "        if term not in term_dict:\n",
    "            term_dict[term] = ' '\n",
    "\n",
    "print(len(term_dict))\n",
    "print(\"------------------------\")\n",
    "\n",
    "for term in term_dict:\n",
    "    term_dict[term] = stemmed_wrapper(term)\n",
    "    # print(term,\":\" ,term_dict[term])\n",
    "\n",
    "print(term_dict)\n",
    "print(\"------------------------\")\n",
    "\n",
    "# apply stemmed term to dataframe\n",
    "def get_stemmed_term(document):\n",
    "    return [term_dict[term] for term in document]"
   ]
  },
  {
   "attachments": {},
   "cell_type": "markdown",
   "metadata": {},
   "source": [
    "## Menyimpan Data ke Pickle"
   ]
  },
  {
   "cell_type": "code",
   "execution_count": 54,
   "metadata": {},
   "outputs": [
    {
     "data": {
      "application/vnd.jupyter.widget-view+json": {
       "model_id": "098dbea5d3af48038d04157196e7424a",
       "version_major": 2,
       "version_minor": 0
      },
      "text/plain": [
       "Pandas Apply:   0%|          | 0/5067 [00:00<?, ?it/s]"
      ]
     },
     "metadata": {},
     "output_type": "display_data"
    }
   ],
   "source": [
    "import swifter\n",
    "import pickle5 as pickle\n",
    "\n",
    "data_buku['soup'] = data_buku['soup'].swifter.apply(get_stemmed_term)\n",
    "pickle.dump(data_buku, open('model/cek1V2_v2.pkl', 'wb'))\n",
    "# data_buku = pickle.load(open('model/cek1V2_v2.pkl', 'rb'))\n",
    "# mengubah list pada kolom soup menjadi string\n",
    "data_buku['soup'] = data_buku['soup'].agg(lambda x: ' '.join(map(str, x)))\n",
    "# menggabungkan soup sebelumnya dengan author dan genre\n"
   ]
  },
  {
   "cell_type": "code",
   "execution_count": 55,
   "metadata": {},
   "outputs": [
    {
     "name": "stdout",
     "output_type": "stream",
     "text": [
      "<class 'pandas.core.frame.DataFrame'>\n",
      "RangeIndex: 5067 entries, 0 to 5066\n",
      "Data columns (total 12 columns):\n",
      " #   Column            Non-Null Count  Dtype \n",
      "---  ------            --------------  ----- \n",
      " 0   Book-Title        5067 non-null   object\n",
      " 1   Book-Author       5067 non-null   object\n",
      " 2   Publisher         5067 non-null   object\n",
      " 3   Author            4918 non-null   object\n",
      " 4   Summary           5067 non-null   object\n",
      " 5   Genres            5067 non-null   object\n",
      " 6   book_title_list   5067 non-null   object\n",
      " 7   book_author_list  5067 non-null   object\n",
      " 8   publiser_list     5067 non-null   object\n",
      " 9   genres_list       5067 non-null   object\n",
      " 10  summarry_list     5067 non-null   object\n",
      " 11  soup              5067 non-null   object\n",
      "dtypes: object(12)\n",
      "memory usage: 475.2+ KB\n"
     ]
    }
   ],
   "source": [
    "data_buku.info()"
   ]
  },
  {
   "cell_type": "code",
   "execution_count": 56,
   "metadata": {},
   "outputs": [
    {
     "data": {
      "text/plain": [
       "0                               Thriller Fiction Suspense\n",
       "1                                   Science Fiction Novel\n",
       "2                        Science Fiction Fiction Suspense\n",
       "3                                                 Fiction\n",
       "4                                           Fiction Novel\n",
       "                              ...                        \n",
       "5062    Science Fiction Speculative fiction Fiction Novel\n",
       "5063                  Science Fiction Speculative fiction\n",
       "5064                                                Novel\n",
       "5065    Speculative fiction Historical fiction Romance...\n",
       "5066                          Speculative fiction Fantasy\n",
       "Name: genres_list, Length: 5067, dtype: object"
      ]
     },
     "execution_count": 56,
     "metadata": {},
     "output_type": "execute_result"
    }
   ],
   "source": [
    "data_buku['genres_list']"
   ]
  },
  {
   "cell_type": "code",
   "execution_count": 57,
   "metadata": {},
   "outputs": [],
   "source": [
    "# data_buku['book_author_list'] = ' '.join(str(x) for x in data_buku['book_author_list'])"
   ]
  },
  {
   "cell_type": "code",
   "execution_count": 58,
   "metadata": {},
   "outputs": [],
   "source": [
    "# data_buku['category_list'] = ' '.join(str(x) for x in data_buku['category_list'])"
   ]
  },
  {
   "cell_type": "code",
   "execution_count": 59,
   "metadata": {},
   "outputs": [
    {
     "data": {
      "text/plain": [
       "0         t r o y   p h e l a n ,   a n   e c c e n t ...\n",
       "1         t h e   n o v e l   o p e n s   a b o a r d ...\n",
       "2         i n   t h e   m i d d l e   o f   t h e   n ...\n",
       "3         t h e   b o o k   o p e n s   w i t h   t h ...\n",
       "4         t h i s   n o v e l   b e g i n s   t w o   ...\n",
       "                              ...                        \n",
       "5062      t h e   n o v e l   b e g i n s   w i t h   ...\n",
       "5063      w e   c a n   b u i l d   y o u   i s   s e ...\n",
       "5064      t h e   b o o k   i s   w r i t t e n   i n ...\n",
       "5065      t h e   n o v e l   h a s   a   c o n v o l ...\n",
       "5066      t h e   b o o k   t e l l s   t h e   s t o ...\n",
       "Name: summarry_list, Length: 5067, dtype: object"
      ]
     },
     "execution_count": 59,
     "metadata": {},
     "output_type": "execute_result"
    }
   ],
   "source": [
    "data_buku['summarry_list'].str.lower()"
   ]
  },
  {
   "cell_type": "code",
   "execution_count": 60,
   "metadata": {},
   "outputs": [
    {
     "data": {
      "text/plain": [
       "0                               thriller fiction suspense\n",
       "1                                   science fiction novel\n",
       "2                        science fiction fiction suspense\n",
       "3                                                 fiction\n",
       "4                                           fiction novel\n",
       "                              ...                        \n",
       "5062    science fiction speculative fiction fiction novel\n",
       "5063                  science fiction speculative fiction\n",
       "5064                                                novel\n",
       "5065    speculative fiction historical fiction romance...\n",
       "5066                          speculative fiction fantasy\n",
       "Name: genres_list, Length: 5067, dtype: object"
      ]
     },
     "execution_count": 60,
     "metadata": {},
     "output_type": "execute_result"
    }
   ],
   "source": [
    "data_buku['genres_list'].str.lower()"
   ]
  },
  {
   "cell_type": "code",
   "execution_count": 61,
   "metadata": {},
   "outputs": [],
   "source": [
    "data_buku['genres_list'] = [' '.join(map(str, l)) for l in data_buku['genres_list']]"
   ]
  },
  {
   "cell_type": "code",
   "execution_count": 62,
   "metadata": {},
   "outputs": [],
   "source": [
    "data_buku['soup'] = data_buku['soup']+ \" \" + data_buku['book_author_list']"
   ]
  },
  {
   "cell_type": "code",
   "execution_count": 63,
   "metadata": {},
   "outputs": [],
   "source": [
    "data_buku['soup'] = data_buku['soup']+ \" \" + data_buku['genres_list']"
   ]
  },
  {
   "cell_type": "code",
   "execution_count": 64,
   "metadata": {},
   "outputs": [],
   "source": [
    "data_buku['soup'] = data_buku['soup']+ \" \" + data_buku['summarry_list']"
   ]
  },
  {
   "attachments": {},
   "cell_type": "markdown",
   "metadata": {},
   "source": [
    "# Modelling"
   ]
  },
  {
   "attachments": {},
   "cell_type": "markdown",
   "metadata": {},
   "source": [
    "## Pembobotan Nilai TF-IDF"
   ]
  },
  {
   "cell_type": "code",
   "execution_count": 65,
   "metadata": {},
   "outputs": [
    {
     "data": {
      "text/plain": [
       "(5067, 4894)"
      ]
     },
     "execution_count": 65,
     "metadata": {},
     "output_type": "execute_result"
    }
   ],
   "source": [
    "# libraries for Recommendation System\n",
    "from sklearn.feature_extraction.text import TfidfVectorizer\n",
    "\n",
    "# TF-IDF Vectorizer\n",
    "tfidf = TfidfVectorizer(stop_words=list_stopwords)\n",
    "\n",
    "# membangun matriks TF-IDF\n",
    "tfidf_matrix = tfidf.fit_transform(data_buku['soup'])\n",
    "\n",
    "# output the shape of tfidf_matrix\n",
    "tfidf_matrix.shape"
   ]
  },
  {
   "cell_type": "code",
   "execution_count": 66,
   "metadata": {},
   "outputs": [
    {
     "data": {
      "text/html": [
       "<div>\n",
       "<style scoped>\n",
       "    .dataframe tbody tr th:only-of-type {\n",
       "        vertical-align: middle;\n",
       "    }\n",
       "\n",
       "    .dataframe tbody tr th {\n",
       "        vertical-align: top;\n",
       "    }\n",
       "\n",
       "    .dataframe thead th {\n",
       "        text-align: right;\n",
       "    }\n",
       "</style>\n",
       "<table border=\"1\" class=\"dataframe\">\n",
       "  <thead>\n",
       "    <tr style=\"text-align: right;\">\n",
       "      <th></th>\n",
       "      <th>Book-Title</th>\n",
       "      <th>Book-Author</th>\n",
       "      <th>Publisher</th>\n",
       "      <th>Author</th>\n",
       "      <th>Summary</th>\n",
       "      <th>Genres</th>\n",
       "      <th>book_title_list</th>\n",
       "      <th>book_author_list</th>\n",
       "      <th>publiser_list</th>\n",
       "      <th>genres_list</th>\n",
       "      <th>summarry_list</th>\n",
       "      <th>soup</th>\n",
       "    </tr>\n",
       "  </thead>\n",
       "  <tbody>\n",
       "    <tr>\n",
       "      <th>0</th>\n",
       "      <td>The Testament</td>\n",
       "      <td>John Grisham</td>\n",
       "      <td>Dell</td>\n",
       "      <td>John Grisham</td>\n",
       "      <td>Troy Phelan, an eccentric elderly billionaire...</td>\n",
       "      <td>['Thriller', 'Fiction', 'Suspense']</td>\n",
       "      <td>the testament</td>\n",
       "      <td>j o h n   g r i s h a m</td>\n",
       "      <td>dell</td>\n",
       "      <td>T h r i l l e r   F i c t i o n   S u s p e n s e</td>\n",
       "      <td>t r o y   p h e l a n ,   a n   e c c e n t ...</td>\n",
       "      <td>testament j o h n   g r i s h a m T h r i l l ...</td>\n",
       "    </tr>\n",
       "    <tr>\n",
       "      <th>1</th>\n",
       "      <td>Airframe</td>\n",
       "      <td>Michael Crichton</td>\n",
       "      <td>Ballantine Books</td>\n",
       "      <td>Michael Crichton</td>\n",
       "      <td>The novel opens aboard Hong Kong-based Transp...</td>\n",
       "      <td>['Science Fiction', 'Novel']</td>\n",
       "      <td>airframe</td>\n",
       "      <td>m i c h a e l   c r i c h t o n</td>\n",
       "      <td>ballantine books</td>\n",
       "      <td>S c i e n c e   F i c t i o n   N o v e l</td>\n",
       "      <td>t h e   n o v e l   o p e n s   a b o a r d ...</td>\n",
       "      <td>airframe m i c h a e l   c r i c h t o n S c i...</td>\n",
       "    </tr>\n",
       "    <tr>\n",
       "      <th>2</th>\n",
       "      <td>Timeline</td>\n",
       "      <td>MICHAEL CRICHTON</td>\n",
       "      <td>Ballantine Books</td>\n",
       "      <td>Michael Crichton</td>\n",
       "      <td>In the middle of the New Mexico desert, a vac...</td>\n",
       "      <td>['Science Fiction', 'Fiction', 'Suspense']</td>\n",
       "      <td>timeline</td>\n",
       "      <td>m i c h a e l   c r i c h t o n</td>\n",
       "      <td>ballantine books</td>\n",
       "      <td>S c i e n c e   F i c t i o n   F i c t i o n ...</td>\n",
       "      <td>i n   t h e   m i d d l e   o f   t h e   n ...</td>\n",
       "      <td>timeline m i c h a e l   c r i c h t o n S c i...</td>\n",
       "    </tr>\n",
       "    <tr>\n",
       "      <th>3</th>\n",
       "      <td>To Kill a Mockingbird</td>\n",
       "      <td>Harper Lee</td>\n",
       "      <td>Little Brown &amp;amp; Company</td>\n",
       "      <td>Harper Lee</td>\n",
       "      <td>The book opens with the Finch family's ancest...</td>\n",
       "      <td>['Fiction']</td>\n",
       "      <td>to kill a mockingbird</td>\n",
       "      <td>h a r p e r   l e e</td>\n",
       "      <td>little brown &amp;amp; company</td>\n",
       "      <td>F i c t i o n</td>\n",
       "      <td>t h e   b o o k   o p e n s   w i t h   t h ...</td>\n",
       "      <td>kill mockingbird h a r p e r   l e e F i c t i...</td>\n",
       "    </tr>\n",
       "    <tr>\n",
       "      <th>4</th>\n",
       "      <td>Pigs in Heaven</td>\n",
       "      <td>Barbara Kingsolver</td>\n",
       "      <td>Harpercollins</td>\n",
       "      <td>Barbara Kingsolver</td>\n",
       "      <td>This novel begins two years after the events ...</td>\n",
       "      <td>['Fiction', 'Novel']</td>\n",
       "      <td>pigs in heaven</td>\n",
       "      <td>b a r b a r a   k i n g s o l v e r</td>\n",
       "      <td>harpercollins</td>\n",
       "      <td>F i c t i o n   N o v e l</td>\n",
       "      <td>t h i s   n o v e l   b e g i n s   t w o   ...</td>\n",
       "      <td>pigs heaven b a r b a r a   k i n g s o l v e ...</td>\n",
       "    </tr>\n",
       "    <tr>\n",
       "      <th>...</th>\n",
       "      <td>...</td>\n",
       "      <td>...</td>\n",
       "      <td>...</td>\n",
       "      <td>...</td>\n",
       "      <td>...</td>\n",
       "      <td>...</td>\n",
       "      <td>...</td>\n",
       "      <td>...</td>\n",
       "      <td>...</td>\n",
       "      <td>...</td>\n",
       "      <td>...</td>\n",
       "      <td>...</td>\n",
       "    </tr>\n",
       "    <tr>\n",
       "      <th>5062</th>\n",
       "      <td>The Coming of the Quantum Cats</td>\n",
       "      <td>Frederick Pohl</td>\n",
       "      <td>Bantam Books</td>\n",
       "      <td>Frederik Pohl</td>\n",
       "      <td>The novel begins with Nicky DeSota, a timid m...</td>\n",
       "      <td>['Science Fiction', 'Speculative fiction', 'Fi...</td>\n",
       "      <td>the coming of the quantum cats</td>\n",
       "      <td>f r e d e r i c k   p o h l</td>\n",
       "      <td>bantam books</td>\n",
       "      <td>S c i e n c e   F i c t i o n   S p e c u l a ...</td>\n",
       "      <td>t h e   n o v e l   b e g i n s   w i t h   ...</td>\n",
       "      <td>coming quantum cats f r e d e r i c k   p o h ...</td>\n",
       "    </tr>\n",
       "    <tr>\n",
       "      <th>5063</th>\n",
       "      <td>We Can Build You</td>\n",
       "      <td>Philip K. Dick</td>\n",
       "      <td>Vintage Books USA</td>\n",
       "      <td>Philip K. Dick</td>\n",
       "      <td>We Can Build You is set in the then-future ye...</td>\n",
       "      <td>['Science Fiction', 'Speculative fiction']</td>\n",
       "      <td>we can build you</td>\n",
       "      <td>p h i l i p   k .   d i c k</td>\n",
       "      <td>vintage books usa</td>\n",
       "      <td>S c i e n c e   F i c t i o n   S p e c u l a ...</td>\n",
       "      <td>w e   c a n   b u i l d   y o u   i s   s e ...</td>\n",
       "      <td>build p h i l i p   k .   d i c k S c i e n c ...</td>\n",
       "    </tr>\n",
       "    <tr>\n",
       "      <th>5064</th>\n",
       "      <td>The Autumn of the Patriarch</td>\n",
       "      <td>Gabriel Garcia Marquez</td>\n",
       "      <td>Perennial</td>\n",
       "      <td>Gabriel García Márquez</td>\n",
       "      <td>The book is written in long paragraphs with e...</td>\n",
       "      <td>['Novel']</td>\n",
       "      <td>the autumn of the patriarch</td>\n",
       "      <td>g a b r i e l   g a r c i a   m a r q u e z</td>\n",
       "      <td>perennial</td>\n",
       "      <td>N o v e l</td>\n",
       "      <td>t h e   b o o k   i s   w r i t t e n   i n ...</td>\n",
       "      <td>autumn patriarch g a b r i e l   g a r c i a  ...</td>\n",
       "    </tr>\n",
       "    <tr>\n",
       "      <th>5065</th>\n",
       "      <td>Armadale</td>\n",
       "      <td>Wilkie Collins</td>\n",
       "      <td>PhÃ?Â©bus</td>\n",
       "      <td>Wilkie Collins</td>\n",
       "      <td>The novel has a convoluted plot about two dis...</td>\n",
       "      <td>['Speculative fiction', 'Historical fiction', ...</td>\n",
       "      <td>armadale</td>\n",
       "      <td>w i l k i e   c o l l i n s</td>\n",
       "      <td>phã?â©bus</td>\n",
       "      <td>S p e c u l a t i v e   f i c t i o n   H i s ...</td>\n",
       "      <td>t h e   n o v e l   h a s   a   c o n v o l ...</td>\n",
       "      <td>armadale w i l k i e   c o l l i n s S p e c u...</td>\n",
       "    </tr>\n",
       "    <tr>\n",
       "      <th>5066</th>\n",
       "      <td>The Broken Sword</td>\n",
       "      <td>Northam Anderson</td>\n",
       "      <td>Del Rey Books</td>\n",
       "      <td>Poul Anderson</td>\n",
       "      <td>The book tells the story of Skafloc, elven-fo...</td>\n",
       "      <td>['Speculative fiction', 'Fantasy']</td>\n",
       "      <td>the broken sword</td>\n",
       "      <td>n o r t h a m   a n d e r s o n</td>\n",
       "      <td>del rey books</td>\n",
       "      <td>S p e c u l a t i v e   f i c t i o n   F a n ...</td>\n",
       "      <td>t h e   b o o k   t e l l s   t h e   s t o ...</td>\n",
       "      <td>broken sword n o r t h a m   a n d e r s o n S...</td>\n",
       "    </tr>\n",
       "  </tbody>\n",
       "</table>\n",
       "<p>5067 rows × 12 columns</p>\n",
       "</div>"
      ],
      "text/plain": [
       "                          Book-Title             Book-Author  \\\n",
       "0                      The Testament            John Grisham   \n",
       "1                           Airframe        Michael Crichton   \n",
       "2                           Timeline        MICHAEL CRICHTON   \n",
       "3              To Kill a Mockingbird              Harper Lee   \n",
       "4                     Pigs in Heaven      Barbara Kingsolver   \n",
       "...                              ...                     ...   \n",
       "5062  The Coming of the Quantum Cats          Frederick Pohl   \n",
       "5063                We Can Build You          Philip K. Dick   \n",
       "5064     The Autumn of the Patriarch  Gabriel Garcia Marquez   \n",
       "5065                        Armadale          Wilkie Collins   \n",
       "5066                The Broken Sword        Northam Anderson   \n",
       "\n",
       "                       Publisher                  Author  \\\n",
       "0                           Dell            John Grisham   \n",
       "1               Ballantine Books        Michael Crichton   \n",
       "2               Ballantine Books        Michael Crichton   \n",
       "3     Little Brown &amp; Company              Harper Lee   \n",
       "4                  Harpercollins      Barbara Kingsolver   \n",
       "...                          ...                     ...   \n",
       "5062                Bantam Books           Frederik Pohl   \n",
       "5063           Vintage Books USA          Philip K. Dick   \n",
       "5064                   Perennial  Gabriel García Márquez   \n",
       "5065                   PhÃ?Â©bus          Wilkie Collins   \n",
       "5066               Del Rey Books           Poul Anderson   \n",
       "\n",
       "                                                Summary  \\\n",
       "0      Troy Phelan, an eccentric elderly billionaire...   \n",
       "1      The novel opens aboard Hong Kong-based Transp...   \n",
       "2      In the middle of the New Mexico desert, a vac...   \n",
       "3      The book opens with the Finch family's ancest...   \n",
       "4      This novel begins two years after the events ...   \n",
       "...                                                 ...   \n",
       "5062   The novel begins with Nicky DeSota, a timid m...   \n",
       "5063   We Can Build You is set in the then-future ye...   \n",
       "5064   The book is written in long paragraphs with e...   \n",
       "5065   The novel has a convoluted plot about two dis...   \n",
       "5066   The book tells the story of Skafloc, elven-fo...   \n",
       "\n",
       "                                                 Genres  \\\n",
       "0                   ['Thriller', 'Fiction', 'Suspense']   \n",
       "1                          ['Science Fiction', 'Novel']   \n",
       "2            ['Science Fiction', 'Fiction', 'Suspense']   \n",
       "3                                           ['Fiction']   \n",
       "4                                  ['Fiction', 'Novel']   \n",
       "...                                                 ...   \n",
       "5062  ['Science Fiction', 'Speculative fiction', 'Fi...   \n",
       "5063         ['Science Fiction', 'Speculative fiction']   \n",
       "5064                                          ['Novel']   \n",
       "5065  ['Speculative fiction', 'Historical fiction', ...   \n",
       "5066                 ['Speculative fiction', 'Fantasy']   \n",
       "\n",
       "                     book_title_list  \\\n",
       "0                      the testament   \n",
       "1                           airframe   \n",
       "2                           timeline   \n",
       "3              to kill a mockingbird   \n",
       "4                     pigs in heaven   \n",
       "...                              ...   \n",
       "5062  the coming of the quantum cats   \n",
       "5063                we can build you   \n",
       "5064     the autumn of the patriarch   \n",
       "5065                        armadale   \n",
       "5066                the broken sword   \n",
       "\n",
       "                                 book_author_list               publiser_list  \\\n",
       "0                         j o h n   g r i s h a m                        dell   \n",
       "1                 m i c h a e l   c r i c h t o n            ballantine books   \n",
       "2                 m i c h a e l   c r i c h t o n            ballantine books   \n",
       "3                             h a r p e r   l e e  little brown &amp; company   \n",
       "4             b a r b a r a   k i n g s o l v e r               harpercollins   \n",
       "...                                           ...                         ...   \n",
       "5062                  f r e d e r i c k   p o h l                bantam books   \n",
       "5063                  p h i l i p   k .   d i c k           vintage books usa   \n",
       "5064  g a b r i e l   g a r c i a   m a r q u e z                   perennial   \n",
       "5065                  w i l k i e   c o l l i n s                   phã?â©bus   \n",
       "5066              n o r t h a m   a n d e r s o n               del rey books   \n",
       "\n",
       "                                            genres_list  \\\n",
       "0     T h r i l l e r   F i c t i o n   S u s p e n s e   \n",
       "1             S c i e n c e   F i c t i o n   N o v e l   \n",
       "2     S c i e n c e   F i c t i o n   F i c t i o n ...   \n",
       "3                                         F i c t i o n   \n",
       "4                             F i c t i o n   N o v e l   \n",
       "...                                                 ...   \n",
       "5062  S c i e n c e   F i c t i o n   S p e c u l a ...   \n",
       "5063  S c i e n c e   F i c t i o n   S p e c u l a ...   \n",
       "5064                                          N o v e l   \n",
       "5065  S p e c u l a t i v e   f i c t i o n   H i s ...   \n",
       "5066  S p e c u l a t i v e   f i c t i o n   F a n ...   \n",
       "\n",
       "                                          summarry_list  \\\n",
       "0       t r o y   p h e l a n ,   a n   e c c e n t ...   \n",
       "1       t h e   n o v e l   o p e n s   a b o a r d ...   \n",
       "2       i n   t h e   m i d d l e   o f   t h e   n ...   \n",
       "3       t h e   b o o k   o p e n s   w i t h   t h ...   \n",
       "4       t h i s   n o v e l   b e g i n s   t w o   ...   \n",
       "...                                                 ...   \n",
       "5062    t h e   n o v e l   b e g i n s   w i t h   ...   \n",
       "5063    w e   c a n   b u i l d   y o u   i s   s e ...   \n",
       "5064    t h e   b o o k   i s   w r i t t e n   i n ...   \n",
       "5065    t h e   n o v e l   h a s   a   c o n v o l ...   \n",
       "5066    t h e   b o o k   t e l l s   t h e   s t o ...   \n",
       "\n",
       "                                                   soup  \n",
       "0     testament j o h n   g r i s h a m T h r i l l ...  \n",
       "1     airframe m i c h a e l   c r i c h t o n S c i...  \n",
       "2     timeline m i c h a e l   c r i c h t o n S c i...  \n",
       "3     kill mockingbird h a r p e r   l e e F i c t i...  \n",
       "4     pigs heaven b a r b a r a   k i n g s o l v e ...  \n",
       "...                                                 ...  \n",
       "5062  coming quantum cats f r e d e r i c k   p o h ...  \n",
       "5063  build p h i l i p   k .   d i c k S c i e n c ...  \n",
       "5064  autumn patriarch g a b r i e l   g a r c i a  ...  \n",
       "5065  armadale w i l k i e   c o l l i n s S p e c u...  \n",
       "5066  broken sword n o r t h a m   a n d e r s o n S...  \n",
       "\n",
       "[5067 rows x 12 columns]"
      ]
     },
     "execution_count": 66,
     "metadata": {},
     "output_type": "execute_result"
    }
   ],
   "source": [
    "data_buku"
   ]
  },
  {
   "attachments": {},
   "cell_type": "markdown",
   "metadata": {},
   "source": [
    "## Cosine Similarity"
   ]
  },
  {
   "cell_type": "code",
   "execution_count": 67,
   "metadata": {},
   "outputs": [],
   "source": [
    "# import linear_kernel\n",
    "from sklearn.metrics.pairwise import linear_kernel\n",
    "\n",
    "# menghitung matriks cosine similarity\n",
    "cosine_sim = linear_kernel(tfidf_matrix, tfidf_matrix)\n",
    "with open('model/cosine_sim.pkl', 'wb') as f:\n",
    "    pickle.dump(cosine_sim, f)\n",
    "# reset index dataframe\n",
    "data_buku = data_buku.reset_index()\n",
    "titles = data_buku['Book-Title']\n",
    "# titles.lower()\n",
    "genre = data_buku['Genres']\n",
    "# membuat map dari index dan judul buku\n",
    "indices = pd.Series(data_buku.index, index=data_buku['Book-Title']).drop_duplicates()"
   ]
  },
  {
   "attachments": {},
   "cell_type": "markdown",
   "metadata": {},
   "source": [
    "# Evaluation"
   ]
  },
  {
   "cell_type": "code",
   "execution_count": 68,
   "metadata": {},
   "outputs": [],
   "source": [
    "def rec_tfidf(title, cosine_sim=cosine_sim):\n",
    "    recommendation = pd.DataFrame(columns = ['Book Idx', 'Title','Genre', 'Score'])\n",
    "    count = 0\n",
    "\n",
    "    idx = indices[title]\n",
    "    sim_scores = list(enumerate(cosine_sim[idx]))\n",
    "    sim_scores = sorted(sim_scores, key=lambda x: x[1], reverse=True)\n",
    "    sim_scores = sim_scores[0:6]\n",
    "    book_indices = [i[0] for i in sim_scores]\n",
    "\n",
    "    for i in book_indices:\n",
    "        recommendation.at[count, 'Book Idx'] = book_indices[count]\n",
    "        recommendation.at[count, 'Title'] = titles.iloc[book_indices[count]]\n",
    "        recommendation.at[count, 'Genre'] = genre.iloc[book_indices[count]]\n",
    "        recommendation.at[count, 'Score'] = sim_scores[count][1]\n",
    "        count += 1\n",
    "    return recommendation"
   ]
  },
  {
   "cell_type": "code",
   "execution_count": 69,
   "metadata": {},
   "outputs": [
    {
     "data": {
      "text/html": [
       "<div>\n",
       "<style scoped>\n",
       "    .dataframe tbody tr th:only-of-type {\n",
       "        vertical-align: middle;\n",
       "    }\n",
       "\n",
       "    .dataframe tbody tr th {\n",
       "        vertical-align: top;\n",
       "    }\n",
       "\n",
       "    .dataframe thead th {\n",
       "        text-align: right;\n",
       "    }\n",
       "</style>\n",
       "<table border=\"1\" class=\"dataframe\">\n",
       "  <thead>\n",
       "    <tr style=\"text-align: right;\">\n",
       "      <th></th>\n",
       "      <th>Book Idx</th>\n",
       "      <th>Title</th>\n",
       "      <th>Genre</th>\n",
       "      <th>Score</th>\n",
       "    </tr>\n",
       "  </thead>\n",
       "  <tbody>\n",
       "    <tr>\n",
       "      <th>0</th>\n",
       "      <td>2618</td>\n",
       "      <td>Harry Potter and the Goblet of Fire</td>\n",
       "      <td>['Speculative fiction']</td>\n",
       "      <td>1.0</td>\n",
       "    </tr>\n",
       "    <tr>\n",
       "      <th>1</th>\n",
       "      <td>1857</td>\n",
       "      <td>Harry Potter and the Chamber of Secrets</td>\n",
       "      <td>['Speculative fiction', 'Fantasy', 'Fiction']</td>\n",
       "      <td>0.498609</td>\n",
       "    </tr>\n",
       "    <tr>\n",
       "      <th>2</th>\n",
       "      <td>3643</td>\n",
       "      <td>Harry Potter and the Philosopher's Stone</td>\n",
       "      <td>[\"Children's literature\", 'Fantasy', 'Speculat...</td>\n",
       "      <td>0.494717</td>\n",
       "    </tr>\n",
       "    <tr>\n",
       "      <th>3</th>\n",
       "      <td>2752</td>\n",
       "      <td>Harry Potter and the Prisoner of Azkaban</td>\n",
       "      <td>['Fantasy', 'Speculative fiction', 'Young adul...</td>\n",
       "      <td>0.472952</td>\n",
       "    </tr>\n",
       "    <tr>\n",
       "      <th>4</th>\n",
       "      <td>2184</td>\n",
       "      <td>Fire</td>\n",
       "      <td>['Fantasy']</td>\n",
       "      <td>0.404111</td>\n",
       "    </tr>\n",
       "    <tr>\n",
       "      <th>5</th>\n",
       "      <td>3264</td>\n",
       "      <td>Wild About Harry</td>\n",
       "      <td>['Literary fiction', 'Fiction']</td>\n",
       "      <td>0.352037</td>\n",
       "    </tr>\n",
       "  </tbody>\n",
       "</table>\n",
       "</div>"
      ],
      "text/plain": [
       "  Book Idx                                     Title  \\\n",
       "0     2618       Harry Potter and the Goblet of Fire   \n",
       "1     1857   Harry Potter and the Chamber of Secrets   \n",
       "2     3643  Harry Potter and the Philosopher's Stone   \n",
       "3     2752  Harry Potter and the Prisoner of Azkaban   \n",
       "4     2184                                      Fire   \n",
       "5     3264                          Wild About Harry   \n",
       "\n",
       "                                               Genre     Score  \n",
       "0                            ['Speculative fiction']       1.0  \n",
       "1      ['Speculative fiction', 'Fantasy', 'Fiction']  0.498609  \n",
       "2  [\"Children's literature\", 'Fantasy', 'Speculat...  0.494717  \n",
       "3  ['Fantasy', 'Speculative fiction', 'Young adul...  0.472952  \n",
       "4                                        ['Fantasy']  0.404111  \n",
       "5                    ['Literary fiction', 'Fiction']  0.352037  "
      ]
     },
     "execution_count": 69,
     "metadata": {},
     "output_type": "execute_result"
    }
   ],
   "source": [
    "rec_tfidf(\"Harry Potter and the Goblet of Fire\")"
   ]
  },
  {
   "cell_type": "code",
   "execution_count": 70,
   "metadata": {},
   "outputs": [],
   "source": [
    "def get_recommendations(judul, jumlah):\n",
    "# Creates Series\n",
    "    judul = judul.lower()\n",
    "    judul = pd.Series(judul)\n",
    "    judul = judul.apply(lambda x: re.sub(r\"\\d+\", \"\", x))\n",
    "    judul = judul.apply(lambda x: x.translate({ord(c): \" \" for c in \"!@#$%^&*()[]{};:,./<>?\\|`~-=_+—\"}))\n",
    "    judul = judul.apply(lambda x: x.strip())\n",
    "    judul = judul.apply(lambda x: re.sub('\\s+',' ', x))\n",
    "    judul = judul.apply(lambda x: re.sub(r\"\\b[a-zA-Z]\\b\", \"\", x))\n",
    "\n",
    "    judul = judul.apply(lambda x: word_tokenize(x))\n",
    "\n",
    "    # Ambil kata kunci\n",
    "    judul = judul.to_string()\n",
    "    judul = judul[6:-1]\n",
    "    judul = re.sub(r'[^\\w\\s]', '', judul)\n",
    "    # Membaca data\n",
    "    books = data_buku\n",
    "    gnr = \"['keywords', {judul}]\"\n",
    "    data = [{'Book-Title': judul, 'Book-Author': judul, 'Genres': gnr, 'Summary': judul ,  'book_title_list': judul, 'book_author_list': judul, 'genres_list': judul, 'summary_list': judul , 'soup': judul}]\n",
    "    # books.drop_duplicates(subset =\"title\", inplace = True)\n",
    "    # Menggabungkan database buku dengan kata kunci yang dimasukkan\n",
    "    print(data)\n",
    "    new = pd.DataFrame(data)\n",
    "    frames = [books, new]\n",
    "    # print(frames)\n",
    "    result = pd.concat(frames)\n",
    "\n",
    "    books = result.copy()\n",
    "    # print(books)\n",
    "    tfidf = TfidfVectorizer(stop_words=list_stopwords)\n",
    "    tfidf_matrix = tfidf.fit_transform(books['soup'])\n",
    "    cosine_sim = linear_kernel(tfidf_matrix, tfidf_matrix)\n",
    "\n",
    "    books = books.reset_index()\n",
    "    titles = books['Book-Title']\n",
    "    print(titles)\n",
    "    # titles = titles.str.lower()\n",
    "    # summarry = books['Summary']\n",
    "    # summarry = summarry.str.lower()\n",
    "    authors = books['Book-Author']\n",
    "    # Implementasi kode pada Gambar 4.7 (tanpa set genre menjadi lowercase)\n",
    "    books['Genres'] = books['Genres'].apply(lambda x:x.replace(\"'\", \"\").replace(\"[\", \"\").replace(\"]\", \"\"))\n",
    "    books['Genres'] = [', '.join(map(str, l)) for l in books['Genres']]\n",
    "    genres = books['Genres']\n",
    "    indices = pd.Series(books.index, index=titles)\n",
    "    # Memebentuk tampilan dataframe berdasarkan judul, penulis, genre dan cover\n",
    "    jumlah = int(jumlah) + 1\n",
    "    rec = pd.DataFrame(columns = ['Judul', 'Penulis', 'Genre'])\n",
    "    count = 0\n",
    "    idx = indices[judul]\n",
    "    sim_scores = list(enumerate(cosine_sim[idx]))\n",
    "    sim_scores = sorted(sim_scores, key=lambda x: x[1], reverse=True)\n",
    "    sim_scores = sim_scores[1:jumlah]\n",
    "    book_indices = [i[0] for i in sim_scores]\n",
    "    for i in book_indices:\n",
    "        rec.at[count+1, 'Judul'] = titles.iloc[book_indices[count]]\n",
    "        rec.at[count+1, 'Penulis'] = authors.iloc[book_indices[count]]\n",
    "        rec.at[count+1, 'Genre'] = genres.iloc[book_indices[count]]\n",
    "        rec.at[count+1, 'Score'] = sim_scores[count][1]\n",
    "        count += 1\n",
    "    # rec = rec.sort_values(by='Score', ascending=False).head(jumlah)\n",
    "    \n",
    "    return rec"
   ]
  },
  {
   "cell_type": "code",
   "execution_count": 76,
   "metadata": {},
   "outputs": [
    {
     "name": "stdout",
     "output_type": "stream",
     "text": [
      "[{'Book-Title': 'fire', 'Book-Author': 'fire', 'Genres': \"['keywords', {judul}]\", 'Summary': 'fire', 'book_title_list': 'fire', 'book_author_list': 'fire', 'genres_list': 'fire', 'summary_list': 'fire', 'soup': 'fire'}]\n",
      "0                     The Testament\n",
      "1                          Airframe\n",
      "2                          Timeline\n",
      "3             To Kill a Mockingbird\n",
      "4                    Pigs in Heaven\n",
      "                   ...             \n",
      "5063               We Can Build You\n",
      "5064    The Autumn of the Patriarch\n",
      "5065                       Armadale\n",
      "5066               The Broken Sword\n",
      "5067                           fire\n",
      "Name: Book-Title, Length: 5068, dtype: object\n"
     ]
    },
    {
     "data": {
      "text/html": [
       "<div>\n",
       "<style scoped>\n",
       "    .dataframe tbody tr th:only-of-type {\n",
       "        vertical-align: middle;\n",
       "    }\n",
       "\n",
       "    .dataframe tbody tr th {\n",
       "        vertical-align: top;\n",
       "    }\n",
       "\n",
       "    .dataframe thead th {\n",
       "        text-align: right;\n",
       "    }\n",
       "</style>\n",
       "<table border=\"1\" class=\"dataframe\">\n",
       "  <thead>\n",
       "    <tr style=\"text-align: right;\">\n",
       "      <th></th>\n",
       "      <th>Judul</th>\n",
       "      <th>Penulis</th>\n",
       "      <th>Genre</th>\n",
       "      <th>Score</th>\n",
       "    </tr>\n",
       "  </thead>\n",
       "  <tbody>\n",
       "    <tr>\n",
       "      <th>1</th>\n",
       "      <td>fire</td>\n",
       "      <td>fire</td>\n",
       "      <td>k, e, y, w, o, r, d, s, ,,  , {, j, u, d, u, l, }</td>\n",
       "      <td>1.000000</td>\n",
       "    </tr>\n",
       "    <tr>\n",
       "      <th>2</th>\n",
       "      <td>Man on Fire</td>\n",
       "      <td>A.J. Quinnell</td>\n",
       "      <td>T, h, r, i, l, l, e, r, ,,  , F, i, c, t, i, o...</td>\n",
       "      <td>0.741777</td>\n",
       "    </tr>\n",
       "    <tr>\n",
       "      <th>3</th>\n",
       "      <td>Fire Time</td>\n",
       "      <td>Poul Anderson</td>\n",
       "      <td>S, c, i, e, n, c, e,  , F, i, c, t, i, o, n, ,...</td>\n",
       "      <td>0.732174</td>\n",
       "    </tr>\n",
       "    <tr>\n",
       "      <th>4</th>\n",
       "      <td>Black Fire</td>\n",
       "      <td>Lynn Abbey</td>\n",
       "      <td>S, c, i, e, n, c, e,  , F, i, c, t, i, o, n</td>\n",
       "      <td>0.725347</td>\n",
       "    </tr>\n",
       "    <tr>\n",
       "      <th>5</th>\n",
       "      <td>Dark Fire</td>\n",
       "      <td>Christine Feehan</td>\n",
       "      <td>S, p, e, c, u, l, a, t, i, v, e,  , f, i, c, t...</td>\n",
       "      <td>0.716053</td>\n",
       "    </tr>\n",
       "    <tr>\n",
       "      <th>6</th>\n",
       "      <td>Dragon Fire</td>\n",
       "      <td>Andrew Kaplan</td>\n",
       "      <td>T, h, r, i, l, l, e, r, ,,  , W, a, r,  , n, o...</td>\n",
       "      <td>0.701056</td>\n",
       "    </tr>\n",
       "    <tr>\n",
       "      <th>7</th>\n",
       "      <td>Green Fire</td>\n",
       "      <td>Stephanie James</td>\n",
       "      <td>S, c, i, e, n, c, e,  , F, i, c, t, i, o, n, ,...</td>\n",
       "      <td>0.691951</td>\n",
       "    </tr>\n",
       "    <tr>\n",
       "      <th>8</th>\n",
       "      <td>People of the Fire</td>\n",
       "      <td>W.Michael Gear</td>\n",
       "      <td>S, c, i, e, n, c, e,  , F, i, c, t, i, o, n, ,...</td>\n",
       "      <td>0.678279</td>\n",
       "    </tr>\n",
       "    <tr>\n",
       "      <th>9</th>\n",
       "      <td>Fire on the Mountain</td>\n",
       "      <td>Anita Desai</td>\n",
       "      <td>W, e, s, t, e, r, n, ,,  , F, i, c, t, i, o, n</td>\n",
       "      <td>0.664583</td>\n",
       "    </tr>\n",
       "    <tr>\n",
       "      <th>10</th>\n",
       "      <td>Cold Fire</td>\n",
       "      <td>Dean R. Koontz</td>\n",
       "      <td>\", C, h, i, l, d, r, e, n, s,  , l, i, t, e, r...</td>\n",
       "      <td>0.664583</td>\n",
       "    </tr>\n",
       "  </tbody>\n",
       "</table>\n",
       "</div>"
      ],
      "text/plain": [
       "                   Judul           Penulis  \\\n",
       "1                   fire              fire   \n",
       "2            Man on Fire     A.J. Quinnell   \n",
       "3              Fire Time     Poul Anderson   \n",
       "4             Black Fire        Lynn Abbey   \n",
       "5              Dark Fire  Christine Feehan   \n",
       "6            Dragon Fire     Andrew Kaplan   \n",
       "7             Green Fire   Stephanie James   \n",
       "8     People of the Fire    W.Michael Gear   \n",
       "9   Fire on the Mountain       Anita Desai   \n",
       "10             Cold Fire    Dean R. Koontz   \n",
       "\n",
       "                                                Genre     Score  \n",
       "1   k, e, y, w, o, r, d, s, ,,  , {, j, u, d, u, l, }  1.000000  \n",
       "2   T, h, r, i, l, l, e, r, ,,  , F, i, c, t, i, o...  0.741777  \n",
       "3   S, c, i, e, n, c, e,  , F, i, c, t, i, o, n, ,...  0.732174  \n",
       "4         S, c, i, e, n, c, e,  , F, i, c, t, i, o, n  0.725347  \n",
       "5   S, p, e, c, u, l, a, t, i, v, e,  , f, i, c, t...  0.716053  \n",
       "6   T, h, r, i, l, l, e, r, ,,  , W, a, r,  , n, o...  0.701056  \n",
       "7   S, c, i, e, n, c, e,  , F, i, c, t, i, o, n, ,...  0.691951  \n",
       "8   S, c, i, e, n, c, e,  , F, i, c, t, i, o, n, ,...  0.678279  \n",
       "9      W, e, s, t, e, r, n, ,,  , F, i, c, t, i, o, n  0.664583  \n",
       "10  \", C, h, i, l, d, r, e, n, s,  , l, i, t, e, r...  0.664583  "
      ]
     },
     "execution_count": 76,
     "metadata": {},
     "output_type": "execute_result"
    }
   ],
   "source": [
    "get_recommendations(\"fire\", 10)"
   ]
  }
 ],
 "metadata": {
  "kernelspec": {
   "display_name": "Python 3",
   "language": "python",
   "name": "python3"
  },
  "language_info": {
   "codemirror_mode": {
    "name": "ipython",
    "version": 3
   },
   "file_extension": ".py",
   "mimetype": "text/x-python",
   "name": "python",
   "nbconvert_exporter": "python",
   "pygments_lexer": "ipython3",
   "version": "3.10.6"
  },
  "orig_nbformat": 4
 },
 "nbformat": 4,
 "nbformat_minor": 2
}
