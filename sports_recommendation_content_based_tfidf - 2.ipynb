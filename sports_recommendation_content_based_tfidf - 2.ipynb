{
 "cells": [
  {
   "cell_type": "code",
   "execution_count": 1,
   "metadata": {},
   "outputs": [],
   "source": [
    "import pandas as pd\n",
    "import numpy as np\n",
    "from sklearn.metrics.pairwise import cosine_similarity\n",
    "from sklearn.feature_extraction.text import TfidfVectorizer\n",
    "from nltk.corpus import stopwords\n",
    "import re\n",
    "import random"
   ]
  },
  {
   "cell_type": "code",
   "execution_count": 80,
   "metadata": {},
   "outputs": [],
   "source": [
    "data_sports = pd.read_csv('\\\\Users\\\\acer\\\\Downloads\\\\data activity-fix2.csv')\n"
   ]
  },
  {
   "cell_type": "code",
   "execution_count": 81,
   "metadata": {},
   "outputs": [
    {
     "data": {
      "text/html": [
       "<div>\n",
       "<style scoped>\n",
       "    .dataframe tbody tr th:only-of-type {\n",
       "        vertical-align: middle;\n",
       "    }\n",
       "\n",
       "    .dataframe tbody tr th {\n",
       "        vertical-align: top;\n",
       "    }\n",
       "\n",
       "    .dataframe thead th {\n",
       "        text-align: right;\n",
       "    }\n",
       "</style>\n",
       "<table border=\"1\" class=\"dataframe\">\n",
       "  <thead>\n",
       "    <tr style=\"text-align: right;\">\n",
       "      <th></th>\n",
       "      <th>Sports</th>\n",
       "      <th>Description</th>\n",
       "      <th>Visual</th>\n",
       "      <th>Duration (Min)</th>\n",
       "      <th>Location</th>\n",
       "      <th>Number of people</th>\n",
       "      <th>Equipment</th>\n",
       "    </tr>\n",
       "  </thead>\n",
       "  <tbody>\n",
       "    <tr>\n",
       "      <th>0</th>\n",
       "      <td>Joging</td>\n",
       "      <td>A form of trotting or running at a slow or lei...</td>\n",
       "      <td>NaN</td>\n",
       "      <td>20-30</td>\n",
       "      <td>Outdoor</td>\n",
       "      <td>1</td>\n",
       "      <td>No</td>\n",
       "    </tr>\n",
       "    <tr>\n",
       "      <th>1</th>\n",
       "      <td>Running</td>\n",
       "      <td>The action of rapidly propelling yourself forw...</td>\n",
       "      <td>NaN</td>\n",
       "      <td>20-30</td>\n",
       "      <td>Outdoor</td>\n",
       "      <td>1</td>\n",
       "      <td>No</td>\n",
       "    </tr>\n",
       "    <tr>\n",
       "      <th>2</th>\n",
       "      <td>Jumping Rope</td>\n",
       "      <td>A form of exercise that involves swinging a ro...</td>\n",
       "      <td>NaN</td>\n",
       "      <td>1 - 5</td>\n",
       "      <td>Indoor</td>\n",
       "      <td>1</td>\n",
       "      <td>Yes</td>\n",
       "    </tr>\n",
       "    <tr>\n",
       "      <th>3</th>\n",
       "      <td>Aerobic</td>\n",
       "      <td>A series of movements accompanied by musical r...</td>\n",
       "      <td>NaN</td>\n",
       "      <td>15-20</td>\n",
       "      <td>Indoor</td>\n",
       "      <td>1</td>\n",
       "      <td>No</td>\n",
       "    </tr>\n",
       "    <tr>\n",
       "      <th>4</th>\n",
       "      <td>Yoga</td>\n",
       "      <td>A practice that connects the body, breath, and...</td>\n",
       "      <td>NaN</td>\n",
       "      <td>20-40</td>\n",
       "      <td>Indoor</td>\n",
       "      <td>1</td>\n",
       "      <td>No</td>\n",
       "    </tr>\n",
       "  </tbody>\n",
       "</table>\n",
       "</div>"
      ],
      "text/plain": [
       "         Sports                                        Description  Visual  \\\n",
       "0        Joging  A form of trotting or running at a slow or lei...     NaN   \n",
       "1       Running  The action of rapidly propelling yourself forw...     NaN   \n",
       "2  Jumping Rope  A form of exercise that involves swinging a ro...     NaN   \n",
       "3       Aerobic  A series of movements accompanied by musical r...     NaN   \n",
       "4          Yoga  A practice that connects the body, breath, and...     NaN   \n",
       "\n",
       "  Duration (Min) Location Number of people Equipment  \n",
       "0          20-30  Outdoor                1        No  \n",
       "1          20-30  Outdoor                1        No  \n",
       "2          1 - 5   Indoor                1       Yes  \n",
       "3          15-20   Indoor                1        No  \n",
       "4          20-40   Indoor                1        No  "
      ]
     },
     "execution_count": 81,
     "metadata": {},
     "output_type": "execute_result"
    }
   ],
   "source": [
    "data_sports.head()"
   ]
  },
  {
   "cell_type": "code",
   "execution_count": 82,
   "metadata": {},
   "outputs": [],
   "source": [
    "data_sports.drop([\"Visual\"], axis=1, inplace=True)"
   ]
  },
  {
   "cell_type": "code",
   "execution_count": 83,
   "metadata": {
    "scrolled": true
   },
   "outputs": [
    {
     "data": {
      "text/html": [
       "<div>\n",
       "<style scoped>\n",
       "    .dataframe tbody tr th:only-of-type {\n",
       "        vertical-align: middle;\n",
       "    }\n",
       "\n",
       "    .dataframe tbody tr th {\n",
       "        vertical-align: top;\n",
       "    }\n",
       "\n",
       "    .dataframe thead th {\n",
       "        text-align: right;\n",
       "    }\n",
       "</style>\n",
       "<table border=\"1\" class=\"dataframe\">\n",
       "  <thead>\n",
       "    <tr style=\"text-align: right;\">\n",
       "      <th></th>\n",
       "      <th>Sports</th>\n",
       "      <th>Description</th>\n",
       "      <th>Duration (Min)</th>\n",
       "      <th>Location</th>\n",
       "      <th>Number of people</th>\n",
       "      <th>Equipment</th>\n",
       "    </tr>\n",
       "  </thead>\n",
       "  <tbody>\n",
       "    <tr>\n",
       "      <th>0</th>\n",
       "      <td>Joging</td>\n",
       "      <td>A form of trotting or running at a slow or lei...</td>\n",
       "      <td>20-30</td>\n",
       "      <td>Outdoor</td>\n",
       "      <td>1</td>\n",
       "      <td>No</td>\n",
       "    </tr>\n",
       "    <tr>\n",
       "      <th>1</th>\n",
       "      <td>Running</td>\n",
       "      <td>The action of rapidly propelling yourself forw...</td>\n",
       "      <td>20-30</td>\n",
       "      <td>Outdoor</td>\n",
       "      <td>1</td>\n",
       "      <td>No</td>\n",
       "    </tr>\n",
       "    <tr>\n",
       "      <th>2</th>\n",
       "      <td>Jumping Rope</td>\n",
       "      <td>A form of exercise that involves swinging a ro...</td>\n",
       "      <td>1 - 5</td>\n",
       "      <td>Indoor</td>\n",
       "      <td>1</td>\n",
       "      <td>Yes</td>\n",
       "    </tr>\n",
       "    <tr>\n",
       "      <th>3</th>\n",
       "      <td>Aerobic</td>\n",
       "      <td>A series of movements accompanied by musical r...</td>\n",
       "      <td>15-20</td>\n",
       "      <td>Indoor</td>\n",
       "      <td>1</td>\n",
       "      <td>No</td>\n",
       "    </tr>\n",
       "    <tr>\n",
       "      <th>4</th>\n",
       "      <td>Yoga</td>\n",
       "      <td>A practice that connects the body, breath, and...</td>\n",
       "      <td>20-40</td>\n",
       "      <td>Indoor</td>\n",
       "      <td>1</td>\n",
       "      <td>No</td>\n",
       "    </tr>\n",
       "  </tbody>\n",
       "</table>\n",
       "</div>"
      ],
      "text/plain": [
       "         Sports                                        Description  \\\n",
       "0        Joging  A form of trotting or running at a slow or lei...   \n",
       "1       Running  The action of rapidly propelling yourself forw...   \n",
       "2  Jumping Rope  A form of exercise that involves swinging a ro...   \n",
       "3       Aerobic  A series of movements accompanied by musical r...   \n",
       "4          Yoga  A practice that connects the body, breath, and...   \n",
       "\n",
       "  Duration (Min) Location Number of people Equipment  \n",
       "0          20-30  Outdoor                1        No  \n",
       "1          20-30  Outdoor                1        No  \n",
       "2          1 - 5   Indoor                1       Yes  \n",
       "3          15-20   Indoor                1        No  \n",
       "4          20-40   Indoor                1        No  "
      ]
     },
     "execution_count": 83,
     "metadata": {},
     "output_type": "execute_result"
    }
   ],
   "source": [
    "data_sports.head()"
   ]
  },
  {
   "cell_type": "code",
   "execution_count": 84,
   "metadata": {},
   "outputs": [],
   "source": [
    "data_sports.drop_duplicates(subset=\"Sports\",inplace=True, keep=\"first\")"
   ]
  },
  {
   "cell_type": "code",
   "execution_count": 85,
   "metadata": {
    "scrolled": true
   },
   "outputs": [
    {
     "data": {
      "text/html": [
       "<div>\n",
       "<style scoped>\n",
       "    .dataframe tbody tr th:only-of-type {\n",
       "        vertical-align: middle;\n",
       "    }\n",
       "\n",
       "    .dataframe tbody tr th {\n",
       "        vertical-align: top;\n",
       "    }\n",
       "\n",
       "    .dataframe thead th {\n",
       "        text-align: right;\n",
       "    }\n",
       "</style>\n",
       "<table border=\"1\" class=\"dataframe\">\n",
       "  <thead>\n",
       "    <tr style=\"text-align: right;\">\n",
       "      <th></th>\n",
       "      <th>Sports</th>\n",
       "      <th>Description</th>\n",
       "      <th>Duration (Min)</th>\n",
       "      <th>Location</th>\n",
       "      <th>Number of people</th>\n",
       "      <th>Equipment</th>\n",
       "    </tr>\n",
       "  </thead>\n",
       "  <tbody>\n",
       "    <tr>\n",
       "      <th>0</th>\n",
       "      <td>Joging</td>\n",
       "      <td>A form of trotting or running at a slow or lei...</td>\n",
       "      <td>20-30</td>\n",
       "      <td>Outdoor</td>\n",
       "      <td>1</td>\n",
       "      <td>No</td>\n",
       "    </tr>\n",
       "    <tr>\n",
       "      <th>1</th>\n",
       "      <td>Running</td>\n",
       "      <td>The action of rapidly propelling yourself forw...</td>\n",
       "      <td>20-30</td>\n",
       "      <td>Outdoor</td>\n",
       "      <td>1</td>\n",
       "      <td>No</td>\n",
       "    </tr>\n",
       "    <tr>\n",
       "      <th>2</th>\n",
       "      <td>Jumping Rope</td>\n",
       "      <td>A form of exercise that involves swinging a ro...</td>\n",
       "      <td>1 - 5</td>\n",
       "      <td>Indoor</td>\n",
       "      <td>1</td>\n",
       "      <td>Yes</td>\n",
       "    </tr>\n",
       "    <tr>\n",
       "      <th>3</th>\n",
       "      <td>Aerobic</td>\n",
       "      <td>A series of movements accompanied by musical r...</td>\n",
       "      <td>15-20</td>\n",
       "      <td>Indoor</td>\n",
       "      <td>1</td>\n",
       "      <td>No</td>\n",
       "    </tr>\n",
       "    <tr>\n",
       "      <th>4</th>\n",
       "      <td>Yoga</td>\n",
       "      <td>A practice that connects the body, breath, and...</td>\n",
       "      <td>20-40</td>\n",
       "      <td>Indoor</td>\n",
       "      <td>1</td>\n",
       "      <td>No</td>\n",
       "    </tr>\n",
       "  </tbody>\n",
       "</table>\n",
       "</div>"
      ],
      "text/plain": [
       "         Sports                                        Description  \\\n",
       "0        Joging  A form of trotting or running at a slow or lei...   \n",
       "1       Running  The action of rapidly propelling yourself forw...   \n",
       "2  Jumping Rope  A form of exercise that involves swinging a ro...   \n",
       "3       Aerobic  A series of movements accompanied by musical r...   \n",
       "4          Yoga  A practice that connects the body, breath, and...   \n",
       "\n",
       "  Duration (Min) Location Number of people Equipment  \n",
       "0          20-30  Outdoor                1        No  \n",
       "1          20-30  Outdoor                1        No  \n",
       "2          1 - 5   Indoor                1       Yes  \n",
       "3          15-20   Indoor                1        No  \n",
       "4          20-40   Indoor                1        No  "
      ]
     },
     "execution_count": 85,
     "metadata": {},
     "output_type": "execute_result"
    }
   ],
   "source": [
    "data_sports.head()"
   ]
  },
  {
   "cell_type": "code",
   "execution_count": 86,
   "metadata": {},
   "outputs": [
    {
     "data": {
      "text/plain": [
       "0       20-30\n",
       "1       20-30\n",
       "2       1 - 5\n",
       "3       15-20\n",
       "4       20-40\n",
       "5       20-45\n",
       "6       30-40\n",
       "7       20-30\n",
       "8       45-60\n",
       "9       30-40\n",
       "10      50-60\n",
       "11      30-40\n",
       "12      50-60\n",
       "13      50-60\n",
       "14      30-50\n",
       "15      50-60\n",
       "16      30-40\n",
       "17      50-60\n",
       "18    180-240\n",
       "19      50-60\n",
       "20      50-60\n",
       "21      30-50\n",
       "22      30-50\n",
       "23      30-50\n",
       "24      30-45\n",
       "25      20-30\n",
       "26      50-60\n",
       "27      50-60\n",
       "28      30-50\n",
       "29      20-40\n",
       "30      15-30\n",
       "31      50-60\n",
       "32      15-20\n",
       "33      1 - 5\n",
       "34      1 - 5\n",
       "35      1 - 5\n",
       "36      1 - 5\n",
       "37      1 - 5\n",
       "38      1 - 5\n",
       "39      1 - 5\n",
       "40      1 - 5\n",
       "41      1 - 5\n",
       "42      1 - 5\n",
       "43      1 - 5\n",
       "44      1 - 5\n",
       "45      1 - 5\n",
       "46      1 - 5\n",
       "47      1 - 5\n",
       "48      1 - 5\n",
       "49      1 - 5\n",
       "50      1 - 5\n",
       "51      1 - 5\n",
       "52      1 - 5\n",
       "53      1 - 5\n",
       "54      40-50\n",
       "Name: Duration (Min), dtype: object"
      ]
     },
     "execution_count": 86,
     "metadata": {},
     "output_type": "execute_result"
    }
   ],
   "source": [
    "data_sports['Duration (Min)']"
   ]
  },
  {
   "cell_type": "code",
   "execution_count": 87,
   "metadata": {
    "scrolled": true
   },
   "outputs": [
    {
     "name": "stdout",
     "output_type": "stream",
     "text": [
      "<class 'pandas.core.frame.DataFrame'>\n",
      "Int64Index: 55 entries, 0 to 54\n",
      "Data columns (total 6 columns):\n",
      " #   Column            Non-Null Count  Dtype \n",
      "---  ------            --------------  ----- \n",
      " 0   Sports            55 non-null     object\n",
      " 1   Description       55 non-null     object\n",
      " 2   Duration (Min)    55 non-null     object\n",
      " 3   Location          55 non-null     object\n",
      " 4   Number of people  55 non-null     object\n",
      " 5   Equipment         55 non-null     object\n",
      "dtypes: object(6)\n",
      "memory usage: 3.0+ KB\n"
     ]
    },
    {
     "data": {
      "text/html": [
       "<div>\n",
       "<style scoped>\n",
       "    .dataframe tbody tr th:only-of-type {\n",
       "        vertical-align: middle;\n",
       "    }\n",
       "\n",
       "    .dataframe tbody tr th {\n",
       "        vertical-align: top;\n",
       "    }\n",
       "\n",
       "    .dataframe thead th {\n",
       "        text-align: right;\n",
       "    }\n",
       "</style>\n",
       "<table border=\"1\" class=\"dataframe\">\n",
       "  <thead>\n",
       "    <tr style=\"text-align: right;\">\n",
       "      <th></th>\n",
       "      <th>Sports</th>\n",
       "      <th>Description</th>\n",
       "      <th>Duration (Min)</th>\n",
       "      <th>Location</th>\n",
       "      <th>Number of people</th>\n",
       "      <th>Equipment</th>\n",
       "    </tr>\n",
       "  </thead>\n",
       "  <tbody>\n",
       "    <tr>\n",
       "      <th>count</th>\n",
       "      <td>55</td>\n",
       "      <td>55</td>\n",
       "      <td>55</td>\n",
       "      <td>55</td>\n",
       "      <td>55</td>\n",
       "      <td>55</td>\n",
       "    </tr>\n",
       "    <tr>\n",
       "      <th>unique</th>\n",
       "      <td>55</td>\n",
       "      <td>55</td>\n",
       "      <td>13</td>\n",
       "      <td>2</td>\n",
       "      <td>4</td>\n",
       "      <td>2</td>\n",
       "    </tr>\n",
       "    <tr>\n",
       "      <th>top</th>\n",
       "      <td>Boxing</td>\n",
       "      <td>The movement spread your legs wide apart and b...</td>\n",
       "      <td>1 - 5</td>\n",
       "      <td>Indoor</td>\n",
       "      <td>1</td>\n",
       "      <td>No</td>\n",
       "    </tr>\n",
       "    <tr>\n",
       "      <th>freq</th>\n",
       "      <td>1</td>\n",
       "      <td>1</td>\n",
       "      <td>22</td>\n",
       "      <td>39</td>\n",
       "      <td>40</td>\n",
       "      <td>30</td>\n",
       "    </tr>\n",
       "  </tbody>\n",
       "</table>\n",
       "</div>"
      ],
      "text/plain": [
       "        Sports                                        Description  \\\n",
       "count       55                                                 55   \n",
       "unique      55                                                 55   \n",
       "top     Boxing  The movement spread your legs wide apart and b...   \n",
       "freq         1                                                  1   \n",
       "\n",
       "       Duration (Min) Location Number of people Equipment  \n",
       "count              55       55               55        55  \n",
       "unique             13        2                4         2  \n",
       "top             1 - 5   Indoor                1        No  \n",
       "freq               22       39               40        30  "
      ]
     },
     "execution_count": 87,
     "metadata": {},
     "output_type": "execute_result"
    }
   ],
   "source": [
    "data_sports.info()\n",
    "data_sports.describe()"
   ]
  },
  {
   "cell_type": "code",
   "execution_count": 88,
   "metadata": {},
   "outputs": [],
   "source": [
    "def print_description(index):\n",
    "    example = data_sports[data_sports.index == index][['Description', 'Sports', 'Location','Duration (Min)','Number of people','Equipment']].values[0]\n",
    "    if len(example) > 0:\n",
    "        print(example[0])\n",
    "        print('Sport:', example[1])\n",
    "        print('Location:', example[2]) "
   ]
  },
  {
   "cell_type": "code",
   "execution_count": 89,
   "metadata": {},
   "outputs": [
    {
     "name": "stdout",
     "output_type": "stream",
     "text": [
      "The action of rapidly propelling yourself forward on foot. When running, there is a moment when both feet are off the ground, making it a high-impact exercise.\n",
      "Sport: Running\n",
      "Location: Outdoor\n"
     ]
    }
   ],
   "source": [
    "print_description(1)"
   ]
  },
  {
   "cell_type": "code",
   "execution_count": 90,
   "metadata": {
    "scrolled": false
   },
   "outputs": [
    {
     "name": "stdout",
     "output_type": "stream",
     "text": [
      "The sport of lifting a barbell loaded with weight plates from the ground up.\n",
      "Sport: Weightlifting\n",
      "Location: Indoor\n"
     ]
    }
   ],
   "source": [
    "print_description(5)"
   ]
  },
  {
   "cell_type": "code",
   "execution_count": 91,
   "metadata": {},
   "outputs": [
    {
     "name": "stderr",
     "output_type": "stream",
     "text": [
      "[nltk_data] Downloading package stopwords to\n",
      "[nltk_data]     C:\\Users\\acer\\AppData\\Roaming\\nltk_data...\n",
      "[nltk_data]   Package stopwords is already up-to-date!\n"
     ]
    },
    {
     "data": {
      "text/plain": [
       "True"
      ]
     },
     "execution_count": 91,
     "metadata": {},
     "output_type": "execute_result"
    }
   ],
   "source": [
    "import nltk\n",
    "nltk.download('stopwords')"
   ]
  },
  {
   "cell_type": "code",
   "execution_count": 92,
   "metadata": {},
   "outputs": [],
   "source": [
    "clean_spcl = re.compile('[/(){}\\[\\]\\|@,;]')\n",
    "clean_symbol = re.compile('[^0-9a-z #+_]')\n",
    "stopworda = set(stopwords.words('english'))\n",
    "\n",
    "def clean_text(text):\n",
    "    text = text.lower() # lowercase text\n",
    "    text = clean_spcl.sub(' ', text)\n",
    "    text = clean_symbol.sub('', text)\n",
    "    text = ' '.join(word for word in text.split() if word not in stopworda) # hapus stopword dari kolom deskripsi\n",
    "    return text\n",
    "\n",
    "# Buat kolom tambahan untuk data description yang telah dibersihkan   \n",
    "data_sports['desc_clean'] = data_sports['Description'].apply(clean_text)"
   ]
  },
  {
   "cell_type": "code",
   "execution_count": 93,
   "metadata": {},
   "outputs": [],
   "source": [
    "def print_description_clean(index):\n",
    "    example = data_sports[data_sports.index == index][['desc_clean', 'Sports', 'Location','Duration (Min)','Number of people','Equipment']].values[0]\n",
    "    if len(example) > 0:\n",
    "        print(example[0])\n",
    "        print('Sports:', example[1])\n",
    "        print('Location:', example[2]) "
   ]
  },
  {
   "cell_type": "code",
   "execution_count": 94,
   "metadata": {
    "scrolled": true
   },
   "outputs": [
    {
     "name": "stdout",
     "output_type": "stream",
     "text": [
      "form trotting running slow leisurely pace maintaining steady speed longer periods time\n",
      "Sports: Joging\n",
      "Location: Outdoor\n"
     ]
    }
   ],
   "source": [
    "print_description_clean(0)"
   ]
  },
  {
   "cell_type": "code",
   "execution_count": 95,
   "metadata": {},
   "outputs": [
    {
     "data": {
      "text/plain": [
       "array([[1.        , 0.02008117, 0.02169609, ..., 0.        , 0.        ,\n",
       "        0.        ],\n",
       "       [0.02008117, 1.        , 0.02645305, ..., 0.01195317, 0.        ,\n",
       "        0.01004634],\n",
       "       [0.02169609, 0.02645305, 1.        , ..., 0.02882364, 0.        ,\n",
       "        0.01211277],\n",
       "       ...,\n",
       "       [0.        , 0.01195317, 0.02882364, ..., 1.        , 0.02178624,\n",
       "        0.01130855],\n",
       "       [0.        , 0.        , 0.        , ..., 0.02178624, 1.        ,\n",
       "        0.        ],\n",
       "       [0.        , 0.01004634, 0.01211277, ..., 0.01130855, 0.        ,\n",
       "        1.        ]])"
      ]
     },
     "execution_count": 95,
     "metadata": {},
     "output_type": "execute_result"
    }
   ],
   "source": [
    "data_sports.set_index('Sports', inplace=True)\n",
    "tf = TfidfVectorizer(analyzer='word', ngram_range=(1, 3), min_df=0, stop_words='english')\n",
    "tfidf_matrix = tf.fit_transform(data_sports['desc_clean'])\n",
    "cos_sim = cosine_similarity(tfidf_matrix, tfidf_matrix)\n",
    "cos_sim"
   ]
  },
  {
   "cell_type": "code",
   "execution_count": 96,
   "metadata": {},
   "outputs": [
    {
     "data": {
      "text/plain": [
       "0                  Joging\n",
       "1                 Running\n",
       "2            Jumping Rope\n",
       "3                 Aerobic\n",
       "4                    Yoga\n",
       "5           Weightlifting\n",
       "6       Stationary Biking\n",
       "7               Treadmill\n",
       "8                 Cycling\n",
       "9                 Dancing\n",
       "10             Volleyball\n",
       "11                  Zumba\n",
       "12              Badminton\n",
       "13           Table Tennis\n",
       "14              Taekwondo\n",
       "15                 Tennis\n",
       "16               Swimming\n",
       "17             Basketball\n",
       "18                   Golf\n",
       "19               Football\n",
       "20               Handball\n",
       "21                   Judo\n",
       "22                 Boxing\n",
       "23              Muay thai\n",
       "24       Horseback Riding\n",
       "25                Fencing\n",
       "26                 Hockey\n",
       "27                  Rugbi\n",
       "28              Wrestling\n",
       "29               Pilates \n",
       "30          Wall Climbing\n",
       "31                 Futsal\n",
       "32            Candlestick\n",
       "33        Donkey Kickback\n",
       "34    Elliptical Training\n",
       "35               Crunches\n",
       "36         Shoulder Touch\n",
       "37                 Lunges\n",
       "38              Leg Lifts\n",
       "39               Stepping\n",
       "40           Scissor Kick\n",
       "41               Windmill\n",
       "42            Calf Raises\n",
       "43                  Plank\n",
       "44             Side Plank\n",
       "45           Jumping Jack\n",
       "46                  Squat\n",
       "47                Push-up\n",
       "48                 Sit-up\n",
       "49            Ball Crunch\n",
       "Name: Sports, dtype: object"
      ]
     },
     "execution_count": 96,
     "metadata": {},
     "output_type": "execute_result"
    }
   ],
   "source": [
    "indices = pd.Series(data_sports.index)\n",
    "indices[:50]"
   ]
  },
  {
   "cell_type": "code",
   "execution_count": 97,
   "metadata": {},
   "outputs": [],
   "source": [
    "\n",
    "def recommendations(name, cos_sim = cos_sim):\n",
    "    \n",
    "    recommended_sports = []\n",
    "    \n",
    "    # Mengambil nama hotel berdasarkan variabel indicies\n",
    "    idx = indices[indices == name].index[0]\n",
    "\n",
    "    # Membuat series berdasarkan skor kesamaan\n",
    "    score_series = pd.Series(cos_sim[idx]).sort_values(ascending = False)\n",
    "\n",
    "    # mengambil index dan dibuat 10 baris rekomendasi terbaik\n",
    "    top_10_indexes = list(score_series.iloc[1:11].index)\n",
    "    \n",
    "    for i in top_10_indexes:\n",
    "        recommended_sports.append(list(data_sports.index)[i])\n",
    "        \n",
    "    return recommended_sports"
   ]
  },
  {
   "cell_type": "code",
   "execution_count": 98,
   "metadata": {},
   "outputs": [
    {
     "data": {
      "text/plain": [
       "['Mountain Climbers',\n",
       " 'Futsal',\n",
       " 'Horseback Riding',\n",
       " 'Jumping Rope',\n",
       " 'Pilates ',\n",
       " 'Treadmill',\n",
       " 'Running',\n",
       " 'Aerobic',\n",
       " 'Wall Climbing',\n",
       " 'Boxing']"
      ]
     },
     "execution_count": 98,
     "metadata": {},
     "output_type": "execute_result"
    }
   ],
   "source": [
    "recommendations(\"Joging\")"
   ]
  },
  {
   "cell_type": "code",
   "execution_count": 99,
   "metadata": {},
   "outputs": [
    {
     "data": {
      "text/plain": [
       "['Side Plank',\n",
       " 'Scissor Kick',\n",
       " 'Sit-up',\n",
       " 'Rugbi',\n",
       " 'Wrestling',\n",
       " 'Push-up',\n",
       " 'Donkey Kickback',\n",
       " 'Weightlifting',\n",
       " 'Jumping Jack',\n",
       " 'Knee tuscks']"
      ]
     },
     "execution_count": 99,
     "metadata": {},
     "output_type": "execute_result"
    }
   ],
   "source": [
    "recommendations(\"Plank\")"
   ]
  },
  {
   "cell_type": "markdown",
   "metadata": {},
   "source": []
  }
 ],
 "metadata": {
  "kernelspec": {
   "display_name": "Python 3",
   "language": "python",
   "name": "python3"
  },
  "language_info": {
   "codemirror_mode": {
    "name": "ipython",
    "version": 3
   },
   "file_extension": ".py",
   "mimetype": "text/x-python",
   "name": "python",
   "nbconvert_exporter": "python",
   "pygments_lexer": "ipython3",
   "version": "3.8.3"
  }
 },
 "nbformat": 4,
 "nbformat_minor": 2
}
